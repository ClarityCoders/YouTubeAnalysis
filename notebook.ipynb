{
  "cells": [
    {
      "cell_type": "markdown",
      "source": "# Diving into YouTube Analytics\n\nDeepnote presented a live stream featuring a showcase of how to use Google's YouTube API. We had a few Deepnote coders and a Deepnote user Allan who helped crack the API and start getting data. Below is a project inspired from that stream!\n\nIn this notebook we are going to dive in and check out the popular YouTube channel Good Mythical Morning.<img src=\"https://static.wikia.nocookie.net/logopedia/images/b/b9/R%26L%27s_GMM_2017_logo_%28WithITF%29.png/revision/latest/scale-to-width-down/340?cb=20170818134133\" title=\"GMM\" width=\"5%\" height=\"5%\" />",
      "metadata": {
        "tags": [],
        "cell_id": "00000-0fd89d8b-7f16-4d65-bf52-a91d4f2972e3",
        "deepnote_cell_type": "markdown"
      }
    },
    {
      "cell_type": "markdown",
      "source": "## Imports\n\nIn this section we are going to import our libraries.",
      "metadata": {
        "tags": [],
        "cell_id": "00001-fec6a4fb-0017-4827-8dc6-b95799441d0b",
        "deepnote_cell_type": "markdown"
      }
    },
    {
      "cell_type": "code",
      "metadata": {
        "tags": [],
        "cell_id": "00000-cf26c30e-c874-4d53-83e6-6067a453919c",
        "deepnote_to_be_reexecuted": false,
        "source_hash": "cde0697c",
        "execution_millis": 1480,
        "execution_start": 1615653613784,
        "deepnote_cell_type": "code"
      },
      "source": "from googleapiclient.discovery import build\nimport os\nimport pandas as pd\nimport seaborn as sns\nimport matplotlib.pyplot as plt",
      "execution_count": 1,
      "outputs": []
    },
    {
      "cell_type": "markdown",
      "source": "## Setup\nFirst you will need to create an API key by going to [API signup](https://console.developers.google.com/). Then I created an enviroment variable in Deepnote by selecting integrations on the side menu. Call it whatever you would like and paste in your key. Now we can grab our API key out of our Deepnote integration and setup our youtube variable. ",
      "metadata": {
        "tags": [],
        "cell_id": "00003-604a9faa-b5ea-483d-b45f-7d98c15fd9bb",
        "deepnote_cell_type": "markdown"
      }
    },
    {
      "cell_type": "code",
      "source": "API_KEY = os.environ[\"API\"]\nCHANNEL_ID = \"UC4PooiX37Pld1T8J5SYT-SQ\"\nyoutube = build('youtube', 'v3', developerKey=API_KEY)",
      "metadata": {
        "tags": [],
        "cell_id": "00001-98064131-a605-44f3-a1a8-0ea85317b89c",
        "deepnote_to_be_reexecuted": false,
        "source_hash": "cfb6979e",
        "execution_millis": 23,
        "execution_start": 1615653615267,
        "deepnote_cell_type": "code"
      },
      "outputs": [],
      "execution_count": 2
    },
    {
      "cell_type": "markdown",
      "source": "## API Functions\n\nIn this section we setup some API functions to help us gather data. We create a function to gather channel stats and video stats. To do this in a effecient way and save API calls we do not use the search function. We pull in GMM's upload playlist ( containing all of their videos ) and use that to build a video list. Then grab the data from each video. ",
      "metadata": {
        "tags": [],
        "cell_id": "00005-963658ba-be5f-42c6-bc32-e01e4fb5dbe4",
        "deepnote_cell_type": "markdown"
      }
    },
    {
      "cell_type": "code",
      "source": "# Function to get the channels stats\n# It will also contain the upload playlist ID we can use to grab videos.\ndef get_channel_stats(youtube, channel_id):\n    request = youtube.channels().list(\n        part=\"snippet,contentDetails,statistics\",\n        id=channel_id\n    )\n    response = request.execute()\n    \n    return response['items']",
      "metadata": {
        "tags": [],
        "cell_id": "00002-c3043138-a84d-4965-b086-9ec38b6fcad4",
        "deepnote_to_be_reexecuted": false,
        "source_hash": "d4a4caa9",
        "execution_millis": 0,
        "execution_start": 1615653615295,
        "deepnote_cell_type": "code"
      },
      "outputs": [],
      "execution_count": 3
    },
    {
      "cell_type": "code",
      "source": "# This will get us a list of videos from a playlist.\n# Note a page of results has a max value of 50 so we will\n# need to loop over our results with a pageToken\n\ndef get_video_list(youtube, upload_id):\n    video_list = []\n    request = youtube.playlistItems().list(\n        part=\"snippet,contentDetails\",\n        playlistId=upload_id,\n        maxResults=50\n    )\n    next_page = True\n    while next_page:\n        response = request.execute()\n        data = response['items']\n\n        for video in data:\n            video_id = video['contentDetails']['videoId']\n            if video_id not in video_list:\n                video_list.append(video_id)\n\n        # Do we have more pages?\n        if 'nextPageToken' in response.keys():\n            next_page = True\n            request = youtube.playlistItems().list(\n                part=\"snippet,contentDetails\",\n                playlistId=upload_id,\n                pageToken=response['nextPageToken'],\n                maxResults=50\n            )\n        else:\n            next_page = False\n\n    return video_list",
      "metadata": {
        "tags": [],
        "cell_id": "00004-6a01d9fe-4176-413b-a082-411ab8b77425",
        "deepnote_to_be_reexecuted": false,
        "source_hash": "10f37c59",
        "execution_millis": 1,
        "execution_start": 1615655810675,
        "deepnote_cell_type": "code"
      },
      "outputs": [],
      "execution_count": 21
    },
    {
      "cell_type": "code",
      "source": "# Once we have our video list we can pass it to this function to get details.\n# Again we have a max of 50 at a time so we will use a for loop to break up our list. \n\ndef get_video_details(youtube, video_list):\n    stats_list=[]\n\n    # Can only get 50 videos at a time.\n    for i in range(0, len(video_list), 50):\n        request= youtube.videos().list(\n            part=\"snippet,contentDetails,statistics\",\n            id=video_list[i:i+50]\n        )\n\n        data = request.execute()\n        for video in data['items']:\n            title=video['snippet']['title']\n            published=video['snippet']['publishedAt']\n            description=video['snippet']['description']\n            tag_count= len(video['snippet']['tags'])\n            view_count=video['statistics'].get('viewCount',0)\n            like_count=video['statistics'].get('likeCount',0)\n            dislike_count=video['statistics'].get('dislikeCount',0)\n            comment_count=video['statistics'].get('commentCount',0)\n            stats_dict=dict(title=title, description=description, published=published, tag_count=tag_count, view_count=view_count, like_count=like_count, dislike_count=dislike_count, comment_count=comment_count)\n            stats_list.append(stats_dict)\n\n    return stats_list",
      "metadata": {
        "tags": [],
        "cell_id": "00004-f9d167ad-afa6-4135-aff3-1e2e6886ee64",
        "deepnote_to_be_reexecuted": false,
        "source_hash": "26c52398",
        "execution_millis": 9,
        "execution_start": 1615655864507,
        "deepnote_cell_type": "code"
      },
      "outputs": [],
      "execution_count": 22
    },
    {
      "cell_type": "markdown",
      "source": "### Create our channel stats",
      "metadata": {
        "tags": [],
        "cell_id": "00009-088dab44-ebd7-4374-a1b7-1fed294ad359",
        "deepnote_cell_type": "markdown"
      }
    },
    {
      "cell_type": "code",
      "source": "channel_stats = get_channel_stats(youtube, CHANNEL_ID)",
      "metadata": {
        "tags": [],
        "cell_id": "00003-71a9cf32-2975-4a92-8a9e-d52db1d252cd",
        "deepnote_to_be_reexecuted": false,
        "source_hash": "fbd839ba",
        "execution_millis": 77,
        "execution_start": 1615653615355,
        "deepnote_cell_type": "code"
      },
      "outputs": [],
      "execution_count": 6
    },
    {
      "cell_type": "markdown",
      "source": "### Find our upload playlist ( will contain all video uploads )",
      "metadata": {
        "tags": [],
        "cell_id": "00011-c55ffc37-28a9-4a42-b29c-c106b0bf6e23",
        "deepnote_cell_type": "markdown"
      }
    },
    {
      "cell_type": "code",
      "source": "upload_id = channel_stats[0]['contentDetails']['relatedPlaylists']['uploads']\nupload_id",
      "metadata": {
        "tags": [],
        "cell_id": "00005-926ce066-233c-46ad-bdde-20cff50f74ab",
        "deepnote_to_be_reexecuted": false,
        "source_hash": "d32b7d36",
        "execution_millis": 15,
        "execution_start": 1615653615476,
        "deepnote_cell_type": "code"
      },
      "outputs": [
        {
          "output_type": "execute_result",
          "execution_count": 7,
          "data": {
            "text/plain": "'UU4PooiX37Pld1T8J5SYT-SQ'"
          },
          "metadata": {}
        }
      ],
      "execution_count": 7
    },
    {
      "cell_type": "markdown",
      "source": "### Get our Video List",
      "metadata": {
        "tags": [],
        "cell_id": "00013-848b9a8a-4d04-4e28-8786-88dc0c6ae902",
        "deepnote_cell_type": "markdown"
      }
    },
    {
      "cell_type": "code",
      "source": "video_list = get_video_list(youtube, upload_id)",
      "metadata": {
        "tags": [],
        "cell_id": "00007-dc257d04-5a88-4be3-8fa0-a9e37ecacbe0",
        "deepnote_to_be_reexecuted": false,
        "source_hash": "cdeb39ea",
        "execution_millis": 4340,
        "execution_start": 1615653615476,
        "deepnote_cell_type": "code"
      },
      "outputs": [],
      "execution_count": 8
    },
    {
      "cell_type": "markdown",
      "source": "### Get our Video Details\n\nFinally we will get all of our videos details returned in a dictionary.",
      "metadata": {
        "tags": [],
        "cell_id": "00015-8f3b99d5-05c3-4287-be85-ddbd04215b62",
        "deepnote_cell_type": "markdown"
      }
    },
    {
      "cell_type": "code",
      "source": "video_data = get_video_details(youtube, video_list)",
      "metadata": {
        "tags": [],
        "cell_id": "00009-ca5beca7-0864-4b2d-b36b-f7aea7ba7d77",
        "deepnote_to_be_reexecuted": false,
        "source_hash": "8d88031b",
        "execution_millis": 13628,
        "execution_start": 1615653619823,
        "deepnote_cell_type": "code"
      },
      "outputs": [],
      "execution_count": 9
    },
    {
      "cell_type": "markdown",
      "source": "## Creating Visualizations\nIn this section we will covert our data to pandas dataframe and start visualizing. I have also created a CSV of data in the cell below if you don't want to do the API calls yourself.",
      "metadata": {
        "tags": [],
        "cell_id": "00017-b8628aa6-89c6-4965-95d6-4a72925ac86c",
        "deepnote_cell_type": "markdown"
      }
    },
    {
      "cell_type": "code",
      "source": "df=pd.DataFrame(video_data)\ndf['title_length'] = df['title'].str.len()\ndf[\"view_count\"] = pd.to_numeric(df[\"view_count\"])\ndf[\"like_count\"] = pd.to_numeric(df[\"like_count\"])\ndf[\"dislike_count\"] = pd.to_numeric(df[\"dislike_count\"])\ndf[\"comment_count\"] = pd.to_numeric(df[\"comment_count\"])\n# reaction used later add up likes + dislikes + comments\ndf[\"reactions\"] = df[\"like_count\"] + df[\"dislike_count\"] + df[\"comment_count\"] + df[\"comment_count\"]\ndf.to_csv(\"GMM-Data.csv\")\ndf.head()",
      "metadata": {
        "tags": [],
        "cell_id": "00011-3420e5ba-0d23-4315-9418-d6ef9d63af17",
        "deepnote_to_be_reexecuted": false,
        "source_hash": "e56244ba",
        "execution_millis": 437,
        "execution_start": 1615654075949,
        "deepnote_cell_type": "code"
      },
      "outputs": [
        {
          "output_type": "execute_result",
          "execution_count": 20,
          "data": {
            "application/vnd.deepnote.dataframe.v2+json": {
              "row_count": 5,
              "column_count": 10,
              "columns": [
                {
                  "name": "title",
                  "dtype": "object",
                  "stats": {
                    "unique_count": 5,
                    "nan_count": 0,
                    "categories": [
                      {
                        "name": "Carbonated Food Taste Test",
                        "count": 1
                      },
                      {
                        "name": "Who Can Make The Loudest Noise? (Challenge)",
                        "count": 1
                      },
                      {
                        "name": "3 others",
                        "count": 3
                      }
                    ]
                  }
                },
                {
                  "name": "description",
                  "dtype": "object",
                  "stats": {
                    "unique_count": 5,
                    "nan_count": 0,
                    "categories": [
                      {
                        "name": "Today, we're eatin some carbonated food. GMM # 1924\n\nCheck out the Mythical Kitchen - https://www.youtube.com/mythicalkitchen\nListen to the MK Food Debate Podcast - https://www.mythical.com/hotdog\n\nSubscribe to GMM: https://www.youtube.com/goodmythicalmorning?sub_confirmation=1\n\nWatch today's GMMORE: https://youtu.be/6E3-MRnh8TQ\nClick the bell icon so you'll know when we add a new episode!\n\nWant more GMM? Check out these playlists:\nSeason 17 - https://www.youtube.com/playlist?list=PLJ49NV73ttrvKwXQjGntFUjtYdhLcXaiu\nSeason 16 - https://www.youtube.com/playlist?list=PLJ49NV73ttrvCQhgIj1Ovt3g0PBlO18s2\nWill It? - https://www.youtube.com/playlist?list=PLJ49NV73ttrucP6jJ1gjSqHmhlmvkdZuf\nTaste Tests! - https://www.youtube.com/playlist?list=PLJ49NV73ttrsUefw67wH_pnEJ5KwJZ7lN\n\nGet a copy of our novel, The Lost Causes of Bleak Creek @ http://www.bleakcreek.com\n\nPick up official GMM and Mythical merch at https://mythical.com\nand https://www.amazon.com/mythical\n\nDon’t miss our weekly podcast, Ear Biscuits: https://applepodcasts.com/earbiscuits\n\nJoin the Mythical Society: https://www.mythicalsociety.com\n\nFollow Mythical:\nInstagram: https://instagram.com/mythical\nFacebook: https://facebook.com/mythical\nTwitter: https://twitter.com/mythical\nWebsite: https://mythical.com\n\nCheck Out Our Other Mythical Channels:\nMythical Kitchen: https://youtube.com/mythicalkitchen\nRhett & Link: https://youtube.com/rhettandlink\nGood Mythical MORE: https://youtube.com/goodmythicalmore\n\nWant to send us something? https://mythical.com/contact\n\nSubmit your Wheel of Mythicality video here: http://bit.ly/GMMWheelIntroSUBMISSIONS\n\nIntro Animation by Matthew Dwyer https://dwy.me and Mike Pasley https://DigitalTwigs.com\nIntro & Outro Music by Mark Byers http://www.markaholic.com\n\nGet the GMM Set Gear!\n* Apple AirPort Extreme: https://amzn.to/2NnIvvk\n* Apple iPad Pro (12.9-inch, Wi-Fi, 64GB) - Space Gray (Latest Model) - MTEL2LL/A: https://amzn.to/2NnKXlw\n* Guardian Industrial Products DH-CP-4 3 Channel Rubber Cable Ramp (Straight): https://amzn.to/2NdshoR\n* Cartoni Focus HD Fluid Head with 3 Tube Ultra-Light Tripod, Mid-Level Spreader and Soft Case - Black: https://amzn.to/2X4i7X8\n* ARRI SkyPanel S60-C LED Softlight (Blue/Silver, Edison): https://amzn.to/2YgM3km\n* Chef-Master 90050 Professional Heat Lamp, Silver: https://amzn.to/2Xa1Wwr\n* Samsung UN40H5003 40-Inch 1080p LED TV (2014 Model): https://amzn.to/2NdMU4e\n* Sony LMDA170 17\" Production Video LCD Monitor, 16:9 Native Aspect Ratio, 1080p Resolution: https://amzn.to/2YlB9tH\n* Behringer Xenyx 1002 Premium 10-Input 2-Bus Mixer with XENYX Mic Preamps and British Eqs: https://amzn.to/2Yeeqzl\n* Elgato Game Capture Card HD60 S - Stream and Record in 1080p60, for PlayStation 4, Xbox One & Xbox 360 (Renewed): https://amzn.to/2NdOBP6\n* Pyle Universal Speaker Stand Mount Holder - Heavy Duty Tripod w/ Adjustable Height from 40” to 71” and 35mm Compatible Insert - Easy Mobility Safety PIN and Knob Tension Locking for Stability PSTND2: https://amzn.to/2JcCpce\n* JBL EON612 Portable 12\" 2-Way Multipurpose Self-Powered Sound Reinforcement: https://amzn.to/2Ndluvm\n* Bolt 500 XT 3G-SDI/HDMI Wireless TX/RX: https://amzn.to/2J1OeSk\n* Voigtlaender 17,5/0,95 Nokton 17.5 mm-17.5 mm Lens: https://amzn.to/2JjUCEP\n* Blackmagic Design Micro Converter SDI to HDMI (with Power Supply) BMD-CONVCMIC/SH/WPSU: https://amzn.to/2J6iw6y\n* Panasonic H-HSA35100 F2.8 II ASPH 35-100mm Mirrorless Micro Four Thirds Mount POWER Optical I.S. LUMIX G X VARIO Professional Lens: https://amzn.to/2RAhIul\n* PANASONIC LUMIX Professional 12-35mm Camera Lens G X VARIO II, F2.8 ASPH, Dual I.S. 2.0 with Power O.I.S., Mirrorless Micro Four Thirds, H-HSA12035 (2017 Model, Black): https://amzn.to/2J9WH5S\n* Decimator Design DMON-12S | 12 Channel Multi Viewer with HDMI SDI Outputs: https://amzn.to/2J9Xkwg\n* Decimator MD-HX HDMI and SDI Cross Converter with Scaling & Frame Rate Conversion: https://amzn.to/2Ymj52c\n* PANASONIC LUMIX GH4 Body 4K Mirrorless Camera, 16 Megapixels, 3 Inch Touch LCD, DMC-GH4KBODY (USA Black): https://amzn.to/2WZjlD6\n* Blue Microphones Mouse Microphone Kc: https://amzn.to/2Ybu12I",
                        "count": 1
                      },
                      {
                        "name": "In today's game, we're seeing who can make the loudest noise. GMM # 1923\n\nSubscribe to GMM: https://www.youtube.com/goodmythicalmorning?sub_confirmation=1\n\nWatch today's GMMORE: https://youtu.be/2Nl59SR_U1Y\nClick the bell icon so you'll know when we add a new episode!\n\nWant more GMM? Check out these playlists:\nSeason 17 - https://www.youtube.com/playlist?list=PLJ49NV73ttrvKwXQjGntFUjtYdhLcXaiu\nSeason 16 - https://www.youtube.com/playlist?list=PLJ49NV73ttrvCQhgIj1Ovt3g0PBlO18s2\nWill It? - https://www.youtube.com/playlist?list=PLJ49NV73ttrucP6jJ1gjSqHmhlmvkdZuf\nTaste Tests! - https://www.youtube.com/playlist?list=PLJ49NV73ttrsUefw67wH_pnEJ5KwJZ7lN\n\nGet a copy of our novel, The Lost Causes of Bleak Creek @ http://www.bleakcreek.com\n\nPick up official GMM and Mythical merch at https://mythical.com\nand https://www.amazon.com/mythical\n\nDon’t miss our weekly podcast, Ear Biscuits: https://applepodcasts.com/earbiscuits\n\nJoin the Mythical Society: https://www.mythicalsociety.com\n\nFollow Mythical:\nInstagram: https://instagram.com/mythical\nFacebook: https://facebook.com/mythical\nTwitter: https://twitter.com/mythical\nWebsite: https://mythical.com\n\nCheck Out Our Other Mythical Channels:\nMythical Kitchen: https://youtube.com/mythicalkitchen\nRhett & Link: https://youtube.com/rhettandlink\nGood Mythical MORE: https://youtube.com/goodmythicalmore\n\nWant to send us something? https://mythical.com/contact\n\nSubmit your Wheel of Mythicality video here: http://bit.ly/GMMWheelIntroSUBMISSIONS\n\nIntro Animation by Matthew Dwyer https://dwy.me and Mike Pasley https://DigitalTwigs.com\nIntro & Outro Music by Mark Byers http://www.markaholic.com\n\nGet the GMM Set Gear!\n* Apple AirPort Extreme: https://amzn.to/2NnIvvk\n* Apple iPad Pro (12.9-inch, Wi-Fi, 64GB) - Space Gray (Latest Model) - MTEL2LL/A: https://amzn.to/2NnKXlw\n* Guardian Industrial Products DH-CP-4 3 Channel Rubber Cable Ramp (Straight): https://amzn.to/2NdshoR\n* Cartoni Focus HD Fluid Head with 3 Tube Ultra-Light Tripod, Mid-Level Spreader and Soft Case - Black: https://amzn.to/2X4i7X8\n* ARRI SkyPanel S60-C LED Softlight (Blue/Silver, Edison): https://amzn.to/2YgM3km\n* Chef-Master 90050 Professional Heat Lamp, Silver: https://amzn.to/2Xa1Wwr\n* Samsung UN40H5003 40-Inch 1080p LED TV (2014 Model): https://amzn.to/2NdMU4e\n* Sony LMDA170 17\" Production Video LCD Monitor, 16:9 Native Aspect Ratio, 1080p Resolution: https://amzn.to/2YlB9tH\n* Behringer Xenyx 1002 Premium 10-Input 2-Bus Mixer with XENYX Mic Preamps and British Eqs: https://amzn.to/2Yeeqzl\n* Elgato Game Capture Card HD60 S - Stream and Record in 1080p60, for PlayStation 4, Xbox One & Xbox 360 (Renewed): https://amzn.to/2NdOBP6\n* Pyle Universal Speaker Stand Mount Holder - Heavy Duty Tripod w/ Adjustable Height from 40” to 71” and 35mm Compatible Insert - Easy Mobility Safety PIN and Knob Tension Locking for Stability PSTND2: https://amzn.to/2JcCpce\n* JBL EON612 Portable 12\" 2-Way Multipurpose Self-Powered Sound Reinforcement: https://amzn.to/2Ndluvm\n* Bolt 500 XT 3G-SDI/HDMI Wireless TX/RX: https://amzn.to/2J1OeSk\n* Voigtlaender 17,5/0,95 Nokton 17.5 mm-17.5 mm Lens: https://amzn.to/2JjUCEP\n* Blackmagic Design Micro Converter SDI to HDMI (with Power Supply) BMD-CONVCMIC/SH/WPSU: https://amzn.to/2J6iw6y\n* Panasonic H-HSA35100 F2.8 II ASPH 35-100mm Mirrorless Micro Four Thirds Mount POWER Optical I.S. LUMIX G X VARIO Professional Lens: https://amzn.to/2RAhIul\n* PANASONIC LUMIX Professional 12-35mm Camera Lens G X VARIO II, F2.8 ASPH, Dual I.S. 2.0 with Power O.I.S., Mirrorless Micro Four Thirds, H-HSA12035 (2017 Model, Black): https://amzn.to/2J9WH5S\n* Decimator Design DMON-12S | 12 Channel Multi Viewer with HDMI SDI Outputs: https://amzn.to/2J9Xkwg\n* Decimator MD-HX HDMI and SDI Cross Converter with Scaling & Frame Rate Conversion: https://amzn.to/2Ymj52c\n* PANASONIC LUMIX GH4 Body 4K Mirrorless Camera, 16 Megapixels, 3 Inch Touch LCD, DMC-GH4KBODY (USA Black): https://amzn.to/2WZjlD6\n* Blue Microphones Mouse Microphone Kc: https://amzn.to/2Ybu12I",
                        "count": 1
                      },
                      {
                        "name": "3 others",
                        "count": 3
                      }
                    ]
                  }
                },
                {
                  "name": "published",
                  "dtype": "object",
                  "stats": {
                    "unique_count": 5,
                    "nan_count": 0,
                    "categories": [
                      {
                        "name": "2021-03-12T11:00:18Z",
                        "count": 1
                      },
                      {
                        "name": "2021-03-11T11:00:13Z",
                        "count": 1
                      },
                      {
                        "name": "3 others",
                        "count": 3
                      }
                    ]
                  }
                },
                {
                  "name": "tag_count",
                  "dtype": "int64",
                  "stats": {
                    "unique_count": 1,
                    "nan_count": 0,
                    "min": 12,
                    "max": 12,
                    "histogram": [
                      {
                        "bin_start": 11.5,
                        "bin_end": 11.6,
                        "count": 0
                      },
                      {
                        "bin_start": 11.6,
                        "bin_end": 11.7,
                        "count": 0
                      },
                      {
                        "bin_start": 11.7,
                        "bin_end": 11.8,
                        "count": 0
                      },
                      {
                        "bin_start": 11.8,
                        "bin_end": 11.9,
                        "count": 0
                      },
                      {
                        "bin_start": 11.9,
                        "bin_end": 12,
                        "count": 0
                      },
                      {
                        "bin_start": 12,
                        "bin_end": 12.1,
                        "count": 5
                      },
                      {
                        "bin_start": 12.1,
                        "bin_end": 12.2,
                        "count": 0
                      },
                      {
                        "bin_start": 12.2,
                        "bin_end": 12.3,
                        "count": 0
                      },
                      {
                        "bin_start": 12.3,
                        "bin_end": 12.4,
                        "count": 0
                      },
                      {
                        "bin_start": 12.4,
                        "bin_end": 12.5,
                        "count": 0
                      }
                    ]
                  }
                },
                {
                  "name": "view_count",
                  "dtype": "int64",
                  "stats": {
                    "unique_count": 5,
                    "nan_count": 0,
                    "min": 699012,
                    "max": 1651567,
                    "histogram": [
                      {
                        "bin_start": 699012,
                        "bin_end": 794267.5,
                        "count": 2
                      },
                      {
                        "bin_start": 794267.5,
                        "bin_end": 889523,
                        "count": 1
                      },
                      {
                        "bin_start": 889523,
                        "bin_end": 984778.5,
                        "count": 0
                      },
                      {
                        "bin_start": 984778.5,
                        "bin_end": 1080034,
                        "count": 0
                      },
                      {
                        "bin_start": 1080034,
                        "bin_end": 1175289.5,
                        "count": 1
                      },
                      {
                        "bin_start": 1175289.5,
                        "bin_end": 1270545,
                        "count": 0
                      },
                      {
                        "bin_start": 1270545,
                        "bin_end": 1365800.5,
                        "count": 0
                      },
                      {
                        "bin_start": 1365800.5,
                        "bin_end": 1461056,
                        "count": 0
                      },
                      {
                        "bin_start": 1461056,
                        "bin_end": 1556311.5,
                        "count": 0
                      },
                      {
                        "bin_start": 1556311.5,
                        "bin_end": 1651567,
                        "count": 1
                      }
                    ]
                  }
                },
                {
                  "name": "like_count",
                  "dtype": "int64",
                  "stats": {
                    "unique_count": 5,
                    "nan_count": 0,
                    "min": 26996,
                    "max": 54782,
                    "histogram": [
                      {
                        "bin_start": 26996,
                        "bin_end": 29774.6,
                        "count": 2
                      },
                      {
                        "bin_start": 29774.6,
                        "bin_end": 32553.2,
                        "count": 0
                      },
                      {
                        "bin_start": 32553.2,
                        "bin_end": 35331.8,
                        "count": 1
                      },
                      {
                        "bin_start": 35331.8,
                        "bin_end": 38110.4,
                        "count": 0
                      },
                      {
                        "bin_start": 38110.4,
                        "bin_end": 40889,
                        "count": 1
                      },
                      {
                        "bin_start": 40889,
                        "bin_end": 43667.6,
                        "count": 0
                      },
                      {
                        "bin_start": 43667.6,
                        "bin_end": 46446.2,
                        "count": 0
                      },
                      {
                        "bin_start": 46446.2,
                        "bin_end": 49224.8,
                        "count": 0
                      },
                      {
                        "bin_start": 49224.8,
                        "bin_end": 52003.399999999994,
                        "count": 0
                      },
                      {
                        "bin_start": 52003.399999999994,
                        "bin_end": 54782,
                        "count": 1
                      }
                    ]
                  }
                },
                {
                  "name": "dislike_count",
                  "dtype": "int64",
                  "stats": {
                    "unique_count": 5,
                    "nan_count": 0,
                    "min": 350,
                    "max": 1073,
                    "histogram": [
                      {
                        "bin_start": 350,
                        "bin_end": 422.3,
                        "count": 1
                      },
                      {
                        "bin_start": 422.3,
                        "bin_end": 494.6,
                        "count": 1
                      },
                      {
                        "bin_start": 494.6,
                        "bin_end": 566.9,
                        "count": 0
                      },
                      {
                        "bin_start": 566.9,
                        "bin_end": 639.2,
                        "count": 1
                      },
                      {
                        "bin_start": 639.2,
                        "bin_end": 711.5,
                        "count": 0
                      },
                      {
                        "bin_start": 711.5,
                        "bin_end": 783.8,
                        "count": 1
                      },
                      {
                        "bin_start": 783.8,
                        "bin_end": 856.0999999999999,
                        "count": 0
                      },
                      {
                        "bin_start": 856.0999999999999,
                        "bin_end": 928.4,
                        "count": 0
                      },
                      {
                        "bin_start": 928.4,
                        "bin_end": 1000.6999999999999,
                        "count": 0
                      },
                      {
                        "bin_start": 1000.6999999999999,
                        "bin_end": 1073,
                        "count": 1
                      }
                    ]
                  }
                },
                {
                  "name": "comment_count",
                  "dtype": "int64",
                  "stats": {
                    "unique_count": 5,
                    "nan_count": 0,
                    "min": 1154,
                    "max": 2366,
                    "histogram": [
                      {
                        "bin_start": 1154,
                        "bin_end": 1275.2,
                        "count": 1
                      },
                      {
                        "bin_start": 1275.2,
                        "bin_end": 1396.4,
                        "count": 1
                      },
                      {
                        "bin_start": 1396.4,
                        "bin_end": 1517.6,
                        "count": 0
                      },
                      {
                        "bin_start": 1517.6,
                        "bin_end": 1638.8,
                        "count": 0
                      },
                      {
                        "bin_start": 1638.8,
                        "bin_end": 1760,
                        "count": 0
                      },
                      {
                        "bin_start": 1760,
                        "bin_end": 1881.2,
                        "count": 1
                      },
                      {
                        "bin_start": 1881.2,
                        "bin_end": 2002.4,
                        "count": 0
                      },
                      {
                        "bin_start": 2002.4,
                        "bin_end": 2123.6,
                        "count": 0
                      },
                      {
                        "bin_start": 2123.6,
                        "bin_end": 2244.8,
                        "count": 0
                      },
                      {
                        "bin_start": 2244.8,
                        "bin_end": 2366,
                        "count": 2
                      }
                    ]
                  }
                },
                {
                  "name": "title_length",
                  "dtype": "int64",
                  "stats": {
                    "unique_count": 5,
                    "nan_count": 0,
                    "min": 26,
                    "max": 52,
                    "histogram": [
                      {
                        "bin_start": 26,
                        "bin_end": 28.6,
                        "count": 1
                      },
                      {
                        "bin_start": 28.6,
                        "bin_end": 31.2,
                        "count": 0
                      },
                      {
                        "bin_start": 31.2,
                        "bin_end": 33.8,
                        "count": 0
                      },
                      {
                        "bin_start": 33.8,
                        "bin_end": 36.4,
                        "count": 1
                      },
                      {
                        "bin_start": 36.4,
                        "bin_end": 39,
                        "count": 0
                      },
                      {
                        "bin_start": 39,
                        "bin_end": 41.6,
                        "count": 0
                      },
                      {
                        "bin_start": 41.6,
                        "bin_end": 44.2,
                        "count": 2
                      },
                      {
                        "bin_start": 44.2,
                        "bin_end": 46.8,
                        "count": 0
                      },
                      {
                        "bin_start": 46.8,
                        "bin_end": 49.400000000000006,
                        "count": 0
                      },
                      {
                        "bin_start": 49.400000000000006,
                        "bin_end": 52,
                        "count": 1
                      }
                    ]
                  }
                },
                {
                  "name": "reactions",
                  "dtype": "int64",
                  "stats": {
                    "unique_count": 5,
                    "nan_count": 0,
                    "min": 30122,
                    "max": 60107,
                    "histogram": [
                      {
                        "bin_start": 30122,
                        "bin_end": 33120.5,
                        "count": 2
                      },
                      {
                        "bin_start": 33120.5,
                        "bin_end": 36119,
                        "count": 0
                      },
                      {
                        "bin_start": 36119,
                        "bin_end": 39117.5,
                        "count": 1
                      },
                      {
                        "bin_start": 39117.5,
                        "bin_end": 42116,
                        "count": 0
                      },
                      {
                        "bin_start": 42116,
                        "bin_end": 45114.5,
                        "count": 1
                      },
                      {
                        "bin_start": 45114.5,
                        "bin_end": 48113,
                        "count": 0
                      },
                      {
                        "bin_start": 48113,
                        "bin_end": 51111.5,
                        "count": 0
                      },
                      {
                        "bin_start": 51111.5,
                        "bin_end": 54110,
                        "count": 0
                      },
                      {
                        "bin_start": 54110,
                        "bin_end": 57108.5,
                        "count": 0
                      },
                      {
                        "bin_start": 57108.5,
                        "bin_end": 60107,
                        "count": 1
                      }
                    ]
                  }
                },
                {
                  "name": "_deepnote_index_column",
                  "dtype": "int64"
                }
              ],
              "rows_top": [
                {
                  "title": "Carbonated Food Taste Test",
                  "description": "Today, we're eatin some carbonated food. GMM # 1924\n\nCheck out the Mythical Kitchen - https://www.youtube.com/mythicalkitchen\nListen to the MK Food Debate Podcast - https://www.mythical.com/hotdog\n\nSubscribe to GMM: https://www.youtube.com/goodmythicalmorning?sub_confirmation=1\n\nWatch today's GMMORE: https://youtu.be/6E3-MRnh8TQ\nClick the bell icon so you'll know when we add a new episode!\n\nWant more GMM? Check out these playlists:\nSeason 17 - https://www.youtube.com/playlist?list=PLJ49NV73ttrvKwXQjGntFUjtYdhLcXaiu\nSeason 16 - https://www.youtube.com/playlist?list=PLJ49NV73ttrvCQhgIj1Ovt3g0PBlO18s2\nWill It? - https://www.youtube.com/playlist?list=PLJ49NV73ttrucP6jJ1gjSqHmhlmvkdZuf\nTaste Tests! - https://www.youtube.com/playlist?list=PLJ49NV73ttrsUefw67wH_pnEJ5KwJZ7lN\n\nGet a copy of our novel, The Lost Causes of Bleak Creek @ http://www.bleakcreek.com\n\nPick up official GMM and Mythical merch at https://mythical.com\nand https://www.amazon.com/mythical\n\nDon’t miss our weekly podcast, Ear Biscuits: https://applepodcasts.com/earbiscuits\n\nJoin the Mythical Society: https://www.mythicalsociety.com\n\nFollow Mythical:\nInstagram: https://instagram.com/mythical\nFacebook: https://facebook.com/mythical\nTwitter: https://twitter.com/mythical\nWebsite: https://mythical.com\n\nCheck Out Our Other Mythical Channels:\nMythical Kitchen: https://youtube.com/mythicalkitchen\nRhett & Link: https://youtube.com/rhettandlink\nGood Mythical MORE: https://youtube.com/goodmythicalmore\n\nWant to send us something? https://mythical.com/contact\n\nSubmit your Wheel of Mythicality video here: http://bit.ly/GMMWheelIntroSUBMISSIONS\n\nIntro Animation by Matthew Dwyer https://dwy.me and Mike Pasley https://DigitalTwigs.com\nIntro & Outro Music by Mark Byers http://www.markaholic.com\n\nGet the GMM Set Gear!\n* Apple AirPort Extreme: https://amzn.to/2NnIvvk\n* Apple iPad Pro (12.9-inch, Wi-Fi, 64GB) - Space Gray (Latest Model) - MTEL2LL/A: https://amzn.to/2NnKXlw\n* Guardian Industrial Products DH-CP-4 3 Channel Rubber Cable Ramp (Straight): https://amzn.to/2NdshoR\n* Cartoni Focus HD Fluid Head with 3 Tube Ultra-Light Tripod, Mid-Level Spreader and Soft Case - Black: https://amzn.to/2X4i7X8\n* ARRI SkyPanel S60-C LED Softlight (Blue/Silver, Edison): https://amzn.to/2YgM3km\n* Chef-Master 90050 Professional Heat Lamp, Silver: https://amzn.to/2Xa1Wwr\n* Samsung UN40H5003 40-Inch 1080p LED TV (2014 Model): https://amzn.to/2NdMU4e\n* Sony LMDA170 17\" Production Video LCD Monitor, 16:9 Native Aspect Ratio, 1080p Resolution: https://amzn.to/2YlB9tH\n* Behringer Xenyx 1002 Premium 10-Input 2-Bus Mixer with XENYX Mic Preamps and British Eqs: https://amzn.to/2Yeeqzl\n* Elgato Game Capture Card HD60 S - Stream and Record in 1080p60, for PlayStation 4, Xbox One & Xbox 360 (Renewed): https://amzn.to/2NdOBP6\n* Pyle Universal Speaker Stand Mount Holder - Heavy Duty Tripod w/ Adjustable Height from 40” to 71” and 35mm Compatible Insert - Easy Mobility Safety PIN and Knob Tension Locking for Stability PSTND2: https://amzn.to/2JcCpce\n* JBL EON612 Portable 12\" 2-Way Multipurpose Self-Powered Sound Reinforcement: https://amzn.to/2Ndluvm\n* Bolt 500 XT 3G-SDI/HDMI Wireless TX/RX: https://amzn.to/2J1OeSk\n* Voigtlaender 17,5/0,95 Nokton 17.5 mm-17.5 mm Lens: https://amzn.to/2JjUCEP\n* Blackmagic Design Micro Converter SDI to HDMI (with Power Supply) BMD-CONVCMIC/SH/WPSU: https://amzn.to/2J6iw6y\n* Panasonic H-HSA35100 F2.8 II ASPH 35-100mm Mirrorless Micro Four Thirds Mount POWER Optical I.S. LUMIX G X VARIO Professional Lens: https://amzn.to/2RAhIul\n* PANASONIC LUMIX Professional 12-35mm Camera Lens G X VARIO II, F2.8 ASPH, Dual I.S. 2.0 with Power O.I.S., Mirrorless Micro Four Thirds, H-HSA12035 (2017 Model, Black): https://amzn.to/2J9WH5S\n* Decimator Design DMON-12S | 12 Channel Multi Viewer with HDMI SDI Outputs: https://amzn.to/2J9Xkwg\n* Decimator MD-HX HDMI and SDI Cross Converter with Scaling & Frame Rate Conversion: https://amzn.to/2Ymj52c\n* PANASONIC LUMIX GH4 Body 4K Mirrorless Camera, 16 Megapixels, 3 Inch Touch LCD, DMC-GH4KBODY (USA Black): https://amzn.to/2WZjlD6\n* Blue Microphones Mouse Microphone Kc: https://amzn.to/2Ybu12I",
                  "published": "2021-03-12T11:00:18Z",
                  "tag_count": 12,
                  "view_count": 846178,
                  "like_count": 28855,
                  "dislike_count": 443,
                  "comment_count": 1154,
                  "title_length": 26,
                  "reactions": 31606,
                  "_deepnote_index_column": 0
                },
                {
                  "title": "Who Can Make The Loudest Noise? (Challenge)",
                  "description": "In today's game, we're seeing who can make the loudest noise. GMM # 1923\n\nSubscribe to GMM: https://www.youtube.com/goodmythicalmorning?sub_confirmation=1\n\nWatch today's GMMORE: https://youtu.be/2Nl59SR_U1Y\nClick the bell icon so you'll know when we add a new episode!\n\nWant more GMM? Check out these playlists:\nSeason 17 - https://www.youtube.com/playlist?list=PLJ49NV73ttrvKwXQjGntFUjtYdhLcXaiu\nSeason 16 - https://www.youtube.com/playlist?list=PLJ49NV73ttrvCQhgIj1Ovt3g0PBlO18s2\nWill It? - https://www.youtube.com/playlist?list=PLJ49NV73ttrucP6jJ1gjSqHmhlmvkdZuf\nTaste Tests! - https://www.youtube.com/playlist?list=PLJ49NV73ttrsUefw67wH_pnEJ5KwJZ7lN\n\nGet a copy of our novel, The Lost Causes of Bleak Creek @ http://www.bleakcreek.com\n\nPick up official GMM and Mythical merch at https://mythical.com\nand https://www.amazon.com/mythical\n\nDon’t miss our weekly podcast, Ear Biscuits: https://applepodcasts.com/earbiscuits\n\nJoin the Mythical Society: https://www.mythicalsociety.com\n\nFollow Mythical:\nInstagram: https://instagram.com/mythical\nFacebook: https://facebook.com/mythical\nTwitter: https://twitter.com/mythical\nWebsite: https://mythical.com\n\nCheck Out Our Other Mythical Channels:\nMythical Kitchen: https://youtube.com/mythicalkitchen\nRhett & Link: https://youtube.com/rhettandlink\nGood Mythical MORE: https://youtube.com/goodmythicalmore\n\nWant to send us something? https://mythical.com/contact\n\nSubmit your Wheel of Mythicality video here: http://bit.ly/GMMWheelIntroSUBMISSIONS\n\nIntro Animation by Matthew Dwyer https://dwy.me and Mike Pasley https://DigitalTwigs.com\nIntro & Outro Music by Mark Byers http://www.markaholic.com\n\nGet the GMM Set Gear!\n* Apple AirPort Extreme: https://amzn.to/2NnIvvk\n* Apple iPad Pro (12.9-inch, Wi-Fi, 64GB) - Space Gray (Latest Model) - MTEL2LL/A: https://amzn.to/2NnKXlw\n* Guardian Industrial Products DH-CP-4 3 Channel Rubber Cable Ramp (Straight): https://amzn.to/2NdshoR\n* Cartoni Focus HD Fluid Head with 3 Tube Ultra-Light Tripod, Mid-Level Spreader and Soft Case - Black: https://amzn.to/2X4i7X8\n* ARRI SkyPanel S60-C LED Softlight (Blue/Silver, Edison): https://amzn.to/2YgM3km\n* Chef-Master 90050 Professional Heat Lamp, Silver: https://amzn.to/2Xa1Wwr\n* Samsung UN40H5003 40-Inch 1080p LED TV (2014 Model): https://amzn.to/2NdMU4e\n* Sony LMDA170 17\" Production Video LCD Monitor, 16:9 Native Aspect Ratio, 1080p Resolution: https://amzn.to/2YlB9tH\n* Behringer Xenyx 1002 Premium 10-Input 2-Bus Mixer with XENYX Mic Preamps and British Eqs: https://amzn.to/2Yeeqzl\n* Elgato Game Capture Card HD60 S - Stream and Record in 1080p60, for PlayStation 4, Xbox One & Xbox 360 (Renewed): https://amzn.to/2NdOBP6\n* Pyle Universal Speaker Stand Mount Holder - Heavy Duty Tripod w/ Adjustable Height from 40” to 71” and 35mm Compatible Insert - Easy Mobility Safety PIN and Knob Tension Locking for Stability PSTND2: https://amzn.to/2JcCpce\n* JBL EON612 Portable 12\" 2-Way Multipurpose Self-Powered Sound Reinforcement: https://amzn.to/2Ndluvm\n* Bolt 500 XT 3G-SDI/HDMI Wireless TX/RX: https://amzn.to/2J1OeSk\n* Voigtlaender 17,5/0,95 Nokton 17.5 mm-17.5 mm Lens: https://amzn.to/2JjUCEP\n* Blackmagic Design Micro Converter SDI to HDMI (with Power Supply) BMD-CONVCMIC/SH/WPSU: https://amzn.to/2J6iw6y\n* Panasonic H-HSA35100 F2.8 II ASPH 35-100mm Mirrorless Micro Four Thirds Mount POWER Optical I.S. LUMIX G X VARIO Professional Lens: https://amzn.to/2RAhIul\n* PANASONIC LUMIX Professional 12-35mm Camera Lens G X VARIO II, F2.8 ASPH, Dual I.S. 2.0 with Power O.I.S., Mirrorless Micro Four Thirds, H-HSA12035 (2017 Model, Black): https://amzn.to/2J9WH5S\n* Decimator Design DMON-12S | 12 Channel Multi Viewer with HDMI SDI Outputs: https://amzn.to/2J9Xkwg\n* Decimator MD-HX HDMI and SDI Cross Converter with Scaling & Frame Rate Conversion: https://amzn.to/2Ymj52c\n* PANASONIC LUMIX GH4 Body 4K Mirrorless Camera, 16 Megapixels, 3 Inch Touch LCD, DMC-GH4KBODY (USA Black): https://amzn.to/2WZjlD6\n* Blue Microphones Mouse Microphone Kc: https://amzn.to/2Ybu12I",
                  "published": "2021-03-11T11:00:13Z",
                  "tag_count": 12,
                  "view_count": 699012,
                  "like_count": 26996,
                  "dislike_count": 350,
                  "comment_count": 1388,
                  "title_length": 43,
                  "reactions": 30122,
                  "_deepnote_index_column": 1
                },
                {
                  "title": "Is Anything Better Than Ranch On Wings? (Taste Test)",
                  "description": "Thanks to BetterHelp for sponsoring today’s episode! Make sure to go to https://BetterHelp.com/GoodMythicalMorning to get 10% off your first month.\n\nToday, we're seeing what the NEXT BEST dipping sauce is for chicken wings. GMM # 1922\n\nSubscribe to GMM: https://www.youtube.com/goodmythicalmorning?sub_confirmation=1\n\nWatch today's GMMORE: https://youtu.be/7yuC_CjE6EU\nClick the bell icon so you'll know when we add a new episode!\n\nWant more GMM? Check out these playlists:\nSeason 17 - https://www.youtube.com/playlist?list=PLJ49NV73ttrvKwXQjGntFUjtYdhLcXaiu\nSeason 16 - https://www.youtube.com/playlist?list=PLJ49NV73ttrvCQhgIj1Ovt3g0PBlO18s2\nWill It? - https://www.youtube.com/playlist?list=PLJ49NV73ttrucP6jJ1gjSqHmhlmvkdZuf\nTaste Tests! - https://www.youtube.com/playlist?list=PLJ49NV73ttrsUefw67wH_pnEJ5KwJZ7lN\n\nGet a copy of our novel, The Lost Causes of Bleak Creek @ http://www.bleakcreek.com\n\nPick up official GMM and Mythical merch at https://mythical.com\nand https://www.amazon.com/mythical\n\nDon’t miss our weekly podcast, Ear Biscuits: https://applepodcasts.com/earbiscuits\n\nJoin the Mythical Society: https://www.mythicalsociety.com\n\nFollow Mythical:\nInstagram: https://instagram.com/mythical\nFacebook: https://facebook.com/mythical\nTwitter: https://twitter.com/mythical\nWebsite: https://mythical.com\n\nCheck Out Our Other Mythical Channels:\nMythical Kitchen: https://youtube.com/mythicalkitchen\nRhett & Link: https://youtube.com/rhettandlink\nGood Mythical MORE: https://youtube.com/goodmythicalmore\n\nWant to send us something? https://mythical.com/contact\n\nSubmit your Wheel of Mythicality video here: http://bit.ly/GMMWheelIntroSUBMISSIONS\n\nIntro Animation by Matthew Dwyer https://dwy.me and Mike Pasley https://DigitalTwigs.com\nIntro & Outro Music by Mark Byers http://www.markaholic.com\n\nGet the GMM Set Gear!\n* Apple AirPort Extreme: https://amzn.to/2NnIvvk\n* Apple iPad Pro (12.9-inch, Wi-Fi, 64GB) - Space Gray (Latest Model) - MTEL2LL/A: https://amzn.to/2NnKXlw\n* Guardian Industrial Products DH-CP-4 3 Channel Rubber Cable Ramp (Straight): https://amzn.to/2NdshoR\n* Cartoni Focus HD Fluid Head with 3 Tube Ultra-Light Tripod, Mid-Level Spreader and Soft Case - Black: https://amzn.to/2X4i7X8\n* ARRI SkyPanel S60-C LED Softlight (Blue/Silver, Edison): https://amzn.to/2YgM3km\n* Chef-Master 90050 Professional Heat Lamp, Silver: https://amzn.to/2Xa1Wwr\n* Samsung UN40H5003 40-Inch 1080p LED TV (2014 Model): https://amzn.to/2NdMU4e\n* Sony LMDA170 17\" Production Video LCD Monitor, 16:9 Native Aspect Ratio, 1080p Resolution: https://amzn.to/2YlB9tH\n* Behringer Xenyx 1002 Premium 10-Input 2-Bus Mixer with XENYX Mic Preamps and British Eqs: https://amzn.to/2Yeeqzl\n* Elgato Game Capture Card HD60 S - Stream and Record in 1080p60, for PlayStation 4, Xbox One & Xbox 360 (Renewed): https://amzn.to/2NdOBP6\n* Pyle Universal Speaker Stand Mount Holder - Heavy Duty Tripod w/ Adjustable Height from 40” to 71” and 35mm Compatible Insert - Easy Mobility Safety PIN and Knob Tension Locking for Stability PSTND2: https://amzn.to/2JcCpce\n* JBL EON612 Portable 12\" 2-Way Multipurpose Self-Powered Sound Reinforcement: https://amzn.to/2Ndluvm\n* Bolt 500 XT 3G-SDI/HDMI Wireless TX/RX: https://amzn.to/2J1OeSk\n* Voigtlaender 17,5/0,95 Nokton 17.5 mm-17.5 mm Lens: https://amzn.to/2JjUCEP\n* Blackmagic Design Micro Converter SDI to HDMI (with Power Supply) BMD-CONVCMIC/SH/WPSU: https://amzn.to/2J6iw6y\n* Panasonic H-HSA35100 F2.8 II ASPH 35-100mm Mirrorless Micro Four Thirds Mount POWER Optical I.S. LUMIX G X VARIO Professional Lens: https://amzn.to/2RAhIul\n* PANASONIC LUMIX Professional 12-35mm Camera Lens G X VARIO II, F2.8 ASPH, Dual I.S. 2.0 with Power O.I.S., Mirrorless Micro Four Thirds, H-HSA12035 (2017 Model, Black): https://amzn.to/2J9WH5S\n* Decimator Design DMON-12S | 12 Channel Multi Viewer with HDMI SDI Outputs: https://amzn.to/2J9Xkwg\n* Decimator MD-HX HDMI and SDI Cross Converter with Scaling & Frame Rate Conversion: https://amzn.to/2Ymj52c\n* PANASONIC LUMIX GH4 Body 4K Mirrorless Camera, 16 Megapixels, 3 Inch Touch LCD, DMC-GH4KBODY (USA Black): https://amzn.to/2WZjlD6\n* Blue Microphones Mouse Microphone Kc: https://amzn.to/2Ybu12I",
                  "published": "2021-03-10T11:00:30Z",
                  "tag_count": 12,
                  "view_count": 1149425,
                  "like_count": 38935,
                  "dislike_count": 779,
                  "comment_count": 2343,
                  "title_length": 52,
                  "reactions": 44400,
                  "_deepnote_index_column": 2
                },
                {
                  "title": "Putting Weird Things In A Pitching Machine",
                  "description": "Today, we're seeing what happens when we put things into a pitching machine. GMM # 1921\n\nTo offset the food used in this episode, we’re donating $1,000 to the Los Angeles Regional Food Bank to help with their mission, making sure no one in in Los Angeles County goes hungry. If you would also like to help, please go to https://lafoodbank.org\n\nSubscribe to GMM: https://www.youtube.com/goodmythicalmorning?sub_confirmation=1\n\nWatch today's GMMORE: https://youtu.be/-ZppBaKQ-Mw\nClick the bell icon so you'll know when we add a new episode!\n\nWant more GMM? Check out these playlists:\nSeason 17 - https://www.youtube.com/playlist?list=PLJ49NV73ttrvKwXQjGntFUjtYdhLcXaiu\nSeason 16 - https://www.youtube.com/playlist?list=PLJ49NV73ttrvCQhgIj1Ovt3g0PBlO18s2\nWill It? - https://www.youtube.com/playlist?list=PLJ49NV73ttrucP6jJ1gjSqHmhlmvkdZuf\nTaste Tests! - https://www.youtube.com/playlist?list=PLJ49NV73ttrsUefw67wH_pnEJ5KwJZ7lN\n\nGet a copy of our novel, The Lost Causes of Bleak Creek @ http://www.bleakcreek.com\n\nPick up official GMM and Mythical merch at https://mythical.com\nand https://www.amazon.com/mythical\n\nDon’t miss our weekly podcast, Ear Biscuits: https://applepodcasts.com/earbiscuits\n\nJoin the Mythical Society: https://www.mythicalsociety.com\n\nFollow Mythical:\nInstagram: https://instagram.com/mythical\nFacebook: https://facebook.com/mythical\nTwitter: https://twitter.com/mythical\nWebsite: https://mythical.com\n\nCheck Out Our Other Mythical Channels:\nMythical Kitchen: https://youtube.com/mythicalkitchen\nRhett & Link: https://youtube.com/rhettandlink\nGood Mythical MORE: https://youtube.com/goodmythicalmore\n\nWant to send us something? https://mythical.com/contact\n\nSubmit your Wheel of Mythicality video here: http://bit.ly/GMMWheelIntroSUBMISSIONS\n\nIntro Animation by Matthew Dwyer https://dwy.me and Mike Pasley https://DigitalTwigs.com\nIntro & Outro Music by Mark Byers http://www.markaholic.com\n\nGet the GMM Set Gear!\n* Apple AirPort Extreme: https://amzn.to/2NnIvvk\n* Apple iPad Pro (12.9-inch, Wi-Fi, 64GB) - Space Gray (Latest Model) - MTEL2LL/A: https://amzn.to/2NnKXlw\n* Guardian Industrial Products DH-CP-4 3 Channel Rubber Cable Ramp (Straight): https://amzn.to/2NdshoR\n* Cartoni Focus HD Fluid Head with 3 Tube Ultra-Light Tripod, Mid-Level Spreader and Soft Case - Black: https://amzn.to/2X4i7X8\n* ARRI SkyPanel S60-C LED Softlight (Blue/Silver, Edison): https://amzn.to/2YgM3km\n* Chef-Master 90050 Professional Heat Lamp, Silver: https://amzn.to/2Xa1Wwr\n* Samsung UN40H5003 40-Inch 1080p LED TV (2014 Model): https://amzn.to/2NdMU4e\n* Sony LMDA170 17\" Production Video LCD Monitor, 16:9 Native Aspect Ratio, 1080p Resolution: https://amzn.to/2YlB9tH\n* Behringer Xenyx 1002 Premium 10-Input 2-Bus Mixer with XENYX Mic Preamps and British Eqs: https://amzn.to/2Yeeqzl\n* Elgato Game Capture Card HD60 S - Stream and Record in 1080p60, for PlayStation 4, Xbox One & Xbox 360 (Renewed): https://amzn.to/2NdOBP6\n* Pyle Universal Speaker Stand Mount Holder - Heavy Duty Tripod w/ Adjustable Height from 40” to 71” and 35mm Compatible Insert - Easy Mobility Safety PIN and Knob Tension Locking for Stability PSTND2: https://amzn.to/2JcCpce\n* JBL EON612 Portable 12\" 2-Way Multipurpose Self-Powered Sound Reinforcement: https://amzn.to/2Ndluvm\n* Bolt 500 XT 3G-SDI/HDMI Wireless TX/RX: https://amzn.to/2J1OeSk\n* Voigtlaender 17,5/0,95 Nokton 17.5 mm-17.5 mm Lens: https://amzn.to/2JjUCEP\n* Blackmagic Design Micro Converter SDI to HDMI (with Power Supply) BMD-CONVCMIC/SH/WPSU: https://amzn.to/2J6iw6y\n* Panasonic H-HSA35100 F2.8 II ASPH 35-100mm Mirrorless Micro Four Thirds Mount POWER Optical I.S. LUMIX G X VARIO Professional Lens: https://amzn.to/2RAhIul\n* PANASONIC LUMIX Professional 12-35mm Camera Lens G X VARIO II, F2.8 ASPH, Dual I.S. 2.0 with Power O.I.S., Mirrorless Micro Four Thirds, H-HSA12035 (2017 Model, Black): https://amzn.to/2J9WH5S\n* Decimator Design DMON-12S | 12 Channel Multi Viewer with HDMI SDI Outputs: https://amzn.to/2J9Xkwg\n* Decimator MD-HX HDMI and SDI Cross Converter with Scaling & Frame Rate Conversion: https://amzn.to/2Ymj52c\n* PANASONIC LUMIX GH4 Body 4K Mirrorless Camera, 16 Megapixels, 3 Inch Touch LCD, DMC-GH4KBODY (USA Black): https://amzn.to/2WZjlD6\n* Blue Microphones Mouse Microphone Kc: https://amzn.to/2Ybu12I",
                  "published": "2021-03-09T11:00:03Z",
                  "tag_count": 12,
                  "view_count": 726717,
                  "like_count": 32868,
                  "dislike_count": 1073,
                  "comment_count": 1842,
                  "title_length": 42,
                  "reactions": 37625,
                  "_deepnote_index_column": 3
                },
                {
                  "title": "Will It Deep Dish Pizza? Taste Test",
                  "description": "Today, we ask the age old question... Will It Deep Dish Pizza? GMM # 1920\n\nCheck out the Mythical Kitchen - https://www.youtube.com/mythicalkitchen\nListen to the MK Food Debate Podcast - https://www.mythical.com/hotdog\n\nSubscribe to GMM: https://www.youtube.com/goodmythicalmorning?sub_confirmation=1\n\nWatch today's GMMORE: https://youtu.be/ZI-7ECmecjI\nClick the bell icon so you'll know when we add a new episode!\n\nWant more GMM? Check out these playlists:\nSeason 17 - https://www.youtube.com/playlist?list=PLJ49NV73ttrvKwXQjGntFUjtYdhLcXaiu\nSeason 16 - https://www.youtube.com/playlist?list=PLJ49NV73ttrvCQhgIj1Ovt3g0PBlO18s2\nWill It? - https://www.youtube.com/playlist?list=PLJ49NV73ttrucP6jJ1gjSqHmhlmvkdZuf\nTaste Tests! - https://www.youtube.com/playlist?list=PLJ49NV73ttrsUefw67wH_pnEJ5KwJZ7lN\n\nGet a copy of our novel, The Lost Causes of Bleak Creek @ http://www.bleakcreek.com\n\nPick up official GMM and Mythical merch at https://mythical.com\nand https://www.amazon.com/mythical\n\nDon’t miss our weekly podcast, Ear Biscuits: https://applepodcasts.com/earbiscuits\n\nJoin the Mythical Society: https://www.mythicalsociety.com\n\nFollow Mythical:\nInstagram: https://instagram.com/mythical\nFacebook: https://facebook.com/mythical\nTwitter: https://twitter.com/mythical\nWebsite: https://mythical.com\n\nCheck Out Our Other Mythical Channels:\nMythical Kitchen: https://youtube.com/mythicalkitchen\nRhett & Link: https://youtube.com/rhettandlink\nGood Mythical MORE: https://youtube.com/goodmythicalmore\n\nWant to send us something? https://mythical.com/contact\n\nSubmit your Wheel of Mythicality video here: http://bit.ly/GMMWheelIntroSUBMISSIONS\n\nIntro Animation by Matthew Dwyer https://dwy.me and Mike Pasley https://DigitalTwigs.com\nIntro & Outro Music by Mark Byers http://www.markaholic.com\n\nGet the GMM Set Gear!\n* Apple AirPort Extreme: https://amzn.to/2NnIvvk\n* Apple iPad Pro (12.9-inch, Wi-Fi, 64GB) - Space Gray (Latest Model) - MTEL2LL/A: https://amzn.to/2NnKXlw\n* Guardian Industrial Products DH-CP-4 3 Channel Rubber Cable Ramp (Straight): https://amzn.to/2NdshoR\n* Cartoni Focus HD Fluid Head with 3 Tube Ultra-Light Tripod, Mid-Level Spreader and Soft Case - Black: https://amzn.to/2X4i7X8\n* ARRI SkyPanel S60-C LED Softlight (Blue/Silver, Edison): https://amzn.to/2YgM3km\n* Chef-Master 90050 Professional Heat Lamp, Silver: https://amzn.to/2Xa1Wwr\n* Samsung UN40H5003 40-Inch 1080p LED TV (2014 Model): https://amzn.to/2NdMU4e\n* Sony LMDA170 17\" Production Video LCD Monitor, 16:9 Native Aspect Ratio, 1080p Resolution: https://amzn.to/2YlB9tH\n* Behringer Xenyx 1002 Premium 10-Input 2-Bus Mixer with XENYX Mic Preamps and British Eqs: https://amzn.to/2Yeeqzl\n* Elgato Game Capture Card HD60 S - Stream and Record in 1080p60, for PlayStation 4, Xbox One & Xbox 360 (Renewed): https://amzn.to/2NdOBP6\n* Pyle Universal Speaker Stand Mount Holder - Heavy Duty Tripod w/ Adjustable Height from 40” to 71” and 35mm Compatible Insert - Easy Mobility Safety PIN and Knob Tension Locking for Stability PSTND2: https://amzn.to/2JcCpce\n* JBL EON612 Portable 12\" 2-Way Multipurpose Self-Powered Sound Reinforcement: https://amzn.to/2Ndluvm\n* Bolt 500 XT 3G-SDI/HDMI Wireless TX/RX: https://amzn.to/2J1OeSk\n* Voigtlaender 17,5/0,95 Nokton 17.5 mm-17.5 mm Lens: https://amzn.to/2JjUCEP\n* Blackmagic Design Micro Converter SDI to HDMI (with Power Supply) BMD-CONVCMIC/SH/WPSU: https://amzn.to/2J6iw6y\n* Panasonic H-HSA35100 F2.8 II ASPH 35-100mm Mirrorless Micro Four Thirds Mount POWER Optical I.S. LUMIX G X VARIO Professional Lens: https://amzn.to/2RAhIul\n* PANASONIC LUMIX Professional 12-35mm Camera Lens G X VARIO II, F2.8 ASPH, Dual I.S. 2.0 with Power O.I.S., Mirrorless Micro Four Thirds, H-HSA12035 (2017 Model, Black): https://amzn.to/2J9WH5S\n* Decimator Design DMON-12S | 12 Channel Multi Viewer with HDMI SDI Outputs: https://amzn.to/2J9Xkwg\n* Decimator MD-HX HDMI and SDI Cross Converter with Scaling & Frame Rate Conversion: https://amzn.to/2Ymj52c\n* PANASONIC LUMIX GH4 Body 4K Mirrorless Camera, 16 Megapixels, 3 Inch Touch LCD, DMC-GH4KBODY (USA Black): https://amzn.to/2WZjlD6\n* Blue Microphones Mouse Microphone Kc: https://amzn.to/2Ybu12I",
                  "published": "2021-03-08T11:00:18Z",
                  "tag_count": 12,
                  "view_count": 1651567,
                  "like_count": 54782,
                  "dislike_count": 593,
                  "comment_count": 2366,
                  "title_length": 35,
                  "reactions": 60107,
                  "_deepnote_index_column": 4
                }
              ],
              "rows_bottom": null
            },
            "text/plain": "                                               title  \\\n0                         Carbonated Food Taste Test   \n1        Who Can Make The Loudest Noise? (Challenge)   \n2  Is Anything Better Than Ranch On Wings? (Taste...   \n3         Putting Weird Things In A Pitching Machine   \n4                Will It Deep Dish Pizza? Taste Test   \n\n                                         description             published  \\\n0  Today, we're eatin some carbonated food. GMM #...  2021-03-12T11:00:18Z   \n1  In today's game, we're seeing who can make the...  2021-03-11T11:00:13Z   \n2  Thanks to BetterHelp for sponsoring today’s ep...  2021-03-10T11:00:30Z   \n3  Today, we're seeing what happens when we put t...  2021-03-09T11:00:03Z   \n4  Today, we ask the age old question... Will It ...  2021-03-08T11:00:18Z   \n\n   tag_count  view_count  like_count  dislike_count  comment_count  \\\n0         12      846178       28855            443           1154   \n1         12      699012       26996            350           1388   \n2         12     1149425       38935            779           2343   \n3         12      726717       32868           1073           1842   \n4         12     1651567       54782            593           2366   \n\n   title_length  reactions  \n0            26      31606  \n1            43      30122  \n2            52      44400  \n3            42      37625  \n4            35      60107  ",
            "text/html": "<div>\n<style scoped>\n    .dataframe tbody tr th:only-of-type {\n        vertical-align: middle;\n    }\n\n    .dataframe tbody tr th {\n        vertical-align: top;\n    }\n\n    .dataframe thead th {\n        text-align: right;\n    }\n</style>\n<table border=\"1\" class=\"dataframe\">\n  <thead>\n    <tr style=\"text-align: right;\">\n      <th></th>\n      <th>title</th>\n      <th>description</th>\n      <th>published</th>\n      <th>tag_count</th>\n      <th>view_count</th>\n      <th>like_count</th>\n      <th>dislike_count</th>\n      <th>comment_count</th>\n      <th>title_length</th>\n      <th>reactions</th>\n    </tr>\n  </thead>\n  <tbody>\n    <tr>\n      <th>0</th>\n      <td>Carbonated Food Taste Test</td>\n      <td>Today, we're eatin some carbonated food. GMM #...</td>\n      <td>2021-03-12T11:00:18Z</td>\n      <td>12</td>\n      <td>846178</td>\n      <td>28855</td>\n      <td>443</td>\n      <td>1154</td>\n      <td>26</td>\n      <td>31606</td>\n    </tr>\n    <tr>\n      <th>1</th>\n      <td>Who Can Make The Loudest Noise? (Challenge)</td>\n      <td>In today's game, we're seeing who can make the...</td>\n      <td>2021-03-11T11:00:13Z</td>\n      <td>12</td>\n      <td>699012</td>\n      <td>26996</td>\n      <td>350</td>\n      <td>1388</td>\n      <td>43</td>\n      <td>30122</td>\n    </tr>\n    <tr>\n      <th>2</th>\n      <td>Is Anything Better Than Ranch On Wings? (Taste...</td>\n      <td>Thanks to BetterHelp for sponsoring today’s ep...</td>\n      <td>2021-03-10T11:00:30Z</td>\n      <td>12</td>\n      <td>1149425</td>\n      <td>38935</td>\n      <td>779</td>\n      <td>2343</td>\n      <td>52</td>\n      <td>44400</td>\n    </tr>\n    <tr>\n      <th>3</th>\n      <td>Putting Weird Things In A Pitching Machine</td>\n      <td>Today, we're seeing what happens when we put t...</td>\n      <td>2021-03-09T11:00:03Z</td>\n      <td>12</td>\n      <td>726717</td>\n      <td>32868</td>\n      <td>1073</td>\n      <td>1842</td>\n      <td>42</td>\n      <td>37625</td>\n    </tr>\n    <tr>\n      <th>4</th>\n      <td>Will It Deep Dish Pizza? Taste Test</td>\n      <td>Today, we ask the age old question... Will It ...</td>\n      <td>2021-03-08T11:00:18Z</td>\n      <td>12</td>\n      <td>1651567</td>\n      <td>54782</td>\n      <td>593</td>\n      <td>2366</td>\n      <td>35</td>\n      <td>60107</td>\n    </tr>\n  </tbody>\n</table>\n</div>"
          },
          "metadata": {}
        }
      ],
      "execution_count": 20
    },
    {
      "cell_type": "markdown",
      "source": "### Plotting Number of Tags Per Video",
      "metadata": {
        "tags": [],
        "cell_id": "00019-eca0d0ba-e31a-4272-83e1-ac5d4f5b65e9",
        "deepnote_cell_type": "markdown"
      }
    },
    {
      "cell_type": "code",
      "source": "# Histogram of tag count.\nchart = sns.distplot( a=df[\"tag_count\"], hist=True, kde=False, rug=False )\nchart.set(xlabel='Number of Tags Used', ylabel='Occurrences')",
      "metadata": {
        "tags": [],
        "cell_id": "00011-69b912bf-54a5-4af1-80fa-321d79d54b35",
        "deepnote_to_be_reexecuted": false,
        "source_hash": "398bab8b",
        "execution_millis": 256,
        "execution_start": 1615653633537,
        "deepnote_cell_type": "code"
      },
      "outputs": [
        {
          "name": "stderr",
          "text": "/shared-libs/python3.7/py/lib/python3.7/site-packages/seaborn/distributions.py:2557: FutureWarning: `distplot` is a deprecated function and will be removed in a future version. Please adapt your code to use either `displot` (a figure-level function with similar flexibility) or `histplot` (an axes-level function for histograms).\n  warnings.warn(msg, FutureWarning)\n",
          "output_type": "stream"
        },
        {
          "output_type": "execute_result",
          "execution_count": 11,
          "data": {
            "text/plain": "[Text(0.5, 0, 'Number of Tags Used'), Text(0, 0.5, 'Occurrences')]"
          },
          "metadata": {}
        },
        {
          "data": {
            "text/plain": "<Figure size 432x288 with 1 Axes>",
            "image/png": "[encoded data removed]"
          },
          "metadata": {
            "needs_background": "light"
          },
          "output_type": "display_data"
        }
      ],
      "execution_count": 11
    },
    {
      "cell_type": "markdown",
      "source": "### Title Length Used",
      "metadata": {
        "tags": [],
        "cell_id": "00021-31c533e9-f646-4a43-a58e-d1f02c4a0a9d",
        "deepnote_cell_type": "markdown"
      }
    },
    {
      "cell_type": "code",
      "source": "chart = sns.distplot( a=df[\"title_length\"], hist=True, kde=False, rug=False )\nchart.set(xlabel='Title Length', ylabel='Occurrences')",
      "metadata": {
        "tags": [],
        "cell_id": "00011-4f1a47b3-cf1b-418d-9bfc-054950924fd2",
        "deepnote_to_be_reexecuted": false,
        "source_hash": "9c9d1cba",
        "execution_millis": 382,
        "execution_start": 1615653633783,
        "deepnote_cell_type": "code"
      },
      "outputs": [
        {
          "output_type": "execute_result",
          "execution_count": 12,
          "data": {
            "text/plain": "[Text(0.5, 0, 'Title Length'), Text(0, 0.5, 'Occurrences')]"
          },
          "metadata": {}
        },
        {
          "data": {
            "text/plain": "<Figure size 432x288 with 1 Axes>",
            "image/png": "[encoded data removed]"
          },
          "metadata": {
            "needs_background": "light"
          },
          "output_type": "display_data"
        }
      ],
      "execution_count": 12
    },
    {
      "cell_type": "markdown",
      "source": "### Most Viewed Videos",
      "metadata": {
        "tags": [],
        "cell_id": "00023-ffea205e-69ac-4afc-b530-c6be6b9231c8",
        "deepnote_cell_type": "markdown"
      }
    },
    {
      "cell_type": "code",
      "source": "df_highest_views = df.nlargest(10, 'view_count')\ndf_highest_views['title'] = df_highest_views['title'].str[:40]\ndf_highest_views['view_count_millions'] = df_highest_views['view_count'] / 1000000\ndf_highest_views",
      "metadata": {
        "tags": [],
        "cell_id": "00013-00a8f913-ce88-47fe-96e6-a140e596c754",
        "deepnote_to_be_reexecuted": false,
        "source_hash": "19de9f68",
        "execution_millis": 56,
        "execution_start": 1615653634161,
        "deepnote_cell_type": "code"
      },
      "outputs": [
        {
          "output_type": "execute_result",
          "execution_count": 13,
          "data": {
            "application/vnd.deepnote.dataframe.v2+json": {
              "row_count": 10,
              "column_count": 11,
              "columns": [
                {
                  "name": "title",
                  "dtype": "object",
                  "stats": {
                    "unique_count": 10,
                    "nan_count": 0,
                    "categories": [
                      {
                        "name": "Amazing Game Show Cheaters",
                        "count": 1
                      },
                      {
                        "name": "World’s Hottest Pepper Challenge: Caroli",
                        "count": 1
                      },
                      {
                        "name": "8 others",
                        "count": 8
                      }
                    ]
                  }
                },
                {
                  "name": "description",
                  "dtype": "object",
                  "stats": {
                    "unique_count": 10,
                    "nan_count": 0,
                    "categories": [
                      {
                        "name": "Whammy! Some people are straight up cheaters. GMM #893!\nFollow us on Twitter at http://twitter.com/rhettandlink\nGood Mythical MORE: https://youtu.be/CTuKtKkqbGE\nSUBSCRIBE for daily episodes: http://bit.ly/subrl2  \n\nPREVIOUS episode: https://youtu.be/_CAiGIdNAwo?list=PLJ...\n\nNEXT episode: https://youtu.be/ZN4NFwmI86I?list=PLJ49NV73ttrvdeqDBaqtbdE18ClnJ8tCL\n\nGet the GMM Coffee Mug! http://bit.ly/GMM_Mug\n\nGet the GMM Poster, GMM T-shirt and more! http://bit.ly/RL_Store\n\nWatch the Rhett & Link Channel: http://youtube.com/rhettandlink\n\nListen to our podcast, Ear Biscuits!\niTunes: https://itunes.apple.com/podcast/ear-...\nSoundCloud: https://soundcloud.com/earbiscuits\n\nLIKE us on FACEBOOK! http://facebook.com/rhettandlink\nFOLLOW us on TWITTER! http://twitter.com/rhettandlink\nFOLLOW us on TUMBLR: http://rhettandlink.tumblr.com/\nFOLLOW our INSTAGRAM:  http://instagram.com/rhettandlink\nJOIN our circle on GOOGLE+: https://plus.google.com/+rhettandlink\n\nJOIN the RhettandLinKommunity! http://bit.ly/rlkommunity\n\nMail us stuff to our P.O. Box!  http://rhettandlink.com/contact \n\nSubmit a Wheel of Mythicality intro video! http://bit.ly/GMMWheelIntro\n\nWe are two Internetainers dedicated to giving you a daily dose of casual comedy every Monday-Friday on our show \"Good Mythical Morning.\" Thanks for making us a part of your daily routine.  Be your mythical best! - Rhett & Link\n\nCREDITS: \nExecutive Producer: Stevie Wynne Levine\nExecutive Producer: Drew Champion\nWriter/Producer: Edward Coleman \nWriter/Producer: Lizzie Bassett\nWriter/Producer: Kevin Kostelnik\nAssociate Producer: Chase Hilt\nTechnical Director/Graphics/Editor: Morgan Locke\nEditor: Casey Nimmer\nAdditional Graphics/Editing: Matthew Dwyer \nProduction Coordinator: Alexander Punch \nProduction Assistant: Mike Criscimagna\nContent Manager: Becca Canote\nSet Construction/Dresser: Cassie Cobb\nIntro Motion Graphics: Digital Twigs \nhttp://www.digitaltwigs.com\nIntro Music: Pomplamoose http://www.youtube.com/pomplamoosemusic\nOutro Music: Pomplamoose http://www.youtube.com/pomplamoosemusic\nWheel of Mythicality Music: http://www.royaltyfreemusiclibrary.com/ \nMicrophone: ‘The Mouse’ by Blue Microphones http://www.bluemic.com/mouse/",
                        "count": 1
                      },
                      {
                        "name": "We eat the World's Hottest Chili Pepper -- the Carolina Reaper. \nGMM #538! \nGood Mythical MORE: http://youtu.be/kNL-rqBZfjI\nFor a free trial of Lynda.com go to - http://Lynda.com/rhettandlink\n\nWatch The Ghost Pepper Challenge Video: http://youtu.be/8dFMCf8zi5s\n\nSUBSCRIBE for daily episodes: http://bit.ly/subrl2   **** \n\nPREVIOUS episode:\nhttp://youtu.be/2vfcOOXSjEI\n\nNEXT episode:\nhttp://youtu.be/FySsiGU6IAw\n\nGet the GMM Coffee Mug!\nhttp://dftba.com/product/1bv/Good-Mythical-Morning-Mug\n\nGet the GMM Signed Poster plus the GMM T-shirt! \nhttp://dftba.com/artist/26/Rhett--Link\n\nMAIN YOUTUBE CHANNEL: http://youtube.com/rhettandlink\n\nListen to Ear Biscuits!\niTunes: https://itunes.apple.com/podcast/ear-biscuits/id717407884\nSoundCloud: https://soundcloud.com/earbiscuits\n\nJOIN the RhettandLinKommunity!\nhttp://bit.ly/rlkommunity\n\nLIKE us on FACEBOOK! http://facebook.com/rhettandlink\nFOLLOW us on TWITTER!\nhttp://twitter.com/rhettandlink\nFOLLOW us on TUMBLR: http://rhettandlink.tumblr.com/\nFOLLOW our INSTAGRAM - http://instagram.com/rhettandlink\nJOIN our circle on GOOGLE PLUS: https://plus.google.com/+rhettandlink\n\nGood Mythical Morning is available for download on iTunes!\nVideo Podcast: http://bit.ly/xuJVPc\nAudio Podcast: http://bit.ly/zSewZ6\n\nWe are two Internetainers dedicated to giving you a daily dose of casual comedy every Monday-Friday on our show \"Good Mythical Morning\" at youtube.com/rhettandlink2.  Thanks for making us a part of your daily routine.  Be your mythical best, mythical beast. - Rhett & Link\n\nMail us stuff to our P.O. Box \nGo to http://rhettandlink.com/contact for details.\n\nCREDITS: \nProduced by Stevie Wynne Levine\nCo-Producer,Camera: Edward Coleman \nEditor: Morgan Locke\nProduction Assistant: Alexander Punch \nShow Graphics Package and Lighting: Ben Eck\nIntro Motion Graphics: Digital Twigs http://www.digitaltwigs.com\nIntro Music: Pomplamoose http://www.youtube.com/pomplamoosemusic\nSet dresser:  Cassie Cobb\nSet construction: Jason Inman\nWheel music: http://www.royaltyfreemusiclibrary.com/ \nMicrophone: The Mouse from Blue Microphones: http://www.bluemic.com/mouse/",
                        "count": 1
                      },
                      {
                        "name": "8 others",
                        "count": 8
                      }
                    ]
                  }
                },
                {
                  "name": "published",
                  "dtype": "object",
                  "stats": {
                    "unique_count": 10,
                    "nan_count": 0,
                    "categories": [
                      {
                        "name": "2016-04-05T10:00:00Z",
                        "count": 1
                      },
                      {
                        "name": "2014-09-30T10:00:02Z",
                        "count": 1
                      },
                      {
                        "name": "8 others",
                        "count": 8
                      }
                    ]
                  }
                },
                {
                  "name": "tag_count",
                  "dtype": "int64",
                  "stats": {
                    "unique_count": 8,
                    "nan_count": 0,
                    "min": 20,
                    "max": 47,
                    "histogram": [
                      {
                        "bin_start": 20,
                        "bin_end": 22.7,
                        "count": 1
                      },
                      {
                        "bin_start": 22.7,
                        "bin_end": 25.4,
                        "count": 1
                      },
                      {
                        "bin_start": 25.4,
                        "bin_end": 28.1,
                        "count": 0
                      },
                      {
                        "bin_start": 28.1,
                        "bin_end": 30.8,
                        "count": 1
                      },
                      {
                        "bin_start": 30.8,
                        "bin_end": 33.5,
                        "count": 0
                      },
                      {
                        "bin_start": 33.5,
                        "bin_end": 36.2,
                        "count": 2
                      },
                      {
                        "bin_start": 36.2,
                        "bin_end": 38.900000000000006,
                        "count": 1
                      },
                      {
                        "bin_start": 38.900000000000006,
                        "bin_end": 41.6,
                        "count": 0
                      },
                      {
                        "bin_start": 41.6,
                        "bin_end": 44.3,
                        "count": 1
                      },
                      {
                        "bin_start": 44.3,
                        "bin_end": 47,
                        "count": 3
                      }
                    ]
                  }
                },
                {
                  "name": "view_count",
                  "dtype": "int64",
                  "stats": {
                    "unique_count": 10,
                    "nan_count": 0,
                    "min": 20469963,
                    "max": 30887288,
                    "histogram": [
                      {
                        "bin_start": 20469963,
                        "bin_end": 21511695.5,
                        "count": 3
                      },
                      {
                        "bin_start": 21511695.5,
                        "bin_end": 22553428,
                        "count": 1
                      },
                      {
                        "bin_start": 22553428,
                        "bin_end": 23595160.5,
                        "count": 0
                      },
                      {
                        "bin_start": 23595160.5,
                        "bin_end": 24636893,
                        "count": 2
                      },
                      {
                        "bin_start": 24636893,
                        "bin_end": 25678625.5,
                        "count": 1
                      },
                      {
                        "bin_start": 25678625.5,
                        "bin_end": 26720358,
                        "count": 0
                      },
                      {
                        "bin_start": 26720358,
                        "bin_end": 27762090.5,
                        "count": 0
                      },
                      {
                        "bin_start": 27762090.5,
                        "bin_end": 28803823,
                        "count": 1
                      },
                      {
                        "bin_start": 28803823,
                        "bin_end": 29845555.5,
                        "count": 1
                      },
                      {
                        "bin_start": 29845555.5,
                        "bin_end": 30887288,
                        "count": 1
                      }
                    ]
                  }
                },
                {
                  "name": "like_count",
                  "dtype": "int64",
                  "stats": {
                    "unique_count": 10,
                    "nan_count": 0,
                    "min": 106198,
                    "max": 431821,
                    "histogram": [
                      {
                        "bin_start": 106198,
                        "bin_end": 138760.3,
                        "count": 1
                      },
                      {
                        "bin_start": 138760.3,
                        "bin_end": 171322.6,
                        "count": 0
                      },
                      {
                        "bin_start": 171322.6,
                        "bin_end": 203884.9,
                        "count": 0
                      },
                      {
                        "bin_start": 203884.9,
                        "bin_end": 236447.2,
                        "count": 4
                      },
                      {
                        "bin_start": 236447.2,
                        "bin_end": 269009.5,
                        "count": 2
                      },
                      {
                        "bin_start": 269009.5,
                        "bin_end": 301571.8,
                        "count": 2
                      },
                      {
                        "bin_start": 301571.8,
                        "bin_end": 334134.1,
                        "count": 0
                      },
                      {
                        "bin_start": 334134.1,
                        "bin_end": 366696.4,
                        "count": 0
                      },
                      {
                        "bin_start": 366696.4,
                        "bin_end": 399258.7,
                        "count": 0
                      },
                      {
                        "bin_start": 399258.7,
                        "bin_end": 431821,
                        "count": 1
                      }
                    ]
                  }
                },
                {
                  "name": "dislike_count",
                  "dtype": "int64",
                  "stats": {
                    "unique_count": 10,
                    "nan_count": 0,
                    "min": 4481,
                    "max": 28684,
                    "histogram": [
                      {
                        "bin_start": 4481,
                        "bin_end": 6901.3,
                        "count": 4
                      },
                      {
                        "bin_start": 6901.3,
                        "bin_end": 9321.6,
                        "count": 2
                      },
                      {
                        "bin_start": 9321.6,
                        "bin_end": 11741.900000000001,
                        "count": 1
                      },
                      {
                        "bin_start": 11741.900000000001,
                        "bin_end": 14162.2,
                        "count": 1
                      },
                      {
                        "bin_start": 14162.2,
                        "bin_end": 16582.5,
                        "count": 1
                      },
                      {
                        "bin_start": 16582.5,
                        "bin_end": 19002.800000000003,
                        "count": 0
                      },
                      {
                        "bin_start": 19002.800000000003,
                        "bin_end": 21423.100000000002,
                        "count": 0
                      },
                      {
                        "bin_start": 21423.100000000002,
                        "bin_end": 23843.4,
                        "count": 0
                      },
                      {
                        "bin_start": 23843.4,
                        "bin_end": 26263.7,
                        "count": 0
                      },
                      {
                        "bin_start": 26263.7,
                        "bin_end": 28684,
                        "count": 1
                      }
                    ]
                  }
                },
                {
                  "name": "comment_count",
                  "dtype": "int64",
                  "stats": {
                    "unique_count": 10,
                    "nan_count": 0,
                    "min": 11265,
                    "max": 40635,
                    "histogram": [
                      {
                        "bin_start": 11265,
                        "bin_end": 14202,
                        "count": 1
                      },
                      {
                        "bin_start": 14202,
                        "bin_end": 17139,
                        "count": 1
                      },
                      {
                        "bin_start": 17139,
                        "bin_end": 20076,
                        "count": 0
                      },
                      {
                        "bin_start": 20076,
                        "bin_end": 23013,
                        "count": 1
                      },
                      {
                        "bin_start": 23013,
                        "bin_end": 25950,
                        "count": 3
                      },
                      {
                        "bin_start": 25950,
                        "bin_end": 28887,
                        "count": 1
                      },
                      {
                        "bin_start": 28887,
                        "bin_end": 31824,
                        "count": 2
                      },
                      {
                        "bin_start": 31824,
                        "bin_end": 34761,
                        "count": 0
                      },
                      {
                        "bin_start": 34761,
                        "bin_end": 37698,
                        "count": 0
                      },
                      {
                        "bin_start": 37698,
                        "bin_end": 40635,
                        "count": 1
                      }
                    ]
                  }
                },
                {
                  "name": "title_length",
                  "dtype": "int64",
                  "stats": {
                    "unique_count": 9,
                    "nan_count": 0,
                    "min": 26,
                    "max": 50,
                    "histogram": [
                      {
                        "bin_start": 26,
                        "bin_end": 28.4,
                        "count": 3
                      },
                      {
                        "bin_start": 28.4,
                        "bin_end": 30.8,
                        "count": 2
                      },
                      {
                        "bin_start": 30.8,
                        "bin_end": 33.2,
                        "count": 1
                      },
                      {
                        "bin_start": 33.2,
                        "bin_end": 35.6,
                        "count": 0
                      },
                      {
                        "bin_start": 35.6,
                        "bin_end": 38,
                        "count": 1
                      },
                      {
                        "bin_start": 38,
                        "bin_end": 40.4,
                        "count": 1
                      },
                      {
                        "bin_start": 40.4,
                        "bin_end": 42.8,
                        "count": 0
                      },
                      {
                        "bin_start": 42.8,
                        "bin_end": 45.2,
                        "count": 0
                      },
                      {
                        "bin_start": 45.2,
                        "bin_end": 47.599999999999994,
                        "count": 0
                      },
                      {
                        "bin_start": 47.599999999999994,
                        "bin_end": 50,
                        "count": 2
                      }
                    ]
                  }
                },
                {
                  "name": "reactions",
                  "dtype": "int64",
                  "stats": {
                    "unique_count": 10,
                    "nan_count": 0,
                    "min": 143994,
                    "max": 523769,
                    "histogram": [
                      {
                        "bin_start": 143994,
                        "bin_end": 181971.5,
                        "count": 1
                      },
                      {
                        "bin_start": 181971.5,
                        "bin_end": 219949,
                        "count": 0
                      },
                      {
                        "bin_start": 219949,
                        "bin_end": 257926.5,
                        "count": 0
                      },
                      {
                        "bin_start": 257926.5,
                        "bin_end": 295904,
                        "count": 5
                      },
                      {
                        "bin_start": 295904,
                        "bin_end": 333881.5,
                        "count": 1
                      },
                      {
                        "bin_start": 333881.5,
                        "bin_end": 371859,
                        "count": 2
                      },
                      {
                        "bin_start": 371859,
                        "bin_end": 409836.5,
                        "count": 0
                      },
                      {
                        "bin_start": 409836.5,
                        "bin_end": 447814,
                        "count": 0
                      },
                      {
                        "bin_start": 447814,
                        "bin_end": 485791.5,
                        "count": 0
                      },
                      {
                        "bin_start": 485791.5,
                        "bin_end": 523769,
                        "count": 1
                      }
                    ]
                  }
                },
                {
                  "name": "view_count_millions",
                  "dtype": "float64",
                  "stats": {
                    "unique_count": 10,
                    "nan_count": 0,
                    "min": 20.469963,
                    "max": 30.887288,
                    "histogram": [
                      {
                        "bin_start": 20.469963,
                        "bin_end": 21.511695500000002,
                        "count": 3
                      },
                      {
                        "bin_start": 21.511695500000002,
                        "bin_end": 22.553428,
                        "count": 1
                      },
                      {
                        "bin_start": 22.553428,
                        "bin_end": 23.5951605,
                        "count": 0
                      },
                      {
                        "bin_start": 23.5951605,
                        "bin_end": 24.636893,
                        "count": 2
                      },
                      {
                        "bin_start": 24.636893,
                        "bin_end": 25.678625500000003,
                        "count": 1
                      },
                      {
                        "bin_start": 25.678625500000003,
                        "bin_end": 26.720358,
                        "count": 0
                      },
                      {
                        "bin_start": 26.720358,
                        "bin_end": 27.7620905,
                        "count": 0
                      },
                      {
                        "bin_start": 27.7620905,
                        "bin_end": 28.803823,
                        "count": 1
                      },
                      {
                        "bin_start": 28.803823,
                        "bin_end": 29.845555500000003,
                        "count": 1
                      },
                      {
                        "bin_start": 29.845555500000003,
                        "bin_end": 30.887288,
                        "count": 1
                      }
                    ]
                  }
                },
                {
                  "name": "_deepnote_index_column",
                  "dtype": "int64"
                }
              ],
              "rows_top": [
                {
                  "title": "Amazing Game Show Cheaters",
                  "description": "Whammy! Some people are straight up cheaters. GMM #893!\nFollow us on Twitter at http://twitter.com/rhettandlink\nGood Mythical MORE: https://youtu.be/CTuKtKkqbGE\nSUBSCRIBE for daily episodes: http://bit.ly/subrl2  \n\nPREVIOUS episode: https://youtu.be/_CAiGIdNAwo?list=PLJ...\n\nNEXT episode: https://youtu.be/ZN4NFwmI86I?list=PLJ49NV73ttrvdeqDBaqtbdE18ClnJ8tCL\n\nGet the GMM Coffee Mug! http://bit.ly/GMM_Mug\n\nGet the GMM Poster, GMM T-shirt and more! http://bit.ly/RL_Store\n\nWatch the Rhett & Link Channel: http://youtube.com/rhettandlink\n\nListen to our podcast, Ear Biscuits!\niTunes: https://itunes.apple.com/podcast/ear-...\nSoundCloud: https://soundcloud.com/earbiscuits\n\nLIKE us on FACEBOOK! http://facebook.com/rhettandlink\nFOLLOW us on TWITTER! http://twitter.com/rhettandlink\nFOLLOW us on TUMBLR: http://rhettandlink.tumblr.com/\nFOLLOW our INSTAGRAM:  http://instagram.com/rhettandlink\nJOIN our circle on GOOGLE+: https://plus.google.com/+rhettandlink\n\nJOIN the RhettandLinKommunity! http://bit.ly/rlkommunity\n\nMail us stuff to our P.O. Box!  http://rhettandlink.com/contact \n\nSubmit a Wheel of Mythicality intro video! http://bit.ly/GMMWheelIntro\n\nWe are two Internetainers dedicated to giving you a daily dose of casual comedy every Monday-Friday on our show \"Good Mythical Morning.\" Thanks for making us a part of your daily routine.  Be your mythical best! - Rhett & Link\n\nCREDITS: \nExecutive Producer: Stevie Wynne Levine\nExecutive Producer: Drew Champion\nWriter/Producer: Edward Coleman \nWriter/Producer: Lizzie Bassett\nWriter/Producer: Kevin Kostelnik\nAssociate Producer: Chase Hilt\nTechnical Director/Graphics/Editor: Morgan Locke\nEditor: Casey Nimmer\nAdditional Graphics/Editing: Matthew Dwyer \nProduction Coordinator: Alexander Punch \nProduction Assistant: Mike Criscimagna\nContent Manager: Becca Canote\nSet Construction/Dresser: Cassie Cobb\nIntro Motion Graphics: Digital Twigs \nhttp://www.digitaltwigs.com\nIntro Music: Pomplamoose http://www.youtube.com/pomplamoosemusic\nOutro Music: Pomplamoose http://www.youtube.com/pomplamoosemusic\nWheel of Mythicality Music: http://www.royaltyfreemusiclibrary.com/ \nMicrophone: ‘The Mouse’ by Blue Microphones http://www.bluemic.com/mouse/",
                  "published": "2016-04-05T10:00:00Z",
                  "tag_count": 29,
                  "view_count": 30887288,
                  "like_count": 285414,
                  "dislike_count": 28684,
                  "comment_count": 14412,
                  "title_length": 26,
                  "reactions": 342922,
                  "view_count_millions": 30.887288,
                  "_deepnote_index_column": 1475
                },
                {
                  "title": "World’s Hottest Pepper Challenge: Caroli",
                  "description": "We eat the World's Hottest Chili Pepper -- the Carolina Reaper. \nGMM #538! \nGood Mythical MORE: http://youtu.be/kNL-rqBZfjI\nFor a free trial of Lynda.com go to - http://Lynda.com/rhettandlink\n\nWatch The Ghost Pepper Challenge Video: http://youtu.be/8dFMCf8zi5s\n\nSUBSCRIBE for daily episodes: http://bit.ly/subrl2   **** \n\nPREVIOUS episode:\nhttp://youtu.be/2vfcOOXSjEI\n\nNEXT episode:\nhttp://youtu.be/FySsiGU6IAw\n\nGet the GMM Coffee Mug!\nhttp://dftba.com/product/1bv/Good-Mythical-Morning-Mug\n\nGet the GMM Signed Poster plus the GMM T-shirt! \nhttp://dftba.com/artist/26/Rhett--Link\n\nMAIN YOUTUBE CHANNEL: http://youtube.com/rhettandlink\n\nListen to Ear Biscuits!\niTunes: https://itunes.apple.com/podcast/ear-biscuits/id717407884\nSoundCloud: https://soundcloud.com/earbiscuits\n\nJOIN the RhettandLinKommunity!\nhttp://bit.ly/rlkommunity\n\nLIKE us on FACEBOOK! http://facebook.com/rhettandlink\nFOLLOW us on TWITTER!\nhttp://twitter.com/rhettandlink\nFOLLOW us on TUMBLR: http://rhettandlink.tumblr.com/\nFOLLOW our INSTAGRAM - http://instagram.com/rhettandlink\nJOIN our circle on GOOGLE PLUS: https://plus.google.com/+rhettandlink\n\nGood Mythical Morning is available for download on iTunes!\nVideo Podcast: http://bit.ly/xuJVPc\nAudio Podcast: http://bit.ly/zSewZ6\n\nWe are two Internetainers dedicated to giving you a daily dose of casual comedy every Monday-Friday on our show \"Good Mythical Morning\" at youtube.com/rhettandlink2.  Thanks for making us a part of your daily routine.  Be your mythical best, mythical beast. - Rhett & Link\n\nMail us stuff to our P.O. Box \nGo to http://rhettandlink.com/contact for details.\n\nCREDITS: \nProduced by Stevie Wynne Levine\nCo-Producer,Camera: Edward Coleman \nEditor: Morgan Locke\nProduction Assistant: Alexander Punch \nShow Graphics Package and Lighting: Ben Eck\nIntro Motion Graphics: Digital Twigs http://www.digitaltwigs.com\nIntro Music: Pomplamoose http://www.youtube.com/pomplamoosemusic\nSet dresser:  Cassie Cobb\nSet construction: Jason Inman\nWheel music: http://www.royaltyfreemusiclibrary.com/ \nMicrophone: The Mouse from Blue Microphones: http://www.bluemic.com/mouse/",
                  "published": "2014-09-30T10:00:02Z",
                  "tag_count": 36,
                  "view_count": 29407723,
                  "like_count": 431821,
                  "dislike_count": 10678,
                  "comment_count": 40635,
                  "title_length": 49,
                  "reactions": 523769,
                  "view_count_millions": 29.407723,
                  "_deepnote_index_column": 1863
                },
                {
                  "title": "Eating a Scorpion: Bug War Challenge",
                  "description": "We're going to eat grasshoppers, pupae, and a scorpion today while playing a game! GMM 411!\nGood Mythical MORE: https://www.youtube.com/watch?v=mpj9XVgVDtw\n\nSUBSCRIBE for daily episodes: http://bit.ly/subrl2   **** \n\nPREVIOUS episode:\nhttps://www.youtube.com/watch?v=PLkmlVYpmZI\n\nNEXT episode:\nhttps://www.youtube.com/watch?v=aPn0QgHQYVs\n\nReceive a free trial of Netflix on us!\nhttp://www.netflix.com/rhettandlink\n\nGet the GMM Coffee Mug!\nhttp://dftba.com/product/1bv/Good-Mythical-Morning-Mug\n\nGet the GMM Signed Poster plus the GMM T-shirt! \nhttp://dftba.com/artist/26/Rhett--Link\n\nMAIN YOUTUBE CHANNEL: http://youtube.com/rhettandlink\n\nListen to Ear Biscuits!\niTunes: https://itunes.apple.com/podcast/ear-biscuits/id717407884\nSoundCloud: https://soundcloud.com/earbiscuits\n\nJOIN the RhettandLinKommunity!\nhttp://bit.ly/rlkommunity\n\nLIKE us on FACEBOOK! http://facebook.com/rhettandlink\nFOLLOW us on TWITTER!\nhttp://twitter.com/rhettandlink\nFOLLOW us on TUMBLR: http://rhettandlink.tumblr.com/\nFOLLOW our INSTAGRAM - http://instagram.com/rhettandlink\nJOIN our circle on GOOGLE PLUS: https://plus.google.com/+rhettandlink\n\nGood Mythical Morning is available for download on iTunes!\nVideo Podcast: http://bit.ly/xuJVPc\nAudio Podcast: http://bit.ly/zSewZ6\n\nWe are two Internetainers dedicated to giving you a daily dose of casual comedy every Monday-Friday on our show \"Good Mythical Morning\" at youtube.com/rhettandlink2.  Thanks for making us a part of your daily routine.  Be your mythical best, mythical beast. - Rhett & Link\n\nMail us stuff to our P.O. Box \nGo to http://rhettandlink.com/contact for details.\n\nCREDITS: \nProduced by Stevie Wynne Levine\nCo-producer, Camera, Editor: Jason Inman\nShow Graphics Package and Lighting: Ben Eck\nIntro Illustration: Kendrick Kidd http://kendrickkidd.com/\nIntro Motion Graphics: Eden Soto http://eden.tv\nSet dresser:  Cassie Cobb\nSet construction: Jason Inman\nWheel music: http://www.royaltyfreemusiclibrary.com/ \nMicrophone: The Mouse from Blue Microphones: http://www.bluemic.com/mouse/",
                  "published": "2014-03-28T10:00:01Z",
                  "tag_count": 24,
                  "view_count": 27931612,
                  "like_count": 288652,
                  "dislike_count": 12033,
                  "comment_count": 27880,
                  "title_length": 36,
                  "reactions": 356445,
                  "view_count_millions": 27.931612,
                  "_deepnote_index_column": 2013
                },
                {
                  "title": "Making Real Food w/ Play-Doh Toys",
                  "description": "Everyone thinks about eating Play-Doh, but we actually do it!  GMM #568!\nGood Mythical MORE: http://youtu.be/S2wT2F8lY6E\nSUBSCRIBE for daily episodes: http://bit.ly/subrl2   **** \n\nPREVIOUS episode:\nhttp://youtu.be/2D33LkwtE_M\n\nNEXT episode:\nhttp://youtu.be/mrtgz42Ra7M\n\nGet the GMM Coffee Mug!\nhttp://dftba.com/product/1bv/Good-Mythical-Morning-Mug\n\nGet the GMM Signed Poster plus the GMM T-shirt! \nhttp://dftba.com/artist/26/Rhett--Link\n\nWatch the Rhett & Link Channel: http://youtube.com/rhettandlink\n\nListen to Ear Biscuits!\niTunes: https://itunes.apple.com/podcast/ear-biscuits/id717407884\nSoundCloud: https://soundcloud.com/earbiscuits\n\nJOIN the RhettandLinKommunity!\nhttp://bit.ly/rlkommunity\n\nLIKE us on FACEBOOK! http://facebook.com/rhettandlink\nFOLLOW us on TWITTER!\nhttp://twitter.com/rhettandlink\nFOLLOW us on TUMBLR: http://rhettandlink.tumblr.com/\nFOLLOW our INSTAGRAM - http://instagram.com/rhettandlink\nJOIN our circle on GOOGLE PLUS: https://plus.google.com/+rhettandlink\n\nGood Mythical Morning is available for download on iTunes!\nVideo Podcast: http://bit.ly/xuJVPc\nAudio Podcast: http://bit.ly/zSewZ6\n\nWe are two Internetainers dedicated to giving you a daily dose of casual comedy every Monday-Friday on our show \"Good Mythical Morning\" at youtube.com/rhettandlink2.  Thanks for making us a part of your daily routine.  Be your mythical best, mythical beast. - Rhett & Link\n\nMail us stuff to our P.O. Box \nGo to http://rhettandlink.com/contact for details.\n\nCREDITS: \nProduced by Stevie Wynne Levine\nWriter, Producer, Camera: Edward Coleman \nEditor, Graphics: Morgan Locke\nProduction Assistant: Alexander Punch \nShow Graphics Package and Lighting: Ben Eck\nIntro Motion Graphics: Digital Twigs http://www.digitaltwigs.com\nIntro Music: Pomplamoose http://www.youtube.com/pomplamoosemusic\nSet dresser:  Cassie Cobb\nSet construction: Jason Inman\nWheel music: http://www.royaltyfreemusiclibrary.com/ \nMicrophone: The Mouse from Blue Microphones: http://www.bluemic.com/mouse/",
                  "published": "2014-11-11T11:00:10Z",
                  "tag_count": 47,
                  "view_count": 25413943,
                  "like_count": 205526,
                  "dislike_count": 8124,
                  "comment_count": 25499,
                  "title_length": 33,
                  "reactions": 264648,
                  "view_count_millions": 25.413943,
                  "_deepnote_index_column": 1827
                },
                {
                  "title": "Will It Deep Fry? - Taste Test",
                  "description": "Eggs? Lemon? Sunglasses? Today we ask the age old question -- will it deep fry? GMM #533!\nGood Mythical MORE: http://youtu.be/jQdXShVpdCI\nSUBSCRIBE for daily episodes: http://bit.ly/subrl2   **** \n\nWill It Taco? - Taste Test - http://youtu.be/WFp9D_Eue9M\nIce Cream Sandwich Challenge - http://youtu.be/Nj3qoo750_I\n\nPREVIOUS episode:\nhttp://youtu.be/84rt8GbIPVo\n\nNEXT episode:\nhttp://youtu.be/zUERO603RR4\n\nGet the GMM Coffee Mug!\nhttp://dftba.com/product/1bv/Good-Mythical-Morning-Mug\n\nGet the GMM Signed Poster plus the GMM T-shirt! \nhttp://dftba.com/artist/26/Rhett--Link\n\nMAIN YOUTUBE CHANNEL: http://youtube.com/rhettandlink\n\nListen to Ear Biscuits!\niTunes: https://itunes.apple.com/podcast/ear-biscuits/id717407884\nSoundCloud: https://soundcloud.com/earbiscuits\n\nJOIN the RhettandLinKommunity!\nhttp://bit.ly/rlkommunity\n\nLIKE us on FACEBOOK! http://facebook.com/rhettandlink\nFOLLOW us on TWITTER!\nhttp://twitter.com/rhettandlink\nFOLLOW us on TUMBLR: http://rhettandlink.tumblr.com/\nFOLLOW our INSTAGRAM - http://instagram.com/rhettandlink\nJOIN our circle on GOOGLE PLUS: https://plus.google.com/+rhettandlink\n\nGood Mythical Morning is available for download on iTunes!\nVideo Podcast: http://bit.ly/xuJVPc\nAudio Podcast: http://bit.ly/zSewZ6\n\nWe are two Internetainers dedicated to giving you a daily dose of casual comedy every Monday-Friday on our show \"Good Mythical Morning\" at youtube.com/rhettandlink2.  Thanks for making us a part of your daily routine.  Be your mythical best, mythical beast. - Rhett & Link\n\nMail us stuff to our P.O. Box \nGo to http://rhettandlink.com/contact for details.\n\nCREDITS: \nProduced by Stevie Wynne Levine\nCo-Producer,Camera: Edward Coleman \nEditor: Morgan Locke\nProduction Assistant: Alexander Punch \nShow Graphics Package and Lighting: Ben Eck\nIntro Motion Graphics: Digital Twigs http://www.digitaltwigs.com\nIntro Music: Pomplamoose http://www.youtube.com/pomplamoosemusic\nSet dresser:  Cassie Cobb\nSet construction: Jason Inman\nWheel music: http://www.royaltyfreemusiclibrary.com/ \nMicrophone: The Mouse from Blue Microphones: http://www.bluemic.com/mouse/",
                  "published": "2014-09-23T10:00:02Z",
                  "tag_count": 47,
                  "view_count": 24515648,
                  "like_count": 217421,
                  "dislike_count": 5495,
                  "comment_count": 23318,
                  "title_length": 30,
                  "reactions": 269552,
                  "view_count_millions": 24.515648,
                  "_deepnote_index_column": 1869
                },
                {
                  "title": "Will It Ice Cream Sandwich? Taste Test",
                  "description": "We eat some interesting ice cream sandwiches. GMM #493! \nGood Mythical MORE: http://youtu.be/TLl0t8VsFuU\n\nWatch I'm On Vacation: http://youtu.be/M2WTRqCu_DY\n\nSUBSCRIBE for daily episodes: http://bit.ly/subrl2   **** \n\nPREVIOUS episode:\nhttp://youtu.be/e3I25VuZYwY\n\nNEXT episode:\nhttp://youtu.be/kT2nRULLc30\n\nGet the GMM Coffee Mug!\nhttp://dftba.com/product/1bv/Good-Mythical-Morning-Mug\n\nGet the GMM Signed Poster plus the GMM T-shirt! \nhttp://dftba.com/artist/26/Rhett--Link\n\nMAIN YOUTUBE CHANNEL: http://youtube.com/rhettandlink\n\nListen to Ear Biscuits!\niTunes: https://itunes.apple.com/podcast/ear-biscuits/id717407884\nSoundCloud: https://soundcloud.com/earbiscuits\n\nJOIN the RhettandLinKommunity!\nhttp://bit.ly/rlkommunity\n\nLIKE us on FACEBOOK! http://facebook.com/rhettandlink\nFOLLOW us on TWITTER!\nhttp://twitter.com/rhettandlink\nFOLLOW us on TUMBLR: http://rhettandlink.tumblr.com/\nFOLLOW our INSTAGRAM - http://instagram.com/rhettandlink\nJOIN our circle on GOOGLE PLUS: https://plus.google.com/+rhettandlink\n\nGood Mythical Morning is available for download on iTunes!\nVideo Podcast: http://bit.ly/xuJVPc\nAudio Podcast: http://bit.ly/zSewZ6\n\nWe are two Internetainers dedicated to giving you a daily dose of casual comedy every Monday-Friday on our show \"Good Mythical Morning\" at youtube.com/rhettandlink2.  Thanks for making us a part of your daily routine.  Be your mythical best, mythical beast. - Rhett & Link\n\nMail us stuff to our P.O. Box \nGo to http://rhettandlink.com/contact for details.\n\nCREDITS: \nProduced by Stevie Wynne Levine\nCo-Producer, Camera: Edward Coleman\nEditor: Morgan Locke\nProduction Assistant: Alexander Punch \nProduction Intern: Chase Hilt \nShow Graphics Package and Lighting: Ben Eck\nIntro Motion Graphics: Digital Twigs http://www.digitaltwigs.com\nIntro Music: Pomplamoose http://www.youtube.com/pomplamoosemusic\nSet dresser:  Cassie Cobb\nSet construction: Jason Inman\nWheel music: http://www.royaltyfreemusiclibrary.com/ \nMicrophone: The Mouse from Blue Microphones: http://www.bluemic.com/mouse/",
                  "published": "2014-07-29T10:00:01Z",
                  "tag_count": 42,
                  "view_count": 23652799,
                  "like_count": 245787,
                  "dislike_count": 4558,
                  "comment_count": 30708,
                  "title_length": 38,
                  "reactions": 311761,
                  "view_count_millions": 23.652799,
                  "_deepnote_index_column": 1917
                },
                {
                  "title": "The Most Amazing Optical Illusions on th",
                  "description": "Your mind will explode when we show you all the best optical illusions on the internet. Good Mythical Morning Episode 260!  \nSUBSCRIBE for daily episodes: http://bit.ly/subrl2 **** \n\nMAIN YOUTUBE CHANNEL: http://youtube.com/rhettandlink\n\nLIKE us on FACEBOOK! http://facebook.com/rhettandlink\nFOLLOW us on TWITTER! http://twitter.com/rhettandlink\nJOIN our circle on GOOGLE PLUS: http://bit.ly/RhettLinkPlus\n\nSend us stuff at our P.O. Box\nRhett & Link\nPO Box 55605, Sherman Oaks, CA 91413\n\nGood Mythical Morning is available for download on iTunes!\nVideo Podcast: http://bit.ly/xuJVPc\nAudio Podcast: http://bit.ly/zSewZ6\n\nRhett and Link are Internetainers dedicated to giving you a daily dose of casual comedy every Monday-Friday on our show \"Good Mythical Morning\" only on youtube.com/rhettandlink2. \n\nJOIN the RhettandLinKommunity!\nhttp://bit.ly/rlkommunity\n\nSupport the official GMM artistes!\n\nGMM Cockatrice/Flame Illustration:\nKendrick Kidd\nhttp://kendrickkidd.com/\n\nGMM Intro Motion Graphics:\nEden Soto\nhttp://eden.tv\n\nCREDITS: \nProducer, Camera, Editing:  Jason Inman\nWheel music: RoyaltyFreeMusicLibrary.comhttp://www.royaltyfreemusiclibrary.com/ \nMicrophone: The Mouse from Blue Microphones: http://www.bluemic.com/mouse/",
                  "published": "2013-03-18T14:37:16Z",
                  "tag_count": 20,
                  "view_count": 22403009,
                  "like_count": 106198,
                  "dislike_count": 15266,
                  "comment_count": 11265,
                  "title_length": 50,
                  "reactions": 143994,
                  "view_count_millions": 22.403009,
                  "_deepnote_index_column": 2200
                },
                {
                  "title": "Will It Popsicle? Taste Test",
                  "description": "Will our favorite foods be just as delicious in popsicle form?  GMM #578\nGood Mythical MORE: http://youtu.be/Y3j_LYXXbmw\nSUBSCRIBE for daily episodes: http://bit.ly/subrl2   **** \n\nPREVIOUS episode:\nhttp://youtu.be/YhpzgrZiYmE\n\nNEXT episode:\nhttp://youtu.be/u7WGKy5Wz5A\n\nGet the GMM Coffee Mug!\nhttp://store.dftba.com/products/good-mythical-morning-mug\n\nGet the GMM Signed Poster plus the GMM T-shirt! \nhttp://store.dftba.com/collections/rhett-link\n\nWatch the Rhett & Link Channel: http://youtube.com/rhettandlink\n\nListen to Ear Biscuits!\niTunes: https://itunes.apple.com/podcast/ear-biscuits/id717407884\nSoundCloud: https://soundcloud.com/earbiscuits\n\nJOIN the RhettandLinKommunity!\nhttp://bit.ly/rlkommunity\n\nLIKE us on FACEBOOK! http://facebook.com/rhettandlink\nFOLLOW us on TWITTER!\nhttp://twitter.com/rhettandlink\nFOLLOW us on TUMBLR: http://rhettandlink.tumblr.com/\nFOLLOW our INSTAGRAM - http://instagram.com/rhettandlink\nJOIN our circle on GOOGLE PLUS: https://plus.google.com/+rhettandlink\n\nGood Mythical Morning is available for download on iTunes!\nVideo Podcast: http://bit.ly/xuJVPc\nAudio Podcast: http://bit.ly/zSewZ6\n\nWe are two Internetainers dedicated to giving you a daily dose of casual comedy every Monday-Friday on our show \"Good Mythical Morning\" at youtube.com/rhettandlink2.  Thanks for making us a part of your daily routine.  Be your mythical best, mythical beast. - Rhett & Link\n\nMail us stuff to our P.O. Box \nGo to http://rhettandlink.com/contact for details.\n\nCREDITS: \nProduced by Stevie Wynne Levine\nWriter, Producer, Camera: Edward Coleman \nEditor, Graphics: Morgan Locke\nProduction Assistant: Alexander Punch \nShow Graphics Package and Lighting: Ben Eck\nIntro Motion Graphics: Digital Twigs http://www.digitaltwigs.com\nIntro Music: Pomplamoose http://www.youtube.com/pomplamoosemusic\nSet dresser:  Cassie Cobb\nSet construction: Jason Inman\nWheel music: http://www.royaltyfreemusiclibrary.com/ \nMicrophone: The Mouse from Blue Microphones: http://www.bluemic.com/mouse/",
                  "published": "2014-11-25T11:00:11Z",
                  "tag_count": 47,
                  "view_count": 21501812,
                  "like_count": 223768,
                  "dislike_count": 4481,
                  "comment_count": 24315,
                  "title_length": 28,
                  "reactions": 276879,
                  "view_count_millions": 21.501812,
                  "_deepnote_index_column": 1815
                },
                {
                  "title": "8 Weird Ways To Open A Bottle",
                  "description": "Today we're poppin' bottles 8 different ways. GMM 468!\nGood Mythical MORE: http://youtu.be/q11IExcqQuM\n\nSUBSCRIBE for daily episodes: http://bit.ly/subrl2   **** \n\nPREVIOUS episode:\nhttp://youtu.be/nW3txVqGop4\n\nNEXT episode:\nhttp://youtu.be/-1QeJAmpvGk\n\nGet the GMM Coffee Mug!\nhttp://dftba.com/product/1bv/Good-Mythical-Morning-Mug\n\nGet the GMM Signed Poster plus the GMM T-shirt! \nhttp://dftba.com/artist/26/Rhett--Link\n\nMAIN YOUTUBE CHANNEL: http://youtube.com/rhettandlink\n\nListen to Ear Biscuits!\niTunes: https://itunes.apple.com/podcast/ear-biscuits/id717407884\nSoundCloud: https://soundcloud.com/earbiscuits\n\nJOIN the RhettandLinKommunity!\nhttp://bit.ly/rlkommunity\n\nLIKE us on FACEBOOK! http://facebook.com/rhettandlink\nFOLLOW us on TWITTER!\nhttp://twitter.com/rhettandlink\nFOLLOW us on TUMBLR: http://rhettandlink.tumblr.com/\nFOLLOW our INSTAGRAM - http://instagram.com/rhettandlink\nJOIN our circle on GOOGLE PLUS: https://plus.google.com/+rhettandlink\n\nGood Mythical Morning is available for download on iTunes!\nVideo Podcast: http://bit.ly/xuJVPc\nAudio Podcast: http://bit.ly/zSewZ6\n\nWe are two Internetainers dedicated to giving you a daily dose of casual comedy every Monday-Friday on our show \"Good Mythical Morning\" at youtube.com/rhettandlink2.  Thanks for making us a part of your daily routine.  Be your mythical best, mythical beast. - Rhett & Link\n\nMail us stuff to our P.O. Box \nGo to http://rhettandlink.com/contact for details.\n\nCREDITS: \nProduced by Stevie Wynne Levine\nCo-Producer, Camera: Edward Coleman\nEditor: Brian Jaggers\nShow Graphics Package and Lighting: Ben Eck\nIntro Illustration: Kendrick Kidd http://kendrickkidd.com/\nIntro Motion Graphics: Eden Soto http://eden.tv\nSet dresser:  Cassie Cobb\nSet construction: Jason Inman\nWheel music: http://www.royaltyfreemusiclibrary.com/ \nMicrophone: The Mouse from Blue Microphones: http://www.bluemic.com/mouse/",
                  "published": "2014-06-17T10:00:01Z",
                  "tag_count": 34,
                  "view_count": 21246029,
                  "like_count": 237133,
                  "dislike_count": 7713,
                  "comment_count": 23003,
                  "title_length": 29,
                  "reactions": 290852,
                  "view_count_millions": 21.246029,
                  "_deepnote_index_column": 1948
                },
                {
                  "title": "Will It Taco? - Taste Test",
                  "description": "We test out some interesting taco ingredients.**VOMIT ALERT** GMM 437!\nGood Mythical MORE: http://youtu.be/uGTMYT-OV64\n\nSUBSCRIBE for daily episodes: http://bit.ly/subrl2   **** \n\nPREVIOUS episode:\nhttp://youtu.be/QgjxEyyNnvI\n\nNEXT episode:\nhttp://youtu.be/epDjx6uG498\n\nReceive a free trial of Netflix on us!\nhttp://www.netflix.com/rhettandlink\n\nGet the GMM Coffee Mug!\nhttp://dftba.com/product/1bv/Good-Mythical-Morning-Mug\n\nGet the GMM Signed Poster plus the GMM T-shirt! \nhttp://dftba.com/artist/26/Rhett--Link\n\nMAIN YOUTUBE CHANNEL: http://youtube.com/rhettandlink\n\nListen to Ear Biscuits!\niTunes: https://itunes.apple.com/podcast/ear-biscuits/id717407884\nSoundCloud: https://soundcloud.com/earbiscuits\n\nJOIN the RhettandLinKommunity!\nhttp://bit.ly/rlkommunity\n\nLIKE us on FACEBOOK! http://facebook.com/rhettandlink\nFOLLOW us on TWITTER!\nhttp://twitter.com/rhettandlink\nFOLLOW us on TUMBLR: http://rhettandlink.tumblr.com/\nFOLLOW our INSTAGRAM - http://instagram.com/rhettandlink\nJOIN our circle on GOOGLE PLUS: https://plus.google.com/+rhettandlink\n\nGood Mythical Morning is available for download on iTunes!\nVideo Podcast: http://bit.ly/xuJVPc\nAudio Podcast: http://bit.ly/zSewZ6\n\nWe are two Internetainers dedicated to giving you a daily dose of casual comedy every Monday-Friday on our show \"Good Mythical Morning\" at youtube.com/rhettandlink2.  Thanks for making us a part of your daily routine.  Be your mythical best, mythical beast. - Rhett & Link\n\nMail us stuff to our P.O. Box \nGo to http://rhettandlink.com/contact for details.\n\nCREDITS: \nProduced by Stevie Wynne Levine\nCo-Producer, Camera, Editor: Edward Coleman\nCo-producer: Jason Inman\nShow Graphics Package and Lighting: Ben Eck\nIntro Illustration: Kendrick Kidd http://kendrickkidd.com/\nIntro Motion Graphics: Eden Soto http://eden.tv\nSet dresser:  Cassie Cobb\nSet construction: Jason Inman\nWheel music: http://www.royaltyfreemusiclibrary.com/ \nMicrophone: The Mouse from Blue Microphones: http://www.bluemic.com/mouse/",
                  "published": "2014-05-05T10:00:01Z",
                  "tag_count": 37,
                  "view_count": 20469963,
                  "like_count": 217477,
                  "dislike_count": 4971,
                  "comment_count": 30006,
                  "title_length": 26,
                  "reactions": 282460,
                  "view_count_millions": 20.469963,
                  "_deepnote_index_column": 1987
                }
              ],
              "rows_bottom": null
            },
            "text/plain": "                                         title  \\\n1475                Amazing Game Show Cheaters   \n1863  World’s Hottest Pepper Challenge: Caroli   \n2013      Eating a Scorpion: Bug War Challenge   \n1827         Making Real Food w/ Play-Doh Toys   \n1869            Will It Deep Fry? - Taste Test   \n1917    Will It Ice Cream Sandwich? Taste Test   \n2200  The Most Amazing Optical Illusions on th   \n1815              Will It Popsicle? Taste Test   \n1948             8 Weird Ways To Open A Bottle   \n1987                Will It Taco? - Taste Test   \n\n                                            description             published  \\\n1475  Whammy! Some people are straight up cheaters. ...  2016-04-05T10:00:00Z   \n1863  We eat the World's Hottest Chili Pepper -- the...  2014-09-30T10:00:02Z   \n2013  We're going to eat grasshoppers, pupae, and a ...  2014-03-28T10:00:01Z   \n1827  Everyone thinks about eating Play-Doh, but we ...  2014-11-11T11:00:10Z   \n1869  Eggs? Lemon? Sunglasses? Today we ask the age ...  2014-09-23T10:00:02Z   \n1917  We eat some interesting ice cream sandwiches. ...  2014-07-29T10:00:01Z   \n2200  Your mind will explode when we show you all th...  2013-03-18T14:37:16Z   \n1815  Will our favorite foods be just as delicious i...  2014-11-25T11:00:11Z   \n1948  Today we're poppin' bottles 8 different ways. ...  2014-06-17T10:00:01Z   \n1987  We test out some interesting taco ingredients....  2014-05-05T10:00:01Z   \n\n      tag_count  view_count  like_count  dislike_count  comment_count  \\\n1475         29    30887288      285414          28684          14412   \n1863         36    29407723      431821          10678          40635   \n2013         24    27931612      288652          12033          27880   \n1827         47    25413943      205526           8124          25499   \n1869         47    24515648      217421           5495          23318   \n1917         42    23652799      245787           4558          30708   \n2200         20    22403009      106198          15266          11265   \n1815         47    21501812      223768           4481          24315   \n1948         34    21246029      237133           7713          23003   \n1987         37    20469963      217477           4971          30006   \n\n      title_length  reactions  view_count_millions  \n1475            26     342922            30.887288  \n1863            49     523769            29.407723  \n2013            36     356445            27.931612  \n1827            33     264648            25.413943  \n1869            30     269552            24.515648  \n1917            38     311761            23.652799  \n2200            50     143994            22.403009  \n1815            28     276879            21.501812  \n1948            29     290852            21.246029  \n1987            26     282460            20.469963  ",
            "text/html": "<div>\n<style scoped>\n    .dataframe tbody tr th:only-of-type {\n        vertical-align: middle;\n    }\n\n    .dataframe tbody tr th {\n        vertical-align: top;\n    }\n\n    .dataframe thead th {\n        text-align: right;\n    }\n</style>\n<table border=\"1\" class=\"dataframe\">\n  <thead>\n    <tr style=\"text-align: right;\">\n      <th></th>\n      <th>title</th>\n      <th>description</th>\n      <th>published</th>\n      <th>tag_count</th>\n      <th>view_count</th>\n      <th>like_count</th>\n      <th>dislike_count</th>\n      <th>comment_count</th>\n      <th>title_length</th>\n      <th>reactions</th>\n      <th>view_count_millions</th>\n    </tr>\n  </thead>\n  <tbody>\n    <tr>\n      <th>1475</th>\n      <td>Amazing Game Show Cheaters</td>\n      <td>Whammy! Some people are straight up cheaters. ...</td>\n      <td>2016-04-05T10:00:00Z</td>\n      <td>29</td>\n      <td>30887288</td>\n      <td>285414</td>\n      <td>28684</td>\n      <td>14412</td>\n      <td>26</td>\n      <td>342922</td>\n      <td>30.887288</td>\n    </tr>\n    <tr>\n      <th>1863</th>\n      <td>World’s Hottest Pepper Challenge: Caroli</td>\n      <td>We eat the World's Hottest Chili Pepper -- the...</td>\n      <td>2014-09-30T10:00:02Z</td>\n      <td>36</td>\n      <td>29407723</td>\n      <td>431821</td>\n      <td>10678</td>\n      <td>40635</td>\n      <td>49</td>\n      <td>523769</td>\n      <td>29.407723</td>\n    </tr>\n    <tr>\n      <th>2013</th>\n      <td>Eating a Scorpion: Bug War Challenge</td>\n      <td>We're going to eat grasshoppers, pupae, and a ...</td>\n      <td>2014-03-28T10:00:01Z</td>\n      <td>24</td>\n      <td>27931612</td>\n      <td>288652</td>\n      <td>12033</td>\n      <td>27880</td>\n      <td>36</td>\n      <td>356445</td>\n      <td>27.931612</td>\n    </tr>\n    <tr>\n      <th>1827</th>\n      <td>Making Real Food w/ Play-Doh Toys</td>\n      <td>Everyone thinks about eating Play-Doh, but we ...</td>\n      <td>2014-11-11T11:00:10Z</td>\n      <td>47</td>\n      <td>25413943</td>\n      <td>205526</td>\n      <td>8124</td>\n      <td>25499</td>\n      <td>33</td>\n      <td>264648</td>\n      <td>25.413943</td>\n    </tr>\n    <tr>\n      <th>1869</th>\n      <td>Will It Deep Fry? - Taste Test</td>\n      <td>Eggs? Lemon? Sunglasses? Today we ask the age ...</td>\n      <td>2014-09-23T10:00:02Z</td>\n      <td>47</td>\n      <td>24515648</td>\n      <td>217421</td>\n      <td>5495</td>\n      <td>23318</td>\n      <td>30</td>\n      <td>269552</td>\n      <td>24.515648</td>\n    </tr>\n    <tr>\n      <th>1917</th>\n      <td>Will It Ice Cream Sandwich? Taste Test</td>\n      <td>We eat some interesting ice cream sandwiches. ...</td>\n      <td>2014-07-29T10:00:01Z</td>\n      <td>42</td>\n      <td>23652799</td>\n      <td>245787</td>\n      <td>4558</td>\n      <td>30708</td>\n      <td>38</td>\n      <td>311761</td>\n      <td>23.652799</td>\n    </tr>\n    <tr>\n      <th>2200</th>\n      <td>The Most Amazing Optical Illusions on th</td>\n      <td>Your mind will explode when we show you all th...</td>\n      <td>2013-03-18T14:37:16Z</td>\n      <td>20</td>\n      <td>22403009</td>\n      <td>106198</td>\n      <td>15266</td>\n      <td>11265</td>\n      <td>50</td>\n      <td>143994</td>\n      <td>22.403009</td>\n    </tr>\n    <tr>\n      <th>1815</th>\n      <td>Will It Popsicle? Taste Test</td>\n      <td>Will our favorite foods be just as delicious i...</td>\n      <td>2014-11-25T11:00:11Z</td>\n      <td>47</td>\n      <td>21501812</td>\n      <td>223768</td>\n      <td>4481</td>\n      <td>24315</td>\n      <td>28</td>\n      <td>276879</td>\n      <td>21.501812</td>\n    </tr>\n    <tr>\n      <th>1948</th>\n      <td>8 Weird Ways To Open A Bottle</td>\n      <td>Today we're poppin' bottles 8 different ways. ...</td>\n      <td>2014-06-17T10:00:01Z</td>\n      <td>34</td>\n      <td>21246029</td>\n      <td>237133</td>\n      <td>7713</td>\n      <td>23003</td>\n      <td>29</td>\n      <td>290852</td>\n      <td>21.246029</td>\n    </tr>\n    <tr>\n      <th>1987</th>\n      <td>Will It Taco? - Taste Test</td>\n      <td>We test out some interesting taco ingredients....</td>\n      <td>2014-05-05T10:00:01Z</td>\n      <td>37</td>\n      <td>20469963</td>\n      <td>217477</td>\n      <td>4971</td>\n      <td>30006</td>\n      <td>26</td>\n      <td>282460</td>\n      <td>20.469963</td>\n    </tr>\n  </tbody>\n</table>\n</div>"
          },
          "metadata": {}
        }
      ],
      "execution_count": 13
    },
    {
      "cell_type": "code",
      "source": "sns.set(rc={'figure.figsize':(20,5)})\nplot = sns.barplot(x=\"view_count_millions\", y=\"title\", data=df_highest_views, palette=\"bright\")\nplot.set(xlabel='Millions of Views', ylabel='')\nplot.set_title('Most Viewed Videos')\nplt.xlim(20, 32)",
      "metadata": {
        "tags": [],
        "cell_id": "00015-db4f0527-6bff-43e0-9ece-2da25ccb791d",
        "deepnote_to_be_reexecuted": false,
        "source_hash": "447ace06",
        "execution_millis": 468,
        "execution_start": 1615653634229,
        "deepnote_cell_type": "code"
      },
      "outputs": [
        {
          "output_type": "execute_result",
          "execution_count": 14,
          "data": {
            "text/plain": "(20.0, 32.0)"
          },
          "metadata": {}
        },
        {
          "data": {
            "text/plain": "<Figure size 1440x360 with 1 Axes>",
            "image/png": "[encoded data removed]"
          },
          "metadata": {},
          "output_type": "display_data"
        }
      ],
      "execution_count": 14
    },
    {
      "cell_type": "markdown",
      "source": "### Most Reacted to Videos (Likes + Thumbs down + Comments)",
      "metadata": {
        "tags": [],
        "cell_id": "00026-6f8ca2cd-9c03-463f-a2b6-04b0f662284b",
        "deepnote_cell_type": "markdown"
      }
    },
    {
      "cell_type": "code",
      "source": "# Most Interations ( Like + Dislikes + Comments)\ndf_highest_reactions = df.nlargest(10, 'reactions')\ndf_highest_reactions['title'] = df_highest_reactions['title'].str[:40]\ndf_highest_reactions['reactions'] = df_highest_reactions['reactions'] / 1000\ndf_highest_reactions",
      "metadata": {
        "tags": [],
        "cell_id": "00014-d3b92911-976c-41c3-8737-6b2a7737210f",
        "deepnote_to_be_reexecuted": false,
        "source_hash": "741b8a0d",
        "execution_millis": 45,
        "execution_start": 1615653634707,
        "deepnote_cell_type": "code"
      },
      "outputs": [
        {
          "output_type": "execute_result",
          "execution_count": 15,
          "data": {
            "application/vnd.deepnote.dataframe.v2+json": {
              "row_count": 10,
              "column_count": 10,
              "columns": [
                {
                  "name": "title",
                  "dtype": "object",
                  "stats": {
                    "unique_count": 10,
                    "nan_count": 0,
                    "categories": [
                      {
                        "name": "International Taco Bell Taste Test",
                        "count": 1
                      },
                      {
                        "name": "Swedish Stereotypes ft. PewDiePie",
                        "count": 1
                      },
                      {
                        "name": "8 others",
                        "count": 8
                      }
                    ]
                  }
                },
                {
                  "name": "description",
                  "dtype": "object",
                  "stats": {
                    "unique_count": 10,
                    "nan_count": 0,
                    "categories": [
                      {
                        "name": "Today, we're trying Taco Bell items from AROUND THE WORLD and guessing where they are from. Join us in today's International Taco Bell Taste Test!!  GMM #1635\nSubscribe to GMM: https://www.youtube.com/user/rhettandlink2?sub_confirmation=1\n\nWatch today's GMMORE: https://youtu.be/8yAYP7VeLB0\nClick the bell icon so you'll know when we add a new episode!\n\nGet a copy of our new novel, The Lost Causes of Bleak Creek @ http://www.bleakcreek.com\n\nSee Rhett & Link play live in your city: tour tickets @ https://mythical.com/pages/tour\n\nWant more GMM? Check out these playlists:\nGood Mythical Summer 2019 - https://www.youtube.com/playlist?list=PLJ49NV73ttrtoBAHBOlB8RZXnkyZ_XGOk\nSeason 15 - https://www.youtube.com/playlist?list=PLJ49NV73ttrvfAOYCnPCjbWuoldJvinRj\nWill It? - https://www.youtube.com/playlist?list=PLJ49NV73ttrucP6jJ1gjSqHmhlmvkdZuf\nTaste Tests! - https://www.youtube.com/playlist?list=PLJ49NV73ttrsUefw67wH_pnEJ5KwJZ7lN\nFancy Fast Food - https://www.youtube.com/playlist?list=PLJ49NV73ttrvsfEo9x6FR7HURKOHQRnHO\n\nPick up official GMM and Mythical Merch at https://mythical.com\nand https://www.amazon.com/mythical\n\nJoin the Mythical Society: https://www.mythicalsociety.com/\n\nDon’t miss our weekly podcast, Ear Biscuits: https://applepodcasts.com/earbiscuits\n\nFollow Mythical: \nInstagram: https://instagram.com/mythical\nFacebook: https://facebook.com/mythical\nTwitter: https://twitter.com/mythical\nWebsite: https://mythical.com\n\nCheck Out Our Other Mythical Channels:\nRhett & Link: https://youtube.com/rhettandlink\nMythical Kitchen: https://youtube.com/mythicalkitchen\nGood Mythical MORE: https://youtube.com/goodmythicalmore\n\nWant to send us something? https://mythical.com/contact\n\nSubmit your Wheel of Mythicality intro video here: http://bit.ly/GMMWheelIntroSUBMISSIONS\n\nIntro Animation by Dana Schechter https://www.danaschechter.com/\nIntro & Outro Music by Mark Byers http://www.markaholic.com/\nSupplemental Music from Extreme Production Music: https://www.extrememusic.com/\nMic: ‘The Mouse’ by Blue Microphones https://www.bluemic.com/mouse/\n\nGet the GMM Set Gear!\n* Apple AirPort Extreme: https://amzn.to/2NnIvvk\n* Apple iPad Pro (12.9-inch, Wi-Fi, 64GB) - Space Gray (Latest Model) - MTEL2LL/A: https://amzn.to/2NnKXlw\n* Guardian Industrial Products DH-CP-4 3 Channel Rubber Cable Ramp (Straight): https://amzn.to/2NdshoR\n* Cartoni Focus HD Fluid Head with 3 Tube Ultra-Light Tripod, Mid-Level Spreader and Soft Case - Black: https://amzn.to/2X4i7X8\n* ARRI SkyPanel S60-C LED Softlight (Blue/Silver, Edison): https://amzn.to/2YgM3km\n* Chef-Master 90050 Professional Heat Lamp, Silver: https://amzn.to/2Xa1Wwr\n* Samsung UN40H5003 40-Inch 1080p LED TV (2014 Model): https://amzn.to/2NdMU4e\n* Sony LMDA170 17\" Production Video LCD Monitor, 16:9 Native Aspect Ratio, 1080p Resolution: https://amzn.to/2YlB9tH\n* Behringer Xenyx 1002 Premium 10-Input 2-Bus Mixer with XENYX Mic Preamps and British Eqs: https://amzn.to/2Yeeqzl\n* Elgato Game Capture Card HD60 S - Stream and Record in 1080p60, for PlayStation 4, Xbox One & Xbox 360 (Renewed): https://amzn.to/2NdOBP6\n* Pyle Universal Speaker Stand Mount Holder - Heavy Duty Tripod w/ Adjustable Height from 40” to 71” and 35mm Compatible Insert - Easy Mobility Safety PIN and Knob Tension Locking for Stability PSTND2: https://amzn.to/2JcCpce\n* JBL EON612 Portable 12\" 2-Way Multipurpose Self-Powered Sound Reinforcement: https://amzn.to/2Ndluvm\n* Bolt 500 XT 3G-SDI/HDMI Wireless TX/RX: https://amzn.to/2J1OeSk\n* Voigtlaender 17,5/0,95 Nokton 17.5 mm-17.5 mm Lens: https://amzn.to/2JjUCEP\n* Blackmagic Design Micro Converter SDI to HDMI (with Power Supply) BMD-CONVCMIC/SH/WPSU: https://amzn.to/2J6iw6y\n* Panasonic H-HSA35100 F2.8 II ASPH 35-100mm Mirrorless Micro Four Thirds Mount POWER Optical I.S. LUMIX G X VARIO Professional Lens: https://amzn.to/2RAhIul\n* PANASONIC LUMIX Professional 12-35mm Camera Lens G X VARIO II, F2.8 ASPH, Dual I.S. 2.0 with Power O.I.S., Mirrorless Micro Four Thirds, H-HSA12035 (2017 Model, Black): https://amzn.to/2J9WH5S\n* Decimator Design DMON-12S | 12 Channel Multi Viewer with HDMI SDI Outputs: https://amzn.to/2J9Xkwg\n* Decimator MD-HX HDMI and SDI Cross Converter with Scaling & Frame Rate Conversion: https://amzn.to/2Ymj52c\n* PANASONIC LUMIX GH4 Body 4K Mirrorless Camera, 16 Megapixels, 3 Inch Touch LCD, DMC-GH4KBODY (USA Black): https://amzn.to/2WZjlD6\n* Blue Microphones Mouse Microphone Kc: https://amzn.to/2Ybu12I",
                        "count": 1
                      },
                      {
                        "name": "Real life Swede, PewDiePie, schallenges us to guess some about Swedish stereotypes.  GMM #544!\nGood Mythical MORE: http://youtu.be/5xHfh194ypU\nFor a free trial of Lynda.com go to - http://lynda.com/rhettandlink\n\nCheck out PewDiePie - https://www.youtube.com/user/PewDiePie\n\nSUBSCRIBE for daily episodes: http://bit.ly/subrl2   **** \n\nPREVIOUS episode:\nhttp://youtu.be/2mfJ9B8S4A4\n\nNEXT episode:\nhttp://youtu.be/XbySo5U5vW0\n\nGet the GMM Coffee Mug!\nhttp://dftba.com/product/1bv/Good-Mythical-Morning-Mug\n\nGet the GMM Signed Poster plus the GMM T-shirt! \nhttp://dftba.com/artist/26/Rhett--Link\n\nMAIN YOUTUBE CHANNEL: http://youtube.com/rhettandlink\n\nListen to Ear Biscuits!\niTunes: https://itunes.apple.com/podcast/ear-biscuits/id717407884\nSoundCloud: https://soundcloud.com/earbiscuits\n\nJOIN the RhettandLinKommunity!\nhttp://bit.ly/rlkommunity\n\nLIKE us on FACEBOOK! http://facebook.com/rhettandlink\nFOLLOW us on TWITTER!\nhttp://twitter.com/rhettandlink\nFOLLOW us on TUMBLR: http://rhettandlink.tumblr.com/\nFOLLOW our INSTAGRAM - http://instagram.com/rhettandlink\nJOIN our circle on GOOGLE PLUS: https://plus.google.com/+rhettandlink\n\nGood Mythical Morning is available for download on iTunes!\nVideo Podcast: http://bit.ly/xuJVPc\nAudio Podcast: http://bit.ly/zSewZ6\n\nWe are two Internetainers dedicated to giving you a daily dose of casual comedy every Monday-Friday on our show \"Good Mythical Morning\" at youtube.com/rhettandlink2.  Thanks for making us a part of your daily routine.  Be your mythical best, mythical beast. - Rhett & Link\n\nMail us stuff to our P.O. Box \nGo to http://rhettandlink.com/contact for details.\n\nCREDITS: \nProduced by Stevie Wynne Levine\nWriter, Producer, Camera: Edward Coleman \nEditor, Graphics: Morgan Locke\nProduction Assistant: Alexander Punch \nShow Graphics Package and Lighting: Ben Eck\nIntro Motion Graphics: Digital Twigs http://www.digitaltwigs.com\nIntro Music: Pomplamoose http://www.youtube.com/pomplamoosemusic\nSet dresser:  Cassie Cobb\nSet construction: Jason Inman\nWheel music: http://www.royaltyfreemusiclibrary.com/ \nMicrophone: The Mouse from Blue Microphones: http://www.bluemic.com/mouse/",
                        "count": 1
                      },
                      {
                        "name": "8 others",
                        "count": 8
                      }
                    ]
                  }
                },
                {
                  "name": "published",
                  "dtype": "object",
                  "stats": {
                    "unique_count": 10,
                    "nan_count": 0,
                    "categories": [
                      {
                        "name": "2019-11-11T11:00:10Z",
                        "count": 1
                      },
                      {
                        "name": "2014-10-08T10:00:26Z",
                        "count": 1
                      },
                      {
                        "name": "8 others",
                        "count": 8
                      }
                    ]
                  }
                },
                {
                  "name": "tag_count",
                  "dtype": "int64",
                  "stats": {
                    "unique_count": 9,
                    "nan_count": 0,
                    "min": 11,
                    "max": 47,
                    "histogram": [
                      {
                        "bin_start": 11,
                        "bin_end": 14.6,
                        "count": 1
                      },
                      {
                        "bin_start": 14.6,
                        "bin_end": 18.2,
                        "count": 0
                      },
                      {
                        "bin_start": 18.2,
                        "bin_end": 21.8,
                        "count": 2
                      },
                      {
                        "bin_start": 21.8,
                        "bin_end": 25.4,
                        "count": 1
                      },
                      {
                        "bin_start": 25.4,
                        "bin_end": 29,
                        "count": 0
                      },
                      {
                        "bin_start": 29,
                        "bin_end": 32.6,
                        "count": 3
                      },
                      {
                        "bin_start": 32.6,
                        "bin_end": 36.2,
                        "count": 1
                      },
                      {
                        "bin_start": 36.2,
                        "bin_end": 39.8,
                        "count": 1
                      },
                      {
                        "bin_start": 39.8,
                        "bin_end": 43.4,
                        "count": 0
                      },
                      {
                        "bin_start": 43.4,
                        "bin_end": 47,
                        "count": 1
                      }
                    ]
                  }
                },
                {
                  "name": "view_count",
                  "dtype": "int64",
                  "stats": {
                    "unique_count": 10,
                    "nan_count": 0,
                    "min": 3410306,
                    "max": 30887288,
                    "histogram": [
                      {
                        "bin_start": 3410306,
                        "bin_end": 6158004.2,
                        "count": 2
                      },
                      {
                        "bin_start": 6158004.2,
                        "bin_end": 8905702.4,
                        "count": 1
                      },
                      {
                        "bin_start": 8905702.4,
                        "bin_end": 11653400.600000001,
                        "count": 0
                      },
                      {
                        "bin_start": 11653400.600000001,
                        "bin_end": 14401098.8,
                        "count": 0
                      },
                      {
                        "bin_start": 14401098.8,
                        "bin_end": 17148797,
                        "count": 3
                      },
                      {
                        "bin_start": 17148797,
                        "bin_end": 19896495.200000003,
                        "count": 1
                      },
                      {
                        "bin_start": 19896495.200000003,
                        "bin_end": 22644193.400000002,
                        "count": 0
                      },
                      {
                        "bin_start": 22644193.400000002,
                        "bin_end": 25391891.6,
                        "count": 0
                      },
                      {
                        "bin_start": 25391891.6,
                        "bin_end": 28139589.8,
                        "count": 1
                      },
                      {
                        "bin_start": 28139589.8,
                        "bin_end": 30887288,
                        "count": 2
                      }
                    ]
                  }
                },
                {
                  "name": "like_count",
                  "dtype": "int64",
                  "stats": {
                    "unique_count": 10,
                    "nan_count": 0,
                    "min": 246387,
                    "max": 641317,
                    "histogram": [
                      {
                        "bin_start": 246387,
                        "bin_end": 285880,
                        "count": 3
                      },
                      {
                        "bin_start": 285880,
                        "bin_end": 325373,
                        "count": 2
                      },
                      {
                        "bin_start": 325373,
                        "bin_end": 364866,
                        "count": 2
                      },
                      {
                        "bin_start": 364866,
                        "bin_end": 404359,
                        "count": 0
                      },
                      {
                        "bin_start": 404359,
                        "bin_end": 443852,
                        "count": 2
                      },
                      {
                        "bin_start": 443852,
                        "bin_end": 483345,
                        "count": 0
                      },
                      {
                        "bin_start": 483345,
                        "bin_end": 522838,
                        "count": 0
                      },
                      {
                        "bin_start": 522838,
                        "bin_end": 562331,
                        "count": 0
                      },
                      {
                        "bin_start": 562331,
                        "bin_end": 601824,
                        "count": 0
                      },
                      {
                        "bin_start": 601824,
                        "bin_end": 641317,
                        "count": 1
                      }
                    ]
                  }
                },
                {
                  "name": "dislike_count",
                  "dtype": "int64",
                  "stats": {
                    "unique_count": 10,
                    "nan_count": 0,
                    "min": 3147,
                    "max": 28684,
                    "histogram": [
                      {
                        "bin_start": 3147,
                        "bin_end": 5700.7,
                        "count": 5
                      },
                      {
                        "bin_start": 5700.7,
                        "bin_end": 8254.4,
                        "count": 1
                      },
                      {
                        "bin_start": 8254.4,
                        "bin_end": 10808.099999999999,
                        "count": 2
                      },
                      {
                        "bin_start": 10808.099999999999,
                        "bin_end": 13361.8,
                        "count": 1
                      },
                      {
                        "bin_start": 13361.8,
                        "bin_end": 15915.5,
                        "count": 0
                      },
                      {
                        "bin_start": 15915.5,
                        "bin_end": 18469.199999999997,
                        "count": 0
                      },
                      {
                        "bin_start": 18469.199999999997,
                        "bin_end": 21022.899999999998,
                        "count": 0
                      },
                      {
                        "bin_start": 21022.899999999998,
                        "bin_end": 23576.6,
                        "count": 0
                      },
                      {
                        "bin_start": 23576.6,
                        "bin_end": 26130.3,
                        "count": 0
                      },
                      {
                        "bin_start": 26130.3,
                        "bin_end": 28684,
                        "count": 1
                      }
                    ]
                  }
                },
                {
                  "name": "comment_count",
                  "dtype": "int64",
                  "stats": {
                    "unique_count": 10,
                    "nan_count": 0,
                    "min": 3202,
                    "max": 57324,
                    "histogram": [
                      {
                        "bin_start": 3202,
                        "bin_end": 8614.2,
                        "count": 3
                      },
                      {
                        "bin_start": 8614.2,
                        "bin_end": 14026.4,
                        "count": 0
                      },
                      {
                        "bin_start": 14026.4,
                        "bin_end": 19438.6,
                        "count": 2
                      },
                      {
                        "bin_start": 19438.6,
                        "bin_end": 24850.8,
                        "count": 1
                      },
                      {
                        "bin_start": 24850.8,
                        "bin_end": 30263,
                        "count": 1
                      },
                      {
                        "bin_start": 30263,
                        "bin_end": 35675.2,
                        "count": 1
                      },
                      {
                        "bin_start": 35675.2,
                        "bin_end": 41087.4,
                        "count": 1
                      },
                      {
                        "bin_start": 41087.4,
                        "bin_end": 46499.6,
                        "count": 0
                      },
                      {
                        "bin_start": 46499.6,
                        "bin_end": 51911.799999999996,
                        "count": 0
                      },
                      {
                        "bin_start": 51911.799999999996,
                        "bin_end": 57324,
                        "count": 1
                      }
                    ]
                  }
                },
                {
                  "name": "title_length",
                  "dtype": "int64",
                  "stats": {
                    "unique_count": 7,
                    "nan_count": 0,
                    "min": 25,
                    "max": 49,
                    "histogram": [
                      {
                        "bin_start": 25,
                        "bin_end": 27.4,
                        "count": 2
                      },
                      {
                        "bin_start": 27.4,
                        "bin_end": 29.8,
                        "count": 0
                      },
                      {
                        "bin_start": 29.8,
                        "bin_end": 32.2,
                        "count": 0
                      },
                      {
                        "bin_start": 32.2,
                        "bin_end": 34.6,
                        "count": 2
                      },
                      {
                        "bin_start": 34.6,
                        "bin_end": 37,
                        "count": 3
                      },
                      {
                        "bin_start": 37,
                        "bin_end": 39.4,
                        "count": 0
                      },
                      {
                        "bin_start": 39.4,
                        "bin_end": 41.8,
                        "count": 0
                      },
                      {
                        "bin_start": 41.8,
                        "bin_end": 44.2,
                        "count": 0
                      },
                      {
                        "bin_start": 44.2,
                        "bin_end": 46.599999999999994,
                        "count": 0
                      },
                      {
                        "bin_start": 46.599999999999994,
                        "bin_end": 49,
                        "count": 3
                      }
                    ]
                  }
                },
                {
                  "name": "reactions",
                  "dtype": "float64",
                  "stats": {
                    "unique_count": 10,
                    "nan_count": 0,
                    "min": 318.839,
                    "max": 656.521,
                    "histogram": [
                      {
                        "bin_start": 318.839,
                        "bin_end": 352.6072,
                        "count": 3
                      },
                      {
                        "bin_start": 352.6072,
                        "bin_end": 386.3754,
                        "count": 4
                      },
                      {
                        "bin_start": 386.3754,
                        "bin_end": 420.1436,
                        "count": 0
                      },
                      {
                        "bin_start": 420.1436,
                        "bin_end": 453.91179999999997,
                        "count": 0
                      },
                      {
                        "bin_start": 453.91179999999997,
                        "bin_end": 487.67999999999995,
                        "count": 0
                      },
                      {
                        "bin_start": 487.67999999999995,
                        "bin_end": 521.4481999999999,
                        "count": 0
                      },
                      {
                        "bin_start": 521.4481999999999,
                        "bin_end": 555.2164,
                        "count": 2
                      },
                      {
                        "bin_start": 555.2164,
                        "bin_end": 588.9846,
                        "count": 0
                      },
                      {
                        "bin_start": 588.9846,
                        "bin_end": 622.7528,
                        "count": 0
                      },
                      {
                        "bin_start": 622.7528,
                        "bin_end": 656.521,
                        "count": 1
                      }
                    ]
                  }
                },
                {
                  "name": "_deepnote_index_column",
                  "dtype": "int64"
                }
              ],
              "rows_top": [
                {
                  "title": "International Taco Bell Taste Test",
                  "description": "Today, we're trying Taco Bell items from AROUND THE WORLD and guessing where they are from. Join us in today's International Taco Bell Taste Test!!  GMM #1635\nSubscribe to GMM: https://www.youtube.com/user/rhettandlink2?sub_confirmation=1\n\nWatch today's GMMORE: https://youtu.be/8yAYP7VeLB0\nClick the bell icon so you'll know when we add a new episode!\n\nGet a copy of our new novel, The Lost Causes of Bleak Creek @ http://www.bleakcreek.com\n\nSee Rhett & Link play live in your city: tour tickets @ https://mythical.com/pages/tour\n\nWant more GMM? Check out these playlists:\nGood Mythical Summer 2019 - https://www.youtube.com/playlist?list=PLJ49NV73ttrtoBAHBOlB8RZXnkyZ_XGOk\nSeason 15 - https://www.youtube.com/playlist?list=PLJ49NV73ttrvfAOYCnPCjbWuoldJvinRj\nWill It? - https://www.youtube.com/playlist?list=PLJ49NV73ttrucP6jJ1gjSqHmhlmvkdZuf\nTaste Tests! - https://www.youtube.com/playlist?list=PLJ49NV73ttrsUefw67wH_pnEJ5KwJZ7lN\nFancy Fast Food - https://www.youtube.com/playlist?list=PLJ49NV73ttrvsfEo9x6FR7HURKOHQRnHO\n\nPick up official GMM and Mythical Merch at https://mythical.com\nand https://www.amazon.com/mythical\n\nJoin the Mythical Society: https://www.mythicalsociety.com/\n\nDon’t miss our weekly podcast, Ear Biscuits: https://applepodcasts.com/earbiscuits\n\nFollow Mythical: \nInstagram: https://instagram.com/mythical\nFacebook: https://facebook.com/mythical\nTwitter: https://twitter.com/mythical\nWebsite: https://mythical.com\n\nCheck Out Our Other Mythical Channels:\nRhett & Link: https://youtube.com/rhettandlink\nMythical Kitchen: https://youtube.com/mythicalkitchen\nGood Mythical MORE: https://youtube.com/goodmythicalmore\n\nWant to send us something? https://mythical.com/contact\n\nSubmit your Wheel of Mythicality intro video here: http://bit.ly/GMMWheelIntroSUBMISSIONS\n\nIntro Animation by Dana Schechter https://www.danaschechter.com/\nIntro & Outro Music by Mark Byers http://www.markaholic.com/\nSupplemental Music from Extreme Production Music: https://www.extrememusic.com/\nMic: ‘The Mouse’ by Blue Microphones https://www.bluemic.com/mouse/\n\nGet the GMM Set Gear!\n* Apple AirPort Extreme: https://amzn.to/2NnIvvk\n* Apple iPad Pro (12.9-inch, Wi-Fi, 64GB) - Space Gray (Latest Model) - MTEL2LL/A: https://amzn.to/2NnKXlw\n* Guardian Industrial Products DH-CP-4 3 Channel Rubber Cable Ramp (Straight): https://amzn.to/2NdshoR\n* Cartoni Focus HD Fluid Head with 3 Tube Ultra-Light Tripod, Mid-Level Spreader and Soft Case - Black: https://amzn.to/2X4i7X8\n* ARRI SkyPanel S60-C LED Softlight (Blue/Silver, Edison): https://amzn.to/2YgM3km\n* Chef-Master 90050 Professional Heat Lamp, Silver: https://amzn.to/2Xa1Wwr\n* Samsung UN40H5003 40-Inch 1080p LED TV (2014 Model): https://amzn.to/2NdMU4e\n* Sony LMDA170 17\" Production Video LCD Monitor, 16:9 Native Aspect Ratio, 1080p Resolution: https://amzn.to/2YlB9tH\n* Behringer Xenyx 1002 Premium 10-Input 2-Bus Mixer with XENYX Mic Preamps and British Eqs: https://amzn.to/2Yeeqzl\n* Elgato Game Capture Card HD60 S - Stream and Record in 1080p60, for PlayStation 4, Xbox One & Xbox 360 (Renewed): https://amzn.to/2NdOBP6\n* Pyle Universal Speaker Stand Mount Holder - Heavy Duty Tripod w/ Adjustable Height from 40” to 71” and 35mm Compatible Insert - Easy Mobility Safety PIN and Knob Tension Locking for Stability PSTND2: https://amzn.to/2JcCpce\n* JBL EON612 Portable 12\" 2-Way Multipurpose Self-Powered Sound Reinforcement: https://amzn.to/2Ndluvm\n* Bolt 500 XT 3G-SDI/HDMI Wireless TX/RX: https://amzn.to/2J1OeSk\n* Voigtlaender 17,5/0,95 Nokton 17.5 mm-17.5 mm Lens: https://amzn.to/2JjUCEP\n* Blackmagic Design Micro Converter SDI to HDMI (with Power Supply) BMD-CONVCMIC/SH/WPSU: https://amzn.to/2J6iw6y\n* Panasonic H-HSA35100 F2.8 II ASPH 35-100mm Mirrorless Micro Four Thirds Mount POWER Optical I.S. LUMIX G X VARIO Professional Lens: https://amzn.to/2RAhIul\n* PANASONIC LUMIX Professional 12-35mm Camera Lens G X VARIO II, F2.8 ASPH, Dual I.S. 2.0 with Power O.I.S., Mirrorless Micro Four Thirds, H-HSA12035 (2017 Model, Black): https://amzn.to/2J9WH5S\n* Decimator Design DMON-12S | 12 Channel Multi Viewer with HDMI SDI Outputs: https://amzn.to/2J9Xkwg\n* Decimator MD-HX HDMI and SDI Cross Converter with Scaling & Frame Rate Conversion: https://amzn.to/2Ymj52c\n* PANASONIC LUMIX GH4 Body 4K Mirrorless Camera, 16 Megapixels, 3 Inch Touch LCD, DMC-GH4KBODY (USA Black): https://amzn.to/2WZjlD6\n* Blue Microphones Mouse Microphone Kc: https://amzn.to/2Ybu12I",
                  "published": "2019-11-11T11:00:10Z",
                  "tag_count": 20,
                  "view_count": 6495254,
                  "like_count": 641317,
                  "dislike_count": 4758,
                  "comment_count": 5223,
                  "title_length": 34,
                  "reactions": 656.521,
                  "_deepnote_index_column": 303
                },
                {
                  "title": "Swedish Stereotypes ft. PewDiePie",
                  "description": "Real life Swede, PewDiePie, schallenges us to guess some about Swedish stereotypes.  GMM #544!\nGood Mythical MORE: http://youtu.be/5xHfh194ypU\nFor a free trial of Lynda.com go to - http://lynda.com/rhettandlink\n\nCheck out PewDiePie - https://www.youtube.com/user/PewDiePie\n\nSUBSCRIBE for daily episodes: http://bit.ly/subrl2   **** \n\nPREVIOUS episode:\nhttp://youtu.be/2mfJ9B8S4A4\n\nNEXT episode:\nhttp://youtu.be/XbySo5U5vW0\n\nGet the GMM Coffee Mug!\nhttp://dftba.com/product/1bv/Good-Mythical-Morning-Mug\n\nGet the GMM Signed Poster plus the GMM T-shirt! \nhttp://dftba.com/artist/26/Rhett--Link\n\nMAIN YOUTUBE CHANNEL: http://youtube.com/rhettandlink\n\nListen to Ear Biscuits!\niTunes: https://itunes.apple.com/podcast/ear-biscuits/id717407884\nSoundCloud: https://soundcloud.com/earbiscuits\n\nJOIN the RhettandLinKommunity!\nhttp://bit.ly/rlkommunity\n\nLIKE us on FACEBOOK! http://facebook.com/rhettandlink\nFOLLOW us on TWITTER!\nhttp://twitter.com/rhettandlink\nFOLLOW us on TUMBLR: http://rhettandlink.tumblr.com/\nFOLLOW our INSTAGRAM - http://instagram.com/rhettandlink\nJOIN our circle on GOOGLE PLUS: https://plus.google.com/+rhettandlink\n\nGood Mythical Morning is available for download on iTunes!\nVideo Podcast: http://bit.ly/xuJVPc\nAudio Podcast: http://bit.ly/zSewZ6\n\nWe are two Internetainers dedicated to giving you a daily dose of casual comedy every Monday-Friday on our show \"Good Mythical Morning\" at youtube.com/rhettandlink2.  Thanks for making us a part of your daily routine.  Be your mythical best, mythical beast. - Rhett & Link\n\nMail us stuff to our P.O. Box \nGo to http://rhettandlink.com/contact for details.\n\nCREDITS: \nProduced by Stevie Wynne Levine\nWriter, Producer, Camera: Edward Coleman \nEditor, Graphics: Morgan Locke\nProduction Assistant: Alexander Punch \nShow Graphics Package and Lighting: Ben Eck\nIntro Motion Graphics: Digital Twigs http://www.digitaltwigs.com\nIntro Music: Pomplamoose http://www.youtube.com/pomplamoosemusic\nSet dresser:  Cassie Cobb\nSet construction: Jason Inman\nWheel music: http://www.royaltyfreemusiclibrary.com/ \nMicrophone: The Mouse from Blue Microphones: http://www.bluemic.com/mouse/",
                  "published": "2014-10-08T10:00:26Z",
                  "tag_count": 47,
                  "view_count": 16802368,
                  "like_count": 429515,
                  "dislike_count": 8756,
                  "comment_count": 57324,
                  "title_length": 33,
                  "reactions": 552.919,
                  "_deepnote_index_column": 1856
                },
                {
                  "title": "World’s Hottest Pepper Challenge: Caroli",
                  "description": "We eat the World's Hottest Chili Pepper -- the Carolina Reaper. \nGMM #538! \nGood Mythical MORE: http://youtu.be/kNL-rqBZfjI\nFor a free trial of Lynda.com go to - http://Lynda.com/rhettandlink\n\nWatch The Ghost Pepper Challenge Video: http://youtu.be/8dFMCf8zi5s\n\nSUBSCRIBE for daily episodes: http://bit.ly/subrl2   **** \n\nPREVIOUS episode:\nhttp://youtu.be/2vfcOOXSjEI\n\nNEXT episode:\nhttp://youtu.be/FySsiGU6IAw\n\nGet the GMM Coffee Mug!\nhttp://dftba.com/product/1bv/Good-Mythical-Morning-Mug\n\nGet the GMM Signed Poster plus the GMM T-shirt! \nhttp://dftba.com/artist/26/Rhett--Link\n\nMAIN YOUTUBE CHANNEL: http://youtube.com/rhettandlink\n\nListen to Ear Biscuits!\niTunes: https://itunes.apple.com/podcast/ear-biscuits/id717407884\nSoundCloud: https://soundcloud.com/earbiscuits\n\nJOIN the RhettandLinKommunity!\nhttp://bit.ly/rlkommunity\n\nLIKE us on FACEBOOK! http://facebook.com/rhettandlink\nFOLLOW us on TWITTER!\nhttp://twitter.com/rhettandlink\nFOLLOW us on TUMBLR: http://rhettandlink.tumblr.com/\nFOLLOW our INSTAGRAM - http://instagram.com/rhettandlink\nJOIN our circle on GOOGLE PLUS: https://plus.google.com/+rhettandlink\n\nGood Mythical Morning is available for download on iTunes!\nVideo Podcast: http://bit.ly/xuJVPc\nAudio Podcast: http://bit.ly/zSewZ6\n\nWe are two Internetainers dedicated to giving you a daily dose of casual comedy every Monday-Friday on our show \"Good Mythical Morning\" at youtube.com/rhettandlink2.  Thanks for making us a part of your daily routine.  Be your mythical best, mythical beast. - Rhett & Link\n\nMail us stuff to our P.O. Box \nGo to http://rhettandlink.com/contact for details.\n\nCREDITS: \nProduced by Stevie Wynne Levine\nCo-Producer,Camera: Edward Coleman \nEditor: Morgan Locke\nProduction Assistant: Alexander Punch \nShow Graphics Package and Lighting: Ben Eck\nIntro Motion Graphics: Digital Twigs http://www.digitaltwigs.com\nIntro Music: Pomplamoose http://www.youtube.com/pomplamoosemusic\nSet dresser:  Cassie Cobb\nSet construction: Jason Inman\nWheel music: http://www.royaltyfreemusiclibrary.com/ \nMicrophone: The Mouse from Blue Microphones: http://www.bluemic.com/mouse/",
                  "published": "2014-09-30T10:00:02Z",
                  "tag_count": 36,
                  "view_count": 29407723,
                  "like_count": 431821,
                  "dislike_count": 10678,
                  "comment_count": 40635,
                  "title_length": 49,
                  "reactions": 523.769,
                  "_deepnote_index_column": 1863
                },
                {
                  "title": "Alternate Universe Snacks Taste Test",
                  "description": "Today, we're reaching back into the Multiverse to try some snacks that are OUT OF THIS WORLD. Check it out on today's Alternate Universe Snacks Taste Test!  GMM #1637\nSubscribe to GMM: https://www.youtube.com/user/rhettandlink2?sub_confirmation=1\n\nWatch today's GMMORE: https://youtu.be/yVBcdunS7s4\nClick the bell icon so you'll know when we add a new episode!\n\nGet a copy of our new novel, The Lost Causes of Bleak Creek @ http://www.bleakcreek.com\n\nSee Rhett & Link play live in your city: tour tickets @ https://mythical.com/pages/tour\n\nWant more GMM? Check out these playlists:\nGood Mythical Summer 2019 - https://www.youtube.com/playlist?list=PLJ49NV73ttrtoBAHBOlB8RZXnkyZ_XGOk\nSeason 15 - https://www.youtube.com/playlist?list=PLJ49NV73ttrvfAOYCnPCjbWuoldJvinRj\nWill It? - https://www.youtube.com/playlist?list=PLJ49NV73ttrucP6jJ1gjSqHmhlmvkdZuf\nTaste Tests! - https://www.youtube.com/playlist?list=PLJ49NV73ttrsUefw67wH_pnEJ5KwJZ7lN\nFancy Fast Food - https://www.youtube.com/playlist?list=PLJ49NV73ttrvsfEo9x6FR7HURKOHQRnHO\n\nPick up official GMM and Mythical Merch at https://mythical.com\nand https://www.amazon.com/mythical\n\nJoin the Mythical Society: https://www.mythicalsociety.com/\n\nDon’t miss our weekly podcast, Ear Biscuits: https://applepodcasts.com/earbiscuits\n\nFollow Mythical: \nInstagram: https://instagram.com/mythical\nFacebook: https://facebook.com/mythical\nTwitter: https://twitter.com/mythical\nWebsite: https://mythical.com\n\nCheck Out Our Other Mythical Channels:\nRhett & Link: https://youtube.com/rhettandlink\nMythical Kitchen: https://youtube.com/mythicalkitchen\nGood Mythical MORE: https://youtube.com/goodmythicalmore\n\nWant to send us something? https://mythical.com/contact\n\nSubmit your Wheel of Mythicality intro video here: http://bit.ly/GMMWheelIntroSUBMISSIONS\n\nIntro Animation by Dana Schechter https://www.danaschechter.com/\nIntro & Outro Music by Mark Byers http://www.markaholic.com/\nSupplemental Music from Extreme Production Music: https://www.extrememusic.com/\nMic: ‘The Mouse’ by Blue Microphones https://www.bluemic.com/mouse/\n\nGet the GMM Set Gear!\n* Apple AirPort Extreme: https://amzn.to/2NnIvvk\n* Apple iPad Pro (12.9-inch, Wi-Fi, 64GB) - Space Gray (Latest Model) - MTEL2LL/A: https://amzn.to/2NnKXlw\n* Guardian Industrial Products DH-CP-4 3 Channel Rubber Cable Ramp (Straight): https://amzn.to/2NdshoR\n* Cartoni Focus HD Fluid Head with 3 Tube Ultra-Light Tripod, Mid-Level Spreader and Soft Case - Black: https://amzn.to/2X4i7X8\n* ARRI SkyPanel S60-C LED Softlight (Blue/Silver, Edison): https://amzn.to/2YgM3km\n* Chef-Master 90050 Professional Heat Lamp, Silver: https://amzn.to/2Xa1Wwr\n* Samsung UN40H5003 40-Inch 1080p LED TV (2014 Model): https://amzn.to/2NdMU4e\n* Sony LMDA170 17\" Production Video LCD Monitor, 16:9 Native Aspect Ratio, 1080p Resolution: https://amzn.to/2YlB9tH\n* Behringer Xenyx 1002 Premium 10-Input 2-Bus Mixer with XENYX Mic Preamps and British Eqs: https://amzn.to/2Yeeqzl\n* Elgato Game Capture Card HD60 S - Stream and Record in 1080p60, for PlayStation 4, Xbox One & Xbox 360 (Renewed): https://amzn.to/2NdOBP6\n* Pyle Universal Speaker Stand Mount Holder - Heavy Duty Tripod w/ Adjustable Height from 40” to 71” and 35mm Compatible Insert - Easy Mobility Safety PIN and Knob Tension Locking for Stability PSTND2: https://amzn.to/2JcCpce\n* JBL EON612 Portable 12\" 2-Way Multipurpose Self-Powered Sound Reinforcement: https://amzn.to/2Ndluvm\n* Bolt 500 XT 3G-SDI/HDMI Wireless TX/RX: https://amzn.to/2J1OeSk\n* Voigtlaender 17,5/0,95 Nokton 17.5 mm-17.5 mm Lens: https://amzn.to/2JjUCEP\n* Blackmagic Design Micro Converter SDI to HDMI (with Power Supply) BMD-CONVCMIC/SH/WPSU: https://amzn.to/2J6iw6y\n* Panasonic H-HSA35100 F2.8 II ASPH 35-100mm Mirrorless Micro Four Thirds Mount POWER Optical I.S. LUMIX G X VARIO Professional Lens: https://amzn.to/2RAhIul\n* PANASONIC LUMIX Professional 12-35mm Camera Lens G X VARIO II, F2.8 ASPH, Dual I.S. 2.0 with Power O.I.S., Mirrorless Micro Four Thirds, H-HSA12035 (2017 Model, Black): https://amzn.to/2J9WH5S\n* Decimator Design DMON-12S | 12 Channel Multi Viewer with HDMI SDI Outputs: https://amzn.to/2J9Xkwg\n* Decimator MD-HX HDMI and SDI Cross Converter with Scaling & Frame Rate Conversion: https://amzn.to/2Ymj52c\n* PANASONIC LUMIX GH4 Body 4K Mirrorless Camera, 16 Megapixels, 3 Inch Touch LCD, DMC-GH4KBODY (USA Black): https://amzn.to/2WZjlD6\n* Blue Microphones Mouse Microphone Kc: https://amzn.to/2Ybu12I",
                  "published": "2019-11-13T11:00:02Z",
                  "tag_count": 11,
                  "view_count": 3709836,
                  "like_count": 346425,
                  "dislike_count": 3558,
                  "comment_count": 3478,
                  "title_length": 36,
                  "reactions": 356.939,
                  "_deepnote_index_column": 301
                },
                {
                  "title": "Eating a Scorpion: Bug War Challenge",
                  "description": "We're going to eat grasshoppers, pupae, and a scorpion today while playing a game! GMM 411!\nGood Mythical MORE: https://www.youtube.com/watch?v=mpj9XVgVDtw\n\nSUBSCRIBE for daily episodes: http://bit.ly/subrl2   **** \n\nPREVIOUS episode:\nhttps://www.youtube.com/watch?v=PLkmlVYpmZI\n\nNEXT episode:\nhttps://www.youtube.com/watch?v=aPn0QgHQYVs\n\nReceive a free trial of Netflix on us!\nhttp://www.netflix.com/rhettandlink\n\nGet the GMM Coffee Mug!\nhttp://dftba.com/product/1bv/Good-Mythical-Morning-Mug\n\nGet the GMM Signed Poster plus the GMM T-shirt! \nhttp://dftba.com/artist/26/Rhett--Link\n\nMAIN YOUTUBE CHANNEL: http://youtube.com/rhettandlink\n\nListen to Ear Biscuits!\niTunes: https://itunes.apple.com/podcast/ear-biscuits/id717407884\nSoundCloud: https://soundcloud.com/earbiscuits\n\nJOIN the RhettandLinKommunity!\nhttp://bit.ly/rlkommunity\n\nLIKE us on FACEBOOK! http://facebook.com/rhettandlink\nFOLLOW us on TWITTER!\nhttp://twitter.com/rhettandlink\nFOLLOW us on TUMBLR: http://rhettandlink.tumblr.com/\nFOLLOW our INSTAGRAM - http://instagram.com/rhettandlink\nJOIN our circle on GOOGLE PLUS: https://plus.google.com/+rhettandlink\n\nGood Mythical Morning is available for download on iTunes!\nVideo Podcast: http://bit.ly/xuJVPc\nAudio Podcast: http://bit.ly/zSewZ6\n\nWe are two Internetainers dedicated to giving you a daily dose of casual comedy every Monday-Friday on our show \"Good Mythical Morning\" at youtube.com/rhettandlink2.  Thanks for making us a part of your daily routine.  Be your mythical best, mythical beast. - Rhett & Link\n\nMail us stuff to our P.O. Box \nGo to http://rhettandlink.com/contact for details.\n\nCREDITS: \nProduced by Stevie Wynne Levine\nCo-producer, Camera, Editor: Jason Inman\nShow Graphics Package and Lighting: Ben Eck\nIntro Illustration: Kendrick Kidd http://kendrickkidd.com/\nIntro Motion Graphics: Eden Soto http://eden.tv\nSet dresser:  Cassie Cobb\nSet construction: Jason Inman\nWheel music: http://www.royaltyfreemusiclibrary.com/ \nMicrophone: The Mouse from Blue Microphones: http://www.bluemic.com/mouse/",
                  "published": "2014-03-28T10:00:01Z",
                  "tag_count": 24,
                  "view_count": 27931612,
                  "like_count": 288652,
                  "dislike_count": 12033,
                  "comment_count": 27880,
                  "title_length": 36,
                  "reactions": 356.445,
                  "_deepnote_index_column": 2013
                },
                {
                  "title": "Can This Pill Take The Sugar Out Of Swee",
                  "description": "Does this Sweet Defeat pill really work? We try it out and guess what foods we're eating in today's game, Can This Pill Take The Sugar Out Of Sweet Food?  GMM #1639\nSubscribe to GMM: https://www.youtube.com/user/rhettandlink2?sub_confirmation=1\n\nTaste Tripping Pill Test - https://www.youtube.com/watch?v=3bRiSl0zjvk\n\nWatch today's GMMORE: https://youtu.be/tMFHfycSG80\nClick the bell icon so you'll know when we add a new episode!\n\nCan YOU outsmart the Sugar Destroyer?\n* Sweet Defeat Lozenges: https://amzn.to/2pIcV0e\n* Gymnema Sylvestre Tea Leaves: https://bit.ly/31GyqM2\n\nGet a copy of our new novel, The Lost Causes of Bleak Creek @ http://www.bleakcreek.com\n\nSee Rhett & Link play live in your city: tour tickets @ https://mythical.com/pages/tour\n\nWant more GMM? Check out these playlists:\nGood Mythical Summer 2019 - https://www.youtube.com/playlist?list=PLJ49NV73ttrtoBAHBOlB8RZXnkyZ_XGOk\nSeason 15 - https://www.youtube.com/playlist?list=PLJ49NV73ttrvfAOYCnPCjbWuoldJvinRj\nWill It? - https://www.youtube.com/playlist?list=PLJ49NV73ttrucP6jJ1gjSqHmhlmvkdZuf\nTaste Tests! - https://www.youtube.com/playlist?list=PLJ49NV73ttrsUefw67wH_pnEJ5KwJZ7lN\nFancy Fast Food - https://www.youtube.com/playlist?list=PLJ49NV73ttrvsfEo9x6FR7HURKOHQRnHO\n\nPick up official GMM and Mythical Merch at https://mythical.com\nand https://www.amazon.com/mythical\n\nJoin the Mythical Society: https://www.mythicalsociety.com/\n\nDon’t miss our weekly podcast, Ear Biscuits: https://applepodcasts.com/earbiscuits\n\nFollow Mythical: \nInstagram: https://instagram.com/mythical\nFacebook: https://facebook.com/mythical\nTwitter: https://twitter.com/mythical\nWebsite: https://mythical.com\n\nCheck Out Our Other Mythical Channels:\nRhett & Link: https://youtube.com/rhettandlink\nMythical Kitchen: https://youtube.com/mythicalkitchen\nGood Mythical MORE: https://youtube.com/goodmythicalmore\n\nWant to send us something? https://mythical.com/contact\n\nSubmit your Wheel of Mythicality intro video here: http://bit.ly/GMMWheelIntroSUBMISSIONS\n\nIntro Animation by Dana Schechter https://www.danaschechter.com/\nIntro & Outro Music by Mark Byers http://www.markaholic.com/\nSupplemental Music from Extreme Production Music: https://www.extrememusic.com/\nMic: ‘The Mouse’ by Blue Microphones https://www.bluemic.com/mouse/\n\nGet the GMM Set Gear!\n* Apple AirPort Extreme: https://amzn.to/2NnIvvk\n* Apple iPad Pro (12.9-inch, Wi-Fi, 64GB) - Space Gray (Latest Model) - MTEL2LL/A: https://amzn.to/2NnKXlw\n* Guardian Industrial Products DH-CP-4 3 Channel Rubber Cable Ramp (Straight): https://amzn.to/2NdshoR\n* Cartoni Focus HD Fluid Head with 3 Tube Ultra-Light Tripod, Mid-Level Spreader and Soft Case - Black: https://amzn.to/2X4i7X8\n* ARRI SkyPanel S60-C LED Softlight (Blue/Silver, Edison): https://amzn.to/2YgM3km\n* Chef-Master 90050 Professional Heat Lamp, Silver: https://amzn.to/2Xa1Wwr\n* Samsung UN40H5003 40-Inch 1080p LED TV (2014 Model): https://amzn.to/2NdMU4e\n* Sony LMDA170 17\" Production Video LCD Monitor, 16:9 Native Aspect Ratio, 1080p Resolution: https://amzn.to/2YlB9tH\n* Behringer Xenyx 1002 Premium 10-Input 2-Bus Mixer with XENYX Mic Preamps and British Eqs: https://amzn.to/2Yeeqzl\n* Elgato Game Capture Card HD60 S - Stream and Record in 1080p60, for PlayStation 4, Xbox One & Xbox 360 (Renewed): https://amzn.to/2NdOBP6\n* Pyle Universal Speaker Stand Mount Holder - Heavy Duty Tripod w/ Adjustable Height from 40” to 71” and 35mm Compatible Insert - Easy Mobility Safety PIN and Knob Tension Locking for Stability PSTND2: https://amzn.to/2JcCpce\n* JBL EON612 Portable 12\" 2-Way Multipurpose Self-Powered Sound Reinforcement: https://amzn.to/2Ndluvm\n* Bolt 500 XT 3G-SDI/HDMI Wireless TX/RX: https://amzn.to/2J1OeSk\n* Voigtlaender 17,5/0,95 Nokton 17.5 mm-17.5 mm Lens: https://amzn.to/2JjUCEP\n* Blackmagic Design Micro Converter SDI to HDMI (with Power Supply) BMD-CONVCMIC/SH/WPSU: https://amzn.to/2J6iw6y\n* Panasonic H-HSA35100 F2.8 II ASPH 35-100mm Mirrorless Micro Four Thirds Mount POWER Optical I.S. LUMIX G X VARIO Professional Lens: https://amzn.to/2RAhIul\n* PANASONIC LUMIX Professional 12-35mm Camera Lens G X VARIO II, F2.8 ASPH, Dual I.S. 2.0 with Power O.I.S., Mirrorless Micro Four Thirds, H-HSA12035 (2017 Model, Black): https://amzn.to/2J9WH5S\n* Decimator Design DMON-12S | 12 Channel Multi Viewer with HDMI SDI Outputs: https://amzn.to/2J9Xkwg\n* Decimator MD-HX HDMI and SDI Cross Converter with Scaling & Frame Rate Conversion: https://amzn.to/2Ymj52c\n* PANASONIC LUMIX GH4 Body 4K Mirrorless Camera, 16 Megapixels, 3 Inch Touch LCD, DMC-GH4KBODY (USA Black): https://amzn.to/2WZjlD6\n* Blue Microphones Mouse Microphone Kc: https://amzn.to/2Ybu12I",
                  "published": "2019-11-15T11:00:02Z",
                  "tag_count": 21,
                  "view_count": 3410306,
                  "like_count": 346588,
                  "dislike_count": 3147,
                  "comment_count": 3202,
                  "title_length": 47,
                  "reactions": 356.139,
                  "_deepnote_index_column": 299
                },
                {
                  "title": "Can This Pill Take The Spice Out of Spic",
                  "description": "We found a pill that makes spicy food NOT spicy... or did we? GMM #1158!\nListen to Ear Biscuits today! http://www.rhettandlink.com/earbiscuits\nSUBSCRIBE to GMM: http://bit.ly/subrl2 | Watch today's GMMore episode: http://bit.ly/LinkPranked | Don't miss This Is Mythical: http://bit.ly/CrewBiscuits1\n\nFor rules and more info on how to submit a #10SecondTour go to http://www.rhettandlink.com/10secondtour\n\nFollow Rhett & Link:\nFacebook: http://facebook.com/rhettandlink\nTwitter: http://twitter.com/rhettandlink\nTumblr: http://rhettandlink.tumblr.com\nInstagram: http://instagram.com/rhettandlink\n\nOther Rhett & Link Channels:\nMain Channel: https://youtube.com/rhettandlink\nGood Mythical MORE: https://youtube.com/user/rhettandlink3\nRhett & Link EXTRAS: https://youtube.com/user/rhettandlink4\n\nGMM Merch: http://bit.ly/RhettLinkStore\n\nWatch More GMM:\nChoose a Season:  http://bit.ly/2axhxZN\nPopular Videos: http://bit.ly/2afIJ12\nLatest Uploads: http://bit.ly/2aZMw3K\nWill It?: http://bit.ly/2a64BiV\nTaste Tests: http://bit.ly/2a4v5hZ\n\nListen to our FREE podcast, Ear Biscuits:\nApply Podcasts: http://apple.co/29PTWTM\nSpotify: http://spoti.fi/2oIaAwp\nArt19: https://art19.com/shows/ear-biscuits\n\nJOIN the RhettandLinKommunity: http://bit.ly/rlkommunity\n\nMail us stuff to our P.O. Box: http://rhettandlink.com/contact\n\nSubmit a Wheel of Mythicality intro video: http://bit.ly/GMMWheelIntro\n\nWe are two Internetainers dedicated to giving you a daily dose of casual comedy every Monday-Friday on our show \"Good Mythical Morning.\" Thanks for making us a part of your daily routine. Be your mythical best! - Rhett & Link\n\nCredits:\nExecutive Producer: Stevie Wynne Levine\nWriter/Producer: Edward Coleman \nWriter/Producer: Lizzie Bassett\nWriter/Producer: Kevin Kostelnik\nWriter/Producer: Micah Gordon\nWriter/Producer: Ellie McElvain\nAssociate Producer: Chase Hilt\nTechnical Director/Graphics/Editor: Morgan Locke\nEditor: Casey Nimmer\nAdditional Graphics/Editing: Matthew Dwyer\nArt Director: Colin J. Morris \nProduction Assistant: Saagar Shaikh \nContent Manager: Becca Canote\nSet Construction/Dresser: Cassie Cobb\nIntro Motion Graphics: Digital Twigs http://www.digitaltwigs.com\nIntro Music: Pomplamoose http://www.youtube.com/pomplamoosemusic\nOutro Music: Pomplamoose http://www.youtube.com/pomplamoosemusic\nWheel of Mythicality Music: http://www.royaltyfreemusiclibrary.com/\nAll Supplemental Music: Opus 1 Music | http://opus1.sourceaudio.com/ \nMicrophone: ‘The Mouse’ by Blue Microphones http://www.bluemic.com/mouse/",
                  "published": "2017-07-03T10:00:00Z",
                  "tag_count": 29,
                  "view_count": 14682631,
                  "like_count": 310344,
                  "dislike_count": 6844,
                  "comment_count": 18373,
                  "title_length": 47,
                  "reactions": 353.934,
                  "_deepnote_index_column": 1140
                },
                {
                  "title": "Amazing Game Show Cheaters",
                  "description": "Whammy! Some people are straight up cheaters. GMM #893!\nFollow us on Twitter at http://twitter.com/rhettandlink\nGood Mythical MORE: https://youtu.be/CTuKtKkqbGE\nSUBSCRIBE for daily episodes: http://bit.ly/subrl2  \n\nPREVIOUS episode: https://youtu.be/_CAiGIdNAwo?list=PLJ...\n\nNEXT episode: https://youtu.be/ZN4NFwmI86I?list=PLJ49NV73ttrvdeqDBaqtbdE18ClnJ8tCL\n\nGet the GMM Coffee Mug! http://bit.ly/GMM_Mug\n\nGet the GMM Poster, GMM T-shirt and more! http://bit.ly/RL_Store\n\nWatch the Rhett & Link Channel: http://youtube.com/rhettandlink\n\nListen to our podcast, Ear Biscuits!\niTunes: https://itunes.apple.com/podcast/ear-...\nSoundCloud: https://soundcloud.com/earbiscuits\n\nLIKE us on FACEBOOK! http://facebook.com/rhettandlink\nFOLLOW us on TWITTER! http://twitter.com/rhettandlink\nFOLLOW us on TUMBLR: http://rhettandlink.tumblr.com/\nFOLLOW our INSTAGRAM:  http://instagram.com/rhettandlink\nJOIN our circle on GOOGLE+: https://plus.google.com/+rhettandlink\n\nJOIN the RhettandLinKommunity! http://bit.ly/rlkommunity\n\nMail us stuff to our P.O. Box!  http://rhettandlink.com/contact \n\nSubmit a Wheel of Mythicality intro video! http://bit.ly/GMMWheelIntro\n\nWe are two Internetainers dedicated to giving you a daily dose of casual comedy every Monday-Friday on our show \"Good Mythical Morning.\" Thanks for making us a part of your daily routine.  Be your mythical best! - Rhett & Link\n\nCREDITS: \nExecutive Producer: Stevie Wynne Levine\nExecutive Producer: Drew Champion\nWriter/Producer: Edward Coleman \nWriter/Producer: Lizzie Bassett\nWriter/Producer: Kevin Kostelnik\nAssociate Producer: Chase Hilt\nTechnical Director/Graphics/Editor: Morgan Locke\nEditor: Casey Nimmer\nAdditional Graphics/Editing: Matthew Dwyer \nProduction Coordinator: Alexander Punch \nProduction Assistant: Mike Criscimagna\nContent Manager: Becca Canote\nSet Construction/Dresser: Cassie Cobb\nIntro Motion Graphics: Digital Twigs \nhttp://www.digitaltwigs.com\nIntro Music: Pomplamoose http://www.youtube.com/pomplamoosemusic\nOutro Music: Pomplamoose http://www.youtube.com/pomplamoosemusic\nWheel of Mythicality Music: http://www.royaltyfreemusiclibrary.com/ \nMicrophone: ‘The Mouse’ by Blue Microphones http://www.bluemic.com/mouse/",
                  "published": "2016-04-05T10:00:00Z",
                  "tag_count": 29,
                  "view_count": 30887288,
                  "like_count": 285414,
                  "dislike_count": 28684,
                  "comment_count": 14412,
                  "title_length": 26,
                  "reactions": 342.922,
                  "_deepnote_index_column": 1475
                },
                {
                  "title": "Will It Pizza? Taste Test",
                  "description": "Today we open pandoras box of pizza. GMM #624!\nGood Mythical MORE: http://youtu.be/p8P8kmrW1Dk\nSUBSCRIBE for daily episodes: http://bit.ly/subrl2   **** \n\nPREVIOUS episode: http://youtu.be/0I02eVpUeTI?list=UU4PooiX37Pld1T8J5SYT-SQ\n\nNEXT episode: http://youtu.be/JJiKP1wkR6Q?list=UU4PooiX37Pld1T8J5SYT-SQ\n\nGet the GMM Coffee Mug!\nhttp://store.dftba.com/products/good-mythical-morning-mug\n\nGet the GMM Poster plus the GMM T-shirt! \nhttp://store.dftba.com/collections/rhett-link\n\nWatch the Rhett & Link Channel: http://youtube.com/rhettandlink\n\nListen to Ear Biscuits!\niTunes: https://itunes.apple.com/podcast/ear-biscuits/id717407884\nSoundCloud: https://soundcloud.com/earbiscuits\n\nJOIN the RhettandLinKommunity!\nhttp://bit.ly/rlkommunity\n\nLIKE us on FACEBOOK! http://facebook.com/rhettandlink\nFOLLOW us on TWITTER!\nhttp://twitter.com/rhettandlink\nFOLLOW us on TUMBLR: http://rhettandlink.tumblr.com/\nFOLLOW our INSTAGRAM - http://instagram.com/rhettandlink\nJOIN our circle on GOOGLE PLUS: https://plus.google.com/+rhettandlink\n\nGood Mythical Morning is available for download on iTunes!\nVideo Podcast: http://bit.ly/xuJVPc\nAudio Podcast: http://bit.ly/zSewZ6\n\nWe are two Internetainers dedicated to giving you a daily dose of casual comedy every Monday-Friday on our show \"Good Mythical Morning\" at youtube.com/rhettandlink2.  Thanks for making us a part of your daily routine.  Be your mythical best, mythical beast. - Rhett & Link\n\nMail us stuff to our P.O. Box \nGo to http://rhettandlink.com/contact for details.\n\nCREDITS: \nProduced by Stevie Wynne Levine\nWriter, Producer, Camera: Edward Coleman \nEditor, Graphics: Morgan Locke\nAssistant Editor: Leo Kei Angelos\nProduction Coordinator: Alexander Punch \nProduction Assistant: Chase Hilt\nShow Graphics Package and Lighting: Ben Eck\nContent Manager: Becca Canote\nIntro Motion Graphics: Digital Twigs http://www.digitaltwigs.com\nIntro Music: Pomplamoose http://www.youtube.com/pomplamoosemusic\nSet Construction/Dresser: Cassie Cobb\nWheel Music: http://www.royaltyfreemusiclibrary.com/ \nMicrophone: The Mouse from Blue Microphones: http://www.bluemic.com/mouse/",
                  "published": "2015-02-18T11:00:01Z",
                  "tag_count": 38,
                  "view_count": 19237424,
                  "like_count": 246387,
                  "dislike_count": 4227,
                  "comment_count": 34609,
                  "title_length": 25,
                  "reactions": 319.832,
                  "_deepnote_index_column": 1763
                },
                {
                  "title": "Locked in a Sensory Deprivation Tank",
                  "description": "We spend 60 minutes inside a sensory deprivation tank. GMM 443!\nGood Mythical MORE: http://youtu.be/NQsf5To1itM\n\nExperience nothing with Ed. Go to:\nhttp://www.ifloatspace.com\n\nSUBSCRIBE for daily episodes: http://bit.ly/subrl2   **** \n\nPREVIOUS episode:\nhttp://www.youtube.com/watch?v=RxfIWl144UY\n\nNEXT episode:\nhttp://youtu.be/yx58i_a7MeA\n\nSupport the show by signing up for a hassle-free mobile phone experience with Ting and get a $25 credit. \nhttp://rhettandlink.ting.com\n\nGet the GMM Coffee Mug!\nhttp://dftba.com/product/1bv/Good-Mythical-Morning-Mug\n\nGet the GMM Signed Poster plus the GMM T-shirt! \nhttp://dftba.com/artist/26/Rhett--Link\n\nMAIN YOUTUBE CHANNEL: http://youtube.com/rhettandlink\n\nListen to Ear Biscuits!\niTunes: https://itunes.apple.com/podcast/ear-biscuits/id717407884\nSoundCloud: https://soundcloud.com/earbiscuits\n\nJOIN the RhettandLinKommunity!\nhttp://bit.ly/rlkommunity\n\nLIKE us on FACEBOOK! http://facebook.com/rhettandlink\nFOLLOW us on TWITTER!\nhttp://twitter.com/rhettandlink\nFOLLOW us on TUMBLR: http://rhettandlink.tumblr.com/\nFOLLOW our INSTAGRAM - http://instagram.com/rhettandlink\nJOIN our circle on GOOGLE PLUS: https://plus.google.com/+rhettandlink\n\nGood Mythical Morning is available for download on iTunes!\nVideo Podcast: http://bit.ly/xuJVPc\nAudio Podcast: http://bit.ly/zSewZ6\n\nWe are two Internetainers dedicated to giving you a daily dose of casual comedy every Monday-Friday on our show \"Good Mythical Morning\" at youtube.com/rhettandlink2.  Thanks for making us a part of your daily routine.  Be your mythical best, mythical beast. - Rhett & Link\n\nMail us stuff to our P.O. Box \nGo to http://rhettandlink.com/contact for details.\n\nCREDITS: \nProduced by Stevie Wynne Levine\nCo-Producer, Camera, Editor: Eddie Coleman\nCo-producer: Jason Inman\nShow Graphics Package and Lighting: Ben Eck\nIntro Illustration: Kendrick Kidd http://kendrickkidd.com/\nIntro Motion Graphics: Eden Soto http://eden.tv\nSet dresser:  Cassie Cobb\nSet construction: Jason Inman\nWheel music: http://www.royaltyfreemusiclibrary.com/ \nMicrophone: The Mouse from Blue Microphones: http://www.bluemic.com/mouse/",
                  "published": "2014-05-13T10:00:01Z",
                  "tag_count": 32,
                  "view_count": 16738106,
                  "like_count": 273475,
                  "dislike_count": 5188,
                  "comment_count": 20088,
                  "title_length": 36,
                  "reactions": 318.839,
                  "_deepnote_index_column": 1981
                }
              ],
              "rows_bottom": null
            },
            "text/plain": "                                         title  \\\n303         International Taco Bell Taste Test   \n1856         Swedish Stereotypes ft. PewDiePie   \n1863  World’s Hottest Pepper Challenge: Caroli   \n301       Alternate Universe Snacks Taste Test   \n2013      Eating a Scorpion: Bug War Challenge   \n299   Can This Pill Take The Sugar Out Of Swee   \n1140  Can This Pill Take The Spice Out of Spic   \n1475                Amazing Game Show Cheaters   \n1763                 Will It Pizza? Taste Test   \n1981      Locked in a Sensory Deprivation Tank   \n\n                                            description             published  \\\n303   Today, we're trying Taco Bell items from AROUN...  2019-11-11T11:00:10Z   \n1856  Real life Swede, PewDiePie, schallenges us to ...  2014-10-08T10:00:26Z   \n1863  We eat the World's Hottest Chili Pepper -- the...  2014-09-30T10:00:02Z   \n301   Today, we're reaching back into the Multiverse...  2019-11-13T11:00:02Z   \n2013  We're going to eat grasshoppers, pupae, and a ...  2014-03-28T10:00:01Z   \n299   Does this Sweet Defeat pill really work? We tr...  2019-11-15T11:00:02Z   \n1140  We found a pill that makes spicy food NOT spic...  2017-07-03T10:00:00Z   \n1475  Whammy! Some people are straight up cheaters. ...  2016-04-05T10:00:00Z   \n1763  Today we open pandoras box of pizza. GMM #624!...  2015-02-18T11:00:01Z   \n1981  We spend 60 minutes inside a sensory deprivati...  2014-05-13T10:00:01Z   \n\n      tag_count  view_count  like_count  dislike_count  comment_count  \\\n303          20     6495254      641317           4758           5223   \n1856         47    16802368      429515           8756          57324   \n1863         36    29407723      431821          10678          40635   \n301          11     3709836      346425           3558           3478   \n2013         24    27931612      288652          12033          27880   \n299          21     3410306      346588           3147           3202   \n1140         29    14682631      310344           6844          18373   \n1475         29    30887288      285414          28684          14412   \n1763         38    19237424      246387           4227          34609   \n1981         32    16738106      273475           5188          20088   \n\n      title_length  reactions  \n303             34    656.521  \n1856            33    552.919  \n1863            49    523.769  \n301             36    356.939  \n2013            36    356.445  \n299             47    356.139  \n1140            47    353.934  \n1475            26    342.922  \n1763            25    319.832  \n1981            36    318.839  ",
            "text/html": "<div>\n<style scoped>\n    .dataframe tbody tr th:only-of-type {\n        vertical-align: middle;\n    }\n\n    .dataframe tbody tr th {\n        vertical-align: top;\n    }\n\n    .dataframe thead th {\n        text-align: right;\n    }\n</style>\n<table border=\"1\" class=\"dataframe\">\n  <thead>\n    <tr style=\"text-align: right;\">\n      <th></th>\n      <th>title</th>\n      <th>description</th>\n      <th>published</th>\n      <th>tag_count</th>\n      <th>view_count</th>\n      <th>like_count</th>\n      <th>dislike_count</th>\n      <th>comment_count</th>\n      <th>title_length</th>\n      <th>reactions</th>\n    </tr>\n  </thead>\n  <tbody>\n    <tr>\n      <th>303</th>\n      <td>International Taco Bell Taste Test</td>\n      <td>Today, we're trying Taco Bell items from AROUN...</td>\n      <td>2019-11-11T11:00:10Z</td>\n      <td>20</td>\n      <td>6495254</td>\n      <td>641317</td>\n      <td>4758</td>\n      <td>5223</td>\n      <td>34</td>\n      <td>656.521</td>\n    </tr>\n    <tr>\n      <th>1856</th>\n      <td>Swedish Stereotypes ft. PewDiePie</td>\n      <td>Real life Swede, PewDiePie, schallenges us to ...</td>\n      <td>2014-10-08T10:00:26Z</td>\n      <td>47</td>\n      <td>16802368</td>\n      <td>429515</td>\n      <td>8756</td>\n      <td>57324</td>\n      <td>33</td>\n      <td>552.919</td>\n    </tr>\n    <tr>\n      <th>1863</th>\n      <td>World’s Hottest Pepper Challenge: Caroli</td>\n      <td>We eat the World's Hottest Chili Pepper -- the...</td>\n      <td>2014-09-30T10:00:02Z</td>\n      <td>36</td>\n      <td>29407723</td>\n      <td>431821</td>\n      <td>10678</td>\n      <td>40635</td>\n      <td>49</td>\n      <td>523.769</td>\n    </tr>\n    <tr>\n      <th>301</th>\n      <td>Alternate Universe Snacks Taste Test</td>\n      <td>Today, we're reaching back into the Multiverse...</td>\n      <td>2019-11-13T11:00:02Z</td>\n      <td>11</td>\n      <td>3709836</td>\n      <td>346425</td>\n      <td>3558</td>\n      <td>3478</td>\n      <td>36</td>\n      <td>356.939</td>\n    </tr>\n    <tr>\n      <th>2013</th>\n      <td>Eating a Scorpion: Bug War Challenge</td>\n      <td>We're going to eat grasshoppers, pupae, and a ...</td>\n      <td>2014-03-28T10:00:01Z</td>\n      <td>24</td>\n      <td>27931612</td>\n      <td>288652</td>\n      <td>12033</td>\n      <td>27880</td>\n      <td>36</td>\n      <td>356.445</td>\n    </tr>\n    <tr>\n      <th>299</th>\n      <td>Can This Pill Take The Sugar Out Of Swee</td>\n      <td>Does this Sweet Defeat pill really work? We tr...</td>\n      <td>2019-11-15T11:00:02Z</td>\n      <td>21</td>\n      <td>3410306</td>\n      <td>346588</td>\n      <td>3147</td>\n      <td>3202</td>\n      <td>47</td>\n      <td>356.139</td>\n    </tr>\n    <tr>\n      <th>1140</th>\n      <td>Can This Pill Take The Spice Out of Spic</td>\n      <td>We found a pill that makes spicy food NOT spic...</td>\n      <td>2017-07-03T10:00:00Z</td>\n      <td>29</td>\n      <td>14682631</td>\n      <td>310344</td>\n      <td>6844</td>\n      <td>18373</td>\n      <td>47</td>\n      <td>353.934</td>\n    </tr>\n    <tr>\n      <th>1475</th>\n      <td>Amazing Game Show Cheaters</td>\n      <td>Whammy! Some people are straight up cheaters. ...</td>\n      <td>2016-04-05T10:00:00Z</td>\n      <td>29</td>\n      <td>30887288</td>\n      <td>285414</td>\n      <td>28684</td>\n      <td>14412</td>\n      <td>26</td>\n      <td>342.922</td>\n    </tr>\n    <tr>\n      <th>1763</th>\n      <td>Will It Pizza? Taste Test</td>\n      <td>Today we open pandoras box of pizza. GMM #624!...</td>\n      <td>2015-02-18T11:00:01Z</td>\n      <td>38</td>\n      <td>19237424</td>\n      <td>246387</td>\n      <td>4227</td>\n      <td>34609</td>\n      <td>25</td>\n      <td>319.832</td>\n    </tr>\n    <tr>\n      <th>1981</th>\n      <td>Locked in a Sensory Deprivation Tank</td>\n      <td>We spend 60 minutes inside a sensory deprivati...</td>\n      <td>2014-05-13T10:00:01Z</td>\n      <td>32</td>\n      <td>16738106</td>\n      <td>273475</td>\n      <td>5188</td>\n      <td>20088</td>\n      <td>36</td>\n      <td>318.839</td>\n    </tr>\n  </tbody>\n</table>\n</div>"
          },
          "metadata": {}
        }
      ],
      "execution_count": 15
    },
    {
      "cell_type": "code",
      "source": "sns.set(rc={'figure.figsize':(20,5)})\nplot = sns.barplot(y=\"title\", x=\"reactions\", data=df_highest_reactions, palette=\"bright\")\nplot.set(xlabel='Thousands of Reactions', ylabel='')\nplt.xticks(rotation=45)\nplot.set_title('Most Video Reactions')\nplt.xlim(300, 700)",
      "metadata": {
        "tags": [],
        "cell_id": "00015-38e5d0ea-0a7c-4aad-bef6-1e0ee7cba8a0",
        "deepnote_to_be_reexecuted": false,
        "source_hash": "47ae78cb",
        "execution_millis": 449,
        "execution_start": 1615653634762,
        "deepnote_cell_type": "code"
      },
      "outputs": [
        {
          "output_type": "execute_result",
          "execution_count": 16,
          "data": {
            "text/plain": "(300.0, 700.0)"
          },
          "metadata": {}
        },
        {
          "data": {
            "text/plain": "<Figure size 1440x360 with 1 Axes>",
            "image/png": "[encoded data removed]"
          },
          "metadata": {},
          "output_type": "display_data"
        }
      ],
      "execution_count": 16
    },
    {
      "cell_type": "markdown",
      "source": "### Most Thumbs downed Videos",
      "metadata": {
        "tags": [],
        "cell_id": "00029-32253416-2892-4149-997c-2f313e12fdda",
        "deepnote_cell_type": "markdown"
      }
    },
    {
      "cell_type": "code",
      "source": "df_highest_disliked = df.nlargest(10, 'dislike_count')\ndf_highest_disliked['title'] = df_highest_disliked['title'].str[:40]\ndf_highest_disliked['dislike_count'] = df_highest_disliked['dislike_count'] / 1000\ndf_highest_disliked",
      "metadata": {
        "tags": [],
        "cell_id": "00016-270eaece-af61-4241-b055-4a483f629538",
        "deepnote_to_be_reexecuted": false,
        "source_hash": "54638c10",
        "execution_millis": 46,
        "execution_start": 1615653635213,
        "deepnote_cell_type": "code"
      },
      "outputs": [
        {
          "output_type": "execute_result",
          "execution_count": 17,
          "data": {
            "application/vnd.deepnote.dataframe.v2+json": {
              "row_count": 10,
              "column_count": 10,
              "columns": [
                {
                  "name": "title",
                  "dtype": "object",
                  "stats": {
                    "unique_count": 10,
                    "nan_count": 0,
                    "categories": [
                      {
                        "name": "Why I Left GMM",
                        "count": 1
                      },
                      {
                        "name": "Fortnite Dance Challenge ft. Ninja",
                        "count": 1
                      },
                      {
                        "name": "8 others",
                        "count": 8
                      }
                    ]
                  }
                },
                {
                  "name": "description",
                  "dtype": "object",
                  "stats": {
                    "unique_count": 10,
                    "nan_count": 0,
                    "categories": [
                      {
                        "name": "Hey Mythical Beasts, we just wanted to make this video to explain to all of you to why...you shouldn't believe clickbait headlines!  GMM #1196\nDon’t miss This is Mythical: http://bit.ly/EB_FirstKisses\nSUBSCRIBE to GMM: http://bit.ly/subrl2 | Watch today's GMMore: https://youtu.be/R7y6fm0XTpg\nGet our brand new GMM merch: http://mythical.store\n\nHelp us help Team Audrey Kaller raise $100,000 to fund research into the cure for epilepsy! Donate and learn more about the team at https://endepilepsy.org/adameatsashoe/\n\nFollow Rhett & Link:\nWebsite: http://mythical.co\nFacebook: http://facebook.com/rhettandlink\nTwitter: http://twitter.com/rhettandlink\nTumblr: http://rhettandlink.tumblr.com\nInstagram: http://instagram.com/rhettandlink\n\nOther Rhett & Link Channels:\nMain Channel: https://youtube.com/rhettandlink\nGood Mythical MORE: https://youtube.com/goodmythicalmore\nThis Is Mythical Kitchen: https://youtube.com/mythicalkitchen\n\nWatch More GMM:\nChoose a Season: http://bit.ly/2axhxZN\nPopular Videos: http://bit.ly/2afIJ12\nLatest Uploads: http://bit.ly/2aZMw3K\nWill It?: http://bit.ly/2a64BiV\nTaste Tests: http://bit.ly/2a4v5hZ\n\nListen to our podcast, Ear Biscuits:\nApply Podcasts: http://applepodcasts.com/earbiscuits\nSpotify: http://spoti.fi/2oIaAwp\nArt19: https://art19.com/shows/ear-biscuits\n\nJOIN the RhettandLinKommunity: http://bit.ly/rlkommunity\n\nMail us stuff to our P.O. Box: http://mythical.co/contact\n\nSubmit a Wheel of Mythicality intro video: http://bit.ly/GMMWheelIntro\n\nCredits:\nExecutive Producer: Stevie Wynne Levine\nExecutive Producer: Darren Belitsky\nWriter/Producer: Lizzie Bassett\nWriter/Producer: Micah Gordon\nWriter/Producer: Kevin Kostelnik\nWriter/Producer: Ellie McElvain\nWriter/Producer: Matt Carney\nWriter/Producer: Eliza Bayne\nWriters Assistant: Nick Lopez\nAssociate Producer: Chase Hilt\nFood Producer: Tess Middlebrook\nTechnical Director/Graphics/Editor: Morgan Locke\nEditor: Casey Nimmer\nGraphics: Matthew Dwyer\nArt Director: Colin J. Morris \nProduction Assistant: Davin Tjen\nContent Manager: Becca Canote\nSet Construction/Dresser: Cassie Cobb\n\nIntro Motion Graphics: Digital Twigs http://www.digitaltwigs.com\nIntro Music: Jeff Zeigler and Sarah Schimeneck http://www.jeffzeigler.com\nOutro Music: Jeff Zeigler and Sarah Schimeneck http://www.jeffzeigler.com\nWheel of Mythicality Music: http://www.royaltyfreemusiclibrary.com/\nAll Supplemental Music: Opus 1 Music  http://opus1.sourceaudio.com/ \nMicrophone: ‘The Mouse’ by Blue Microphones http://www.bluemic.com/mouse/",
                        "count": 1
                      },
                      {
                        "name": "We've asked Ninja, the King of Fortnite, to rate our abilities to recreate Fortnite dances with only verbal instructions.  GMM #1447\n\nPurchase Ninja's Merch Here: https://www.teamninja.com\nWatch Ninja LIVE from Times Square on NYE from 4pm to 4am ET!\nFollow Ninja on Twitch at https://twitch.tv/ninja\n\nWatch today's GMMore: https://youtu.be/yOdq6eiP4_I\nWant more GMM? Watch this season from the start: http://bit.ly/GMM_S14\n\nPick up official GMM and Mythical merch at https://mythical.store\nand https://www.amazon.com/mythical\n\nDon’t miss our weekly podcast, Ear Biscuits: https://applepodcasts.com/earbiscuits\n\nFollow Mythical: \nInstagram: https://instagram.com/mythical\nFacebook: https://facebook.com/mythical\nTwitter: https://twitter.com/mythical\nWebsite: https://mythical.com/\n\nCheck Out Our Other Mythical Channels:\nGood Mythical MORE: https://youtube.com/goodmythicalmore\nRhett & Link: https://youtube.com/rhettandlink\nMythical: https://youtube.com/thisismythical\n\nWant to send us something? https://mythical.com/contact\n\nSubmit your Wheel of Mythicality intro video here: http://bit.ly/GMMWheelIntroSUBMISSIONS\n\nIntro Animation by Digital Twigs: https://www.digitaltwigs.com\nIntro & Outro Music by Jeff Zeigler & Sarah Schimeneck https://www.jeffzeigler.com\nSupplemental Music from Extreme Production Music: https://www.extrememusic.com/\nMic: ‘The Mouse’ by Blue Microphones https://www.bluemic.com/mouse/",
                        "count": 1
                      },
                      {
                        "name": "8 others",
                        "count": 8
                      }
                    ]
                  }
                },
                {
                  "name": "published",
                  "dtype": "object",
                  "stats": {
                    "unique_count": 10,
                    "nan_count": 0,
                    "categories": [
                      {
                        "name": "2017-10-09T10:00:05Z",
                        "count": 1
                      },
                      {
                        "name": "2018-12-19T11:00:00Z",
                        "count": 1
                      },
                      {
                        "name": "8 others",
                        "count": 8
                      }
                    ]
                  }
                },
                {
                  "name": "tag_count",
                  "dtype": "int64",
                  "stats": {
                    "unique_count": 9,
                    "nan_count": 0,
                    "min": 16,
                    "max": 36,
                    "histogram": [
                      {
                        "bin_start": 16,
                        "bin_end": 18,
                        "count": 2
                      },
                      {
                        "bin_start": 18,
                        "bin_end": 20,
                        "count": 0
                      },
                      {
                        "bin_start": 20,
                        "bin_end": 22,
                        "count": 2
                      },
                      {
                        "bin_start": 22,
                        "bin_end": 24,
                        "count": 0
                      },
                      {
                        "bin_start": 24,
                        "bin_end": 26,
                        "count": 0
                      },
                      {
                        "bin_start": 26,
                        "bin_end": 28,
                        "count": 0
                      },
                      {
                        "bin_start": 28,
                        "bin_end": 30,
                        "count": 1
                      },
                      {
                        "bin_start": 30,
                        "bin_end": 32,
                        "count": 1
                      },
                      {
                        "bin_start": 32,
                        "bin_end": 34,
                        "count": 2
                      },
                      {
                        "bin_start": 34,
                        "bin_end": 36,
                        "count": 2
                      }
                    ]
                  }
                },
                {
                  "name": "view_count",
                  "dtype": "int64",
                  "stats": {
                    "unique_count": 10,
                    "nan_count": 0,
                    "min": 1220111,
                    "max": 30887288,
                    "histogram": [
                      {
                        "bin_start": 1220111,
                        "bin_end": 4186828.7,
                        "count": 4
                      },
                      {
                        "bin_start": 4186828.7,
                        "bin_end": 7153546.4,
                        "count": 2
                      },
                      {
                        "bin_start": 7153546.4,
                        "bin_end": 10120264.100000001,
                        "count": 1
                      },
                      {
                        "bin_start": 10120264.100000001,
                        "bin_end": 13086981.8,
                        "count": 1
                      },
                      {
                        "bin_start": 13086981.8,
                        "bin_end": 16053699.5,
                        "count": 0
                      },
                      {
                        "bin_start": 16053699.5,
                        "bin_end": 19020417.200000003,
                        "count": 0
                      },
                      {
                        "bin_start": 19020417.200000003,
                        "bin_end": 21987134.900000002,
                        "count": 0
                      },
                      {
                        "bin_start": 21987134.900000002,
                        "bin_end": 24953852.6,
                        "count": 1
                      },
                      {
                        "bin_start": 24953852.6,
                        "bin_end": 27920570.3,
                        "count": 0
                      },
                      {
                        "bin_start": 27920570.3,
                        "bin_end": 30887288,
                        "count": 1
                      }
                    ]
                  }
                },
                {
                  "name": "like_count",
                  "dtype": "int64",
                  "stats": {
                    "unique_count": 10,
                    "nan_count": 0,
                    "min": 27244,
                    "max": 285414,
                    "histogram": [
                      {
                        "bin_start": 27244,
                        "bin_end": 53061,
                        "count": 3
                      },
                      {
                        "bin_start": 53061,
                        "bin_end": 78878,
                        "count": 2
                      },
                      {
                        "bin_start": 78878,
                        "bin_end": 104695,
                        "count": 0
                      },
                      {
                        "bin_start": 104695,
                        "bin_end": 130512,
                        "count": 2
                      },
                      {
                        "bin_start": 130512,
                        "bin_end": 156329,
                        "count": 1
                      },
                      {
                        "bin_start": 156329,
                        "bin_end": 182146,
                        "count": 1
                      },
                      {
                        "bin_start": 182146,
                        "bin_end": 207963,
                        "count": 0
                      },
                      {
                        "bin_start": 207963,
                        "bin_end": 233780,
                        "count": 0
                      },
                      {
                        "bin_start": 233780,
                        "bin_end": 259597,
                        "count": 0
                      },
                      {
                        "bin_start": 259597,
                        "bin_end": 285414,
                        "count": 1
                      }
                    ]
                  }
                },
                {
                  "name": "dislike_count",
                  "dtype": "float64",
                  "stats": {
                    "unique_count": 10,
                    "nan_count": 0,
                    "min": 14.769,
                    "max": 51.247,
                    "histogram": [
                      {
                        "bin_start": 14.769,
                        "bin_end": 18.416800000000002,
                        "count": 4
                      },
                      {
                        "bin_start": 18.416800000000002,
                        "bin_end": 22.0646,
                        "count": 0
                      },
                      {
                        "bin_start": 22.0646,
                        "bin_end": 25.712400000000002,
                        "count": 0
                      },
                      {
                        "bin_start": 25.712400000000002,
                        "bin_end": 29.3602,
                        "count": 4
                      },
                      {
                        "bin_start": 29.3602,
                        "bin_end": 33.008,
                        "count": 0
                      },
                      {
                        "bin_start": 33.008,
                        "bin_end": 36.6558,
                        "count": 1
                      },
                      {
                        "bin_start": 36.6558,
                        "bin_end": 40.3036,
                        "count": 0
                      },
                      {
                        "bin_start": 40.3036,
                        "bin_end": 43.9514,
                        "count": 0
                      },
                      {
                        "bin_start": 43.9514,
                        "bin_end": 47.5992,
                        "count": 0
                      },
                      {
                        "bin_start": 47.5992,
                        "bin_end": 51.247,
                        "count": 1
                      }
                    ]
                  }
                },
                {
                  "name": "comment_count",
                  "dtype": "int64",
                  "stats": {
                    "unique_count": 10,
                    "nan_count": 0,
                    "min": 4536,
                    "max": 42470,
                    "histogram": [
                      {
                        "bin_start": 4536,
                        "bin_end": 8329.4,
                        "count": 3
                      },
                      {
                        "bin_start": 8329.4,
                        "bin_end": 12122.8,
                        "count": 1
                      },
                      {
                        "bin_start": 12122.8,
                        "bin_end": 15916.2,
                        "count": 2
                      },
                      {
                        "bin_start": 15916.2,
                        "bin_end": 19709.6,
                        "count": 1
                      },
                      {
                        "bin_start": 19709.6,
                        "bin_end": 23503,
                        "count": 0
                      },
                      {
                        "bin_start": 23503,
                        "bin_end": 27296.4,
                        "count": 0
                      },
                      {
                        "bin_start": 27296.4,
                        "bin_end": 31089.8,
                        "count": 2
                      },
                      {
                        "bin_start": 31089.8,
                        "bin_end": 34883.2,
                        "count": 0
                      },
                      {
                        "bin_start": 34883.2,
                        "bin_end": 38676.6,
                        "count": 0
                      },
                      {
                        "bin_start": 38676.6,
                        "bin_end": 42470,
                        "count": 1
                      }
                    ]
                  }
                },
                {
                  "name": "title_length",
                  "dtype": "int64",
                  "stats": {
                    "unique_count": 9,
                    "nan_count": 0,
                    "min": 14,
                    "max": 50,
                    "histogram": [
                      {
                        "bin_start": 14,
                        "bin_end": 17.6,
                        "count": 1
                      },
                      {
                        "bin_start": 17.6,
                        "bin_end": 21.2,
                        "count": 1
                      },
                      {
                        "bin_start": 21.2,
                        "bin_end": 24.8,
                        "count": 0
                      },
                      {
                        "bin_start": 24.8,
                        "bin_end": 28.4,
                        "count": 1
                      },
                      {
                        "bin_start": 28.4,
                        "bin_end": 32,
                        "count": 1
                      },
                      {
                        "bin_start": 32,
                        "bin_end": 35.6,
                        "count": 1
                      },
                      {
                        "bin_start": 35.6,
                        "bin_end": 39.2,
                        "count": 3
                      },
                      {
                        "bin_start": 39.2,
                        "bin_end": 42.8,
                        "count": 0
                      },
                      {
                        "bin_start": 42.8,
                        "bin_end": 46.4,
                        "count": 1
                      },
                      {
                        "bin_start": 46.4,
                        "bin_end": 50,
                        "count": 1
                      }
                    ]
                  }
                },
                {
                  "name": "reactions",
                  "dtype": "int64",
                  "stats": {
                    "unique_count": 10,
                    "nan_count": 0,
                    "min": 56108,
                    "max": 342922,
                    "histogram": [
                      {
                        "bin_start": 56108,
                        "bin_end": 84789.4,
                        "count": 2
                      },
                      {
                        "bin_start": 84789.4,
                        "bin_end": 113470.8,
                        "count": 1
                      },
                      {
                        "bin_start": 113470.8,
                        "bin_end": 142152.2,
                        "count": 1
                      },
                      {
                        "bin_start": 142152.2,
                        "bin_end": 170833.6,
                        "count": 2
                      },
                      {
                        "bin_start": 170833.6,
                        "bin_end": 199515,
                        "count": 1
                      },
                      {
                        "bin_start": 199515,
                        "bin_end": 228196.40000000002,
                        "count": 0
                      },
                      {
                        "bin_start": 228196.40000000002,
                        "bin_end": 256877.80000000002,
                        "count": 0
                      },
                      {
                        "bin_start": 256877.80000000002,
                        "bin_end": 285559.2,
                        "count": 2
                      },
                      {
                        "bin_start": 285559.2,
                        "bin_end": 314240.6,
                        "count": 0
                      },
                      {
                        "bin_start": 314240.6,
                        "bin_end": 342922,
                        "count": 1
                      }
                    ]
                  }
                },
                {
                  "name": "_deepnote_index_column",
                  "dtype": "int64"
                }
              ],
              "rows_top": [
                {
                  "title": "Why I Left GMM",
                  "description": "Hey Mythical Beasts, we just wanted to make this video to explain to all of you to why...you shouldn't believe clickbait headlines!  GMM #1196\nDon’t miss This is Mythical: http://bit.ly/EB_FirstKisses\nSUBSCRIBE to GMM: http://bit.ly/subrl2 | Watch today's GMMore: https://youtu.be/R7y6fm0XTpg\nGet our brand new GMM merch: http://mythical.store\n\nHelp us help Team Audrey Kaller raise $100,000 to fund research into the cure for epilepsy! Donate and learn more about the team at https://endepilepsy.org/adameatsashoe/\n\nFollow Rhett & Link:\nWebsite: http://mythical.co\nFacebook: http://facebook.com/rhettandlink\nTwitter: http://twitter.com/rhettandlink\nTumblr: http://rhettandlink.tumblr.com\nInstagram: http://instagram.com/rhettandlink\n\nOther Rhett & Link Channels:\nMain Channel: https://youtube.com/rhettandlink\nGood Mythical MORE: https://youtube.com/goodmythicalmore\nThis Is Mythical Kitchen: https://youtube.com/mythicalkitchen\n\nWatch More GMM:\nChoose a Season: http://bit.ly/2axhxZN\nPopular Videos: http://bit.ly/2afIJ12\nLatest Uploads: http://bit.ly/2aZMw3K\nWill It?: http://bit.ly/2a64BiV\nTaste Tests: http://bit.ly/2a4v5hZ\n\nListen to our podcast, Ear Biscuits:\nApply Podcasts: http://applepodcasts.com/earbiscuits\nSpotify: http://spoti.fi/2oIaAwp\nArt19: https://art19.com/shows/ear-biscuits\n\nJOIN the RhettandLinKommunity: http://bit.ly/rlkommunity\n\nMail us stuff to our P.O. Box: http://mythical.co/contact\n\nSubmit a Wheel of Mythicality intro video: http://bit.ly/GMMWheelIntro\n\nCredits:\nExecutive Producer: Stevie Wynne Levine\nExecutive Producer: Darren Belitsky\nWriter/Producer: Lizzie Bassett\nWriter/Producer: Micah Gordon\nWriter/Producer: Kevin Kostelnik\nWriter/Producer: Ellie McElvain\nWriter/Producer: Matt Carney\nWriter/Producer: Eliza Bayne\nWriters Assistant: Nick Lopez\nAssociate Producer: Chase Hilt\nFood Producer: Tess Middlebrook\nTechnical Director/Graphics/Editor: Morgan Locke\nEditor: Casey Nimmer\nGraphics: Matthew Dwyer\nArt Director: Colin J. Morris \nProduction Assistant: Davin Tjen\nContent Manager: Becca Canote\nSet Construction/Dresser: Cassie Cobb\n\nIntro Motion Graphics: Digital Twigs http://www.digitaltwigs.com\nIntro Music: Jeff Zeigler and Sarah Schimeneck http://www.jeffzeigler.com\nOutro Music: Jeff Zeigler and Sarah Schimeneck http://www.jeffzeigler.com\nWheel of Mythicality Music: http://www.royaltyfreemusiclibrary.com/\nAll Supplemental Music: Opus 1 Music  http://opus1.sourceaudio.com/ \nMicrophone: ‘The Mouse’ by Blue Microphones http://www.bluemic.com/mouse/",
                  "published": "2017-10-09T10:00:05Z",
                  "tag_count": 36,
                  "view_count": 6391042,
                  "like_count": 163103,
                  "dislike_count": 51.247,
                  "comment_count": 29754,
                  "title_length": 14,
                  "reactions": 273858,
                  "_deepnote_index_column": 1093
                },
                {
                  "title": "Fortnite Dance Challenge ft. Ninja",
                  "description": "We've asked Ninja, the King of Fortnite, to rate our abilities to recreate Fortnite dances with only verbal instructions.  GMM #1447\n\nPurchase Ninja's Merch Here: https://www.teamninja.com\nWatch Ninja LIVE from Times Square on NYE from 4pm to 4am ET!\nFollow Ninja on Twitch at https://twitch.tv/ninja\n\nWatch today's GMMore: https://youtu.be/yOdq6eiP4_I\nWant more GMM? Watch this season from the start: http://bit.ly/GMM_S14\n\nPick up official GMM and Mythical merch at https://mythical.store\nand https://www.amazon.com/mythical\n\nDon’t miss our weekly podcast, Ear Biscuits: https://applepodcasts.com/earbiscuits\n\nFollow Mythical: \nInstagram: https://instagram.com/mythical\nFacebook: https://facebook.com/mythical\nTwitter: https://twitter.com/mythical\nWebsite: https://mythical.com/\n\nCheck Out Our Other Mythical Channels:\nGood Mythical MORE: https://youtube.com/goodmythicalmore\nRhett & Link: https://youtube.com/rhettandlink\nMythical: https://youtube.com/thisismythical\n\nWant to send us something? https://mythical.com/contact\n\nSubmit your Wheel of Mythicality intro video here: http://bit.ly/GMMWheelIntroSUBMISSIONS\n\nIntro Animation by Digital Twigs: https://www.digitaltwigs.com\nIntro & Outro Music by Jeff Zeigler & Sarah Schimeneck https://www.jeffzeigler.com\nSupplemental Music from Extreme Production Music: https://www.extrememusic.com/\nMic: ‘The Mouse’ by Blue Microphones https://www.bluemic.com/mouse/",
                  "published": "2018-12-19T11:00:00Z",
                  "tag_count": 20,
                  "view_count": 5698978,
                  "like_count": 76998,
                  "dislike_count": 34.954,
                  "comment_count": 15471,
                  "title_length": 34,
                  "reactions": 142894,
                  "_deepnote_index_column": 523
                },
                {
                  "title": "11 Minutes of Silence",
                  "description": "Let's not talk about that. GMM #891! \nGood Mythical MORE: https://youtu.be/ghN_ApIr9rs\nSUBSCRIBE for daily episodes: http://bit.ly/subrl2  **** \n\nPREVIOUS episode: https://youtu.be/hfa8Mn1AKuI?list=PLJ...\n\nNEXT episode: https://youtu.be/_CAiGIdNAwo?list=PLJ49NV73ttrvdeqDBaqtbdE18ClnJ8tCL\n\nGet the GMM Coffee Mug! http://bit.ly/GMM_Mug\n\nGet the GMM Poster, GMM T-shirt and more! http://bit.ly/RL_Store\n\nWatch the Rhett & Link Channel: http://youtube.com/rhettandlink\n\nListen to our podcast, Ear Biscuits!\niTunes: https://itunes.apple.com/podcast/ear-...\nSoundCloud: https://soundcloud.com/earbiscuits\n\nLIKE us on FACEBOOK! http://facebook.com/rhettandlink\nFOLLOW us on TWITTER! http://twitter.com/rhettandlink\nFOLLOW us on TUMBLR: http://rhettandlink.tumblr.com/\nFOLLOW our INSTAGRAM:  http://instagram.com/rhettandlink\nJOIN our circle on GOOGLE+: https://plus.google.com/+rhettandlink\n\nJOIN the RhettandLinKommunity! http://bit.ly/rlkommunity\n\nMail us stuff to our P.O. Box!  http://rhettandlink.com/contact \n\nSubmit a Wheel of Mythicality intro video! http://bit.ly/GMMWheelIntro\n\nWe are two Internetainers dedicated to giving you a daily dose of casual comedy every Monday-Friday on our show \"Good Mythical Morning.\" Thanks for making us a part of your daily routine.  Be your mythical best! - Rhett & Link\n\nCREDITS: \nExecutive Producer: Stevie Wynne Levine\nExecutive Producer: Drew Champion\nWriter/Producer: Edward Coleman \nWriter/Producer: Lizzie Bassett\nWriter/Producer: Kevin Kostelnik\nAssociate Producer: Chase Hilt\nTechnical Director/Graphics/Editor: Morgan Locke\nEditor: Casey Nimmer\nAdditional Graphics/Editing: Matthew Dwyer \nProduction Coordinator: Alexander Punch \nProduction Assistant: Mike Criscimagna\nContent Manager: Becca Canote\nSet Construction/Dresser: Cassie Cobb\nIntro Motion Graphics: Digital Twigs \nhttp://www.digitaltwigs.com\nIntro Music: Pomplamoose http://www.youtube.com/pomplamoosemusic\nOutro Music: Pomplamoose http://www.youtube.com/pomplamoosemusic\nWheel of Mythicality Music: http://www.royaltyfreemusiclibrary.com/ \nMicrophone: ‘The Mouse’ by Blue Microphones http://www.bluemic.com/mouse/",
                  "published": "2016-04-01T10:00:02Z",
                  "tag_count": 31,
                  "view_count": 4178539,
                  "like_count": 155069,
                  "dislike_count": 29.081,
                  "comment_count": 42470,
                  "title_length": 21,
                  "reactions": 269090,
                  "_deepnote_index_column": 1477
                },
                {
                  "title": "Amazing Game Show Cheaters",
                  "description": "Whammy! Some people are straight up cheaters. GMM #893!\nFollow us on Twitter at http://twitter.com/rhettandlink\nGood Mythical MORE: https://youtu.be/CTuKtKkqbGE\nSUBSCRIBE for daily episodes: http://bit.ly/subrl2  \n\nPREVIOUS episode: https://youtu.be/_CAiGIdNAwo?list=PLJ...\n\nNEXT episode: https://youtu.be/ZN4NFwmI86I?list=PLJ49NV73ttrvdeqDBaqtbdE18ClnJ8tCL\n\nGet the GMM Coffee Mug! http://bit.ly/GMM_Mug\n\nGet the GMM Poster, GMM T-shirt and more! http://bit.ly/RL_Store\n\nWatch the Rhett & Link Channel: http://youtube.com/rhettandlink\n\nListen to our podcast, Ear Biscuits!\niTunes: https://itunes.apple.com/podcast/ear-...\nSoundCloud: https://soundcloud.com/earbiscuits\n\nLIKE us on FACEBOOK! http://facebook.com/rhettandlink\nFOLLOW us on TWITTER! http://twitter.com/rhettandlink\nFOLLOW us on TUMBLR: http://rhettandlink.tumblr.com/\nFOLLOW our INSTAGRAM:  http://instagram.com/rhettandlink\nJOIN our circle on GOOGLE+: https://plus.google.com/+rhettandlink\n\nJOIN the RhettandLinKommunity! http://bit.ly/rlkommunity\n\nMail us stuff to our P.O. Box!  http://rhettandlink.com/contact \n\nSubmit a Wheel of Mythicality intro video! http://bit.ly/GMMWheelIntro\n\nWe are two Internetainers dedicated to giving you a daily dose of casual comedy every Monday-Friday on our show \"Good Mythical Morning.\" Thanks for making us a part of your daily routine.  Be your mythical best! - Rhett & Link\n\nCREDITS: \nExecutive Producer: Stevie Wynne Levine\nExecutive Producer: Drew Champion\nWriter/Producer: Edward Coleman \nWriter/Producer: Lizzie Bassett\nWriter/Producer: Kevin Kostelnik\nAssociate Producer: Chase Hilt\nTechnical Director/Graphics/Editor: Morgan Locke\nEditor: Casey Nimmer\nAdditional Graphics/Editing: Matthew Dwyer \nProduction Coordinator: Alexander Punch \nProduction Assistant: Mike Criscimagna\nContent Manager: Becca Canote\nSet Construction/Dresser: Cassie Cobb\nIntro Motion Graphics: Digital Twigs \nhttp://www.digitaltwigs.com\nIntro Music: Pomplamoose http://www.youtube.com/pomplamoosemusic\nOutro Music: Pomplamoose http://www.youtube.com/pomplamoosemusic\nWheel of Mythicality Music: http://www.royaltyfreemusiclibrary.com/ \nMicrophone: ‘The Mouse’ by Blue Microphones http://www.bluemic.com/mouse/",
                  "published": "2016-04-05T10:00:00Z",
                  "tag_count": 29,
                  "view_count": 30887288,
                  "like_count": 285414,
                  "dislike_count": 28.684,
                  "comment_count": 14412,
                  "title_length": 26,
                  "reactions": 342922,
                  "_deepnote_index_column": 1475
                },
                {
                  "title": "Wish.com vs. Retail Cost (GAME)",
                  "description": "Thanks to Wish for sponsoring today’s episode! Download the Wish app and start shopping now: https://bit.ly/2Eu4VU2\n\nWish.com deals, a wishing well, troll, and pond scum… Just another day in the office!  GMM #1503\n\nWatch today's GMMore: https://youtu.be/ENk1euJYrHo\nClick the bell icon so you'll know when we add a new episode!\nWant more GMM? Watch this season from the start: http://bit.ly/GMM_Season15\n\nPick up official GMM and Mythical merch at https://mythical.store\nand https://www.amazon.com/mythical\n\nDon’t miss our weekly podcast, Ear Biscuits: https://applepodcasts.com/earbiscuits\n\nJoin the Mythical Society: https://www.mythicalsociety.com/\n\nFollow Mythical: \nInstagram: https://instagram.com/mythical\nFacebook: https://facebook.com/mythical\nTwitter: https://twitter.com/mythical\nWebsite: https://mythical.com/\n\nCheck Out Our Other Mythical Channels:\nGood Mythical MORE: https://youtube.com/goodmythicalmore\nRhett & Link: https://youtube.com/rhettandlink\nMythical: https://youtube.com/thisismythical\n\nWant to send us something? https://mythical.com/contact\n\nSubmit your Wheel of Mythicality intro video here: http://bit.ly/GMMWheelIntroSUBMISSIONS\n\nIntro Animation by Dana Schechter https://www.danaschechter.com/\nIntro & Outro Music by Mark Byers http://www.markaholic.com/\nSupplemental Music from Extreme Production Music: https://www.extrememusic.com/\nMic: ‘The Mouse’ by Blue Microphones https://www.bluemic.com/mouse/",
                  "published": "2019-03-14T10:00:01Z",
                  "tag_count": 33,
                  "view_count": 3591066,
                  "like_count": 51347,
                  "dislike_count": 27.771,
                  "comment_count": 5228,
                  "title_length": 31,
                  "reactions": 89574,
                  "_deepnote_index_column": 456
                },
                {
                  "title": "7 Bromas para el Día de los Inocentes",
                  "description": "Nunca es demasiado tarde para hacer algunas bromas en el día de los inocentes. GMM # 654!\nObtén tu Zapato Mítico edición especial  por nuestro aniversario. Solo quedan 4 2015: https://bitly.com/5YrMythShoe\nPara la versión en Inglés: http://youtu.be/yZnmhG41N74\nGood Mythical MORE:  https://youtu.be/0WOlr8x_eQk\nSUSCRIBETE para episodios diarios: http://bit.ly/subrl2 ****\n\nEpisodio anterior: https://youtu.be/UGNeKbcP_rY?list=PLJ49NV73ttrtQP_nY7NTldYfEsYmlCV2L\n\nSiguiente episodio: https://youtu.be/FxOEpnwrADc?list=PLJ49NV73ttrtQP_nY7NTldYfEsYmlCV2L\n\nObtén tu taza GMM! http://store.dftba.com/products/good-mythical-morning-mug\n\nObtén el cartel GMM y la camiseta GMM! http://store.dftba.com/collections/rhett-link\n\nVisita el canal de Rhett & Link: http://youtube.com/rhettandlink\n\nEscucha Galletas para los oídos!\niTunes: https://itunes.apple.com/us/podcast/ear-biscuits/id717407884?mt=2\nSoundCloud: https://soundcloud.com/earbiscuits\n\nÚNETE a RhettandLinKommunity! http://bit.ly/rlkommunity\n\nNosotros en FACEBOOK! http://facebook.com/rhettandlink\nSíguenos en Twitter! http://twitter.com/rhettandlink\nNosotros en Tumblr: http://rhettandlink.tumblr.com/\nSíguenos en Instagram - http://instagram.com/rhettandlink\n\nSomos dos Internetainers dedicados a darle una dosis diaria de comedia informal de Lunes a Viernes en nuestro programa \"Buenos y míticos días\" en youtube.com/rhettandlink2. Gracias por hacernos parte de su rutina diaria. Be your mythical best, mythical beast. - Rhett & Link\n\nEnvíen sus regalos a nuestro P.O. Box! \nIr a http://rhettandlink.com/contact para más detalles.\n\nCRÉDITOS:\n\nProductor Ejecutivo: Stevie Wynne Levine\nProductor Supervisor: Noah Starr\nGuionista, Productor, Cámara: Edward Coleman\nEditor, Gráficos: Morgan Locke\nAsistente de Edición: Leo Kei Angelos\nCoordinador de Producción: Alexander Punch\nAsistente de producción: Chase Hilt\nGráficos e iluminación de Intro: Ben Eck\nAdministrador de contenidos: Becca Canote\nGráficos de Intro: Las ramitas digitales http://www.digitaltwigs.com\nMúsica de Intro: Pomplamoose http://www.youtube.com/pomplamoosemusic\nConstrucción de Set/ Dresser: Cassie Cobb\nMusicas: http://www.royaltyfreemusiclibrary.com/\nMicrófono: The Mouse from Blue Microphones: http://www.bluemic.com/mouse/",
                  "published": "2015-04-01T10:00:00Z",
                  "tag_count": 35,
                  "view_count": 10154395,
                  "like_count": 113155,
                  "dislike_count": 27.248,
                  "comment_count": 17997,
                  "title_length": 37,
                  "reactions": 176397,
                  "_deepnote_index_column": 1727
                },
                {
                  "title": "6 Legal Things That Should Be Illegal",
                  "description": "We've decided that if you do any of these things, you should be arrested! GMM 301!\nGood Mythical MORE: https://youtu.be/YyrW022a974\n\nSUBSCRIBE for daily episodes: http://bit.ly/subrl2   **** \n\nPREVIOUS episode:\nhttp://www.youtube.com/watch?v=3bRiSl0zjvk\n\nNEXT episode:\nhttp://www.youtube.com/watch?v=XxZuly4ODnA\n\nWatch our Arby's: League of Brisket commercial!\nhttps://www.facebook.com/arbys\nJoin the League of Brisket & complete challenges to earn food, gear, & a chance at the Ultimate Tailgate experience. Learn more at http://LeagueOfBrisket.com/.\n\nGet the GMM Signed Poster plus the GMM T-shirt! \nhttp://dftba.com/artist/26/Rhett--Link\n\nMAIN YOUTUBE CHANNEL: http://youtube.com/rhettandlink\n\nJOIN the RhettandLinKommunity!\nhttp://bit.ly/rlkommunity\n\nLIKE us on FACEBOOK! http://facebook.com/rhettandlink\nFOLLOW us on TWITTER!\nhttp://twitter.com/rhettandlink\nFOLLOW us on TUMBLR: http://rhettandlink.tumblr.com/\nFOLLOW our INSTAGRAM - http://instagram.com/rhettandlink\nJOIN our circle on GOOGLE PLUS: https://plus.google.com/+rhettandlink\n\nGood Mythical Morning is available for download on iTunes!\nVideo Podcast: http://bit.ly/xuJVPc\nAudio Podcast: http://bit.ly/zSewZ6\n\nWe are two Internetainers dedicated to giving you a daily dose of casual comedy every Monday-Friday on our show \"Good Mythical Morning\" at youtube.com/rhettandlink2.  Thanks for making us a part of your daily routine.  Be your mythical best, mythical beast. - Rhett & Link\n\nMail us stuff to our P.O. Box \nGo to http://rhettandlink.com/contact for details.\n\nCREDITS: \nProduced by Stevie Wynne Levine\nCo-producer, Camera, Editor: Jason Inman\nShow Graphics Package and Lighting: Ben Eck\nIntro Illustration: Kendrick Kidd http://kendrickkidd.com/\nIntro Motion Graphics: Eden Soto http://eden.tv\nSet dresser:  Cassie Cobb\nSet construction: Jason Inman\nWheel music: http://www.royaltyfreemusiclibrary.com/ \nMicrophone: The Mouse from Blue Microphones: http://www.bluemic.com/mouse/",
                  "published": "2013-10-09T10:00:02Z",
                  "tag_count": 32,
                  "view_count": 8001977,
                  "like_count": 68565,
                  "dislike_count": 15.346,
                  "comment_count": 28520,
                  "title_length": 37,
                  "reactions": 140951,
                  "_deepnote_index_column": 2140
                },
                {
                  "title": "The Most Amazing Optical Illusions on th",
                  "description": "Your mind will explode when we show you all the best optical illusions on the internet. Good Mythical Morning Episode 260!  \nSUBSCRIBE for daily episodes: http://bit.ly/subrl2 **** \n\nMAIN YOUTUBE CHANNEL: http://youtube.com/rhettandlink\n\nLIKE us on FACEBOOK! http://facebook.com/rhettandlink\nFOLLOW us on TWITTER! http://twitter.com/rhettandlink\nJOIN our circle on GOOGLE PLUS: http://bit.ly/RhettLinkPlus\n\nSend us stuff at our P.O. Box\nRhett & Link\nPO Box 55605, Sherman Oaks, CA 91413\n\nGood Mythical Morning is available for download on iTunes!\nVideo Podcast: http://bit.ly/xuJVPc\nAudio Podcast: http://bit.ly/zSewZ6\n\nRhett and Link are Internetainers dedicated to giving you a daily dose of casual comedy every Monday-Friday on our show \"Good Mythical Morning\" only on youtube.com/rhettandlink2. \n\nJOIN the RhettandLinKommunity!\nhttp://bit.ly/rlkommunity\n\nSupport the official GMM artistes!\n\nGMM Cockatrice/Flame Illustration:\nKendrick Kidd\nhttp://kendrickkidd.com/\n\nGMM Intro Motion Graphics:\nEden Soto\nhttp://eden.tv\n\nCREDITS: \nProducer, Camera, Editing:  Jason Inman\nWheel music: RoyaltyFreeMusicLibrary.comhttp://www.royaltyfreemusiclibrary.com/ \nMicrophone: The Mouse from Blue Microphones: http://www.bluemic.com/mouse/",
                  "published": "2013-03-18T14:37:16Z",
                  "tag_count": 20,
                  "view_count": 22403009,
                  "like_count": 106198,
                  "dislike_count": 15.266,
                  "comment_count": 11265,
                  "title_length": 50,
                  "reactions": 143994,
                  "_deepnote_index_column": 2200
                },
                {
                  "title": "Burnt Food Taste Test ft. Padma Lakshmi ",
                  "description": "Can Top Chef's Padma Lakshmi correctly guess between burnt mayonnaise and chow mein? Find out! GMM #1291.1\nWatch Part 2: https://youtu.be/0Vt2P-6pJpk\nWatch yesterday's episode from the start: http://bit.ly/GMM1290\n\nFollow Padma Lakshmi on Instagram at http://www.instagram.com/PadmaLakshmi\nGet Padma's exclusive 17-piece MAC cosmetics collection on 3/15/18.\n\nPick up all of the official GMM merch at https://mythical.store & exclusive limited edition tees at https://www.amazon.com/mythical\n\nFollow Rhett & Link: \nInstagram: https://instagram.com/mythical\nFacebook: https://facebook.com/mythical\nTwitter: https://twitter.com/mythical\nTumblr: https://rhettandlink.tumblr.com\nSnapchat: @realrhettlink\nWebsite: https://mythical.co/\n\nCheck Out Our Other Mythical Channels:\nGood Mythical MORE: https://youtube.com/goodmythicalmore\nRhett & Link: https://youtube.com/rhettandlink\nThis Is Mythical Kitchen: https://youtube.com/mythicalkitchen\nEar Biscuits: https://applepodcasts.com/earbiscuits\n\nWant to send us something? https://mythical.co/contact\nHave you made a Wheel of Mythicality intro video? Submit it here: https://bit.ly/GMMWheelIntro\n\nIntro Animation by Digital Twigs: https://www.digitaltwigs.com\nIntro & Outro Music by Jeff Zeigler & Sarah Schimeneck https://www.jeffzeigler.com\nAll Supplemental Music from Extreme Production Music: https://www.extrememusic.com/\nWe use ‘The Mouse’ by Blue Microphones https://www.bluemic.com/mouse/",
                  "published": "2018-03-08T11:00:03Z",
                  "tag_count": 16,
                  "view_count": 1949775,
                  "like_count": 27244,
                  "dislike_count": 15.054,
                  "comment_count": 6905,
                  "title_length": 46,
                  "reactions": 56108,
                  "_deepnote_index_column": 781
                },
                {
                  "title": "Dad Meme Review (Quarantine Episode)",
                  "description": "Today, we're testing our meme skills and seeing who's got the best meme game! GMM #1724\r\n\nIf you'd like to donate to the CDC, go to https://cdcfoundation.org\n\nSubmit your Coin of Mythicality video here: https://mythic.al/CoinVideo\n\nCheck out Mythical Kitchen! https://youtube.com/mythicalkitchen\n\r\nWant to help us make even better content and products for YOU? Want to receive a store discount? Participate in the Mythical Census by April 10th: mythicalcensus.com\r\n\r\nSubscribe to GMM: https://www.youtube.com/goodmythicalmorning?sub_confirmation=1\r\n\r\nWatch today's GMMORE: https://youtu.be/cqZihOb8mzA\r\nClick the bell icon so you'll know when we add a new episode!\r\n\r\nWant more GMM? Check out these playlists:\r\nSeason 16 - https://www.youtube.com/playlist?list=PLJ49NV73ttrvCQhgIj1Ovt3g0PBlO18s2\r\nWill It? - https://www.youtube.com/playlist?list=PLJ49NV73ttrucP6jJ1gjSqHmhlmvkdZuf\r\nTaste Tests! - https://www.youtube.com/playlist?list=PLJ49NV73ttrsUefw67wH_pnEJ5KwJZ7lN\r\n\r\nGet a copy of our novel, The Lost Causes of Bleak Creek @ http://www.bleakcreek.com\r\n\r\nPick up official GMM and Mythical merch at https://mythical.com\r\nand https://www.amazon.com/mythical\r\n\r\nDon’t miss our weekly podcast, Ear Biscuits: https://applepodcasts.com/earbiscuits\r\n\r\nJoin the Mythical Society: https://www.mythicalsociety.com\r\n\r\nFollow Mythical:\r\nInstagram: https://instagram.com/mythical\r\nFacebook: https://facebook.com/mythical\r\nTwitter: https://twitter.com/mythical\r\nWebsite: https://mythical.com\r\n\r\nCheck Out Our Other Mythical Channels:\r\nMythical Kitchen: https://youtube.com/mythicalkitchen\r\nRhett & Link: https://youtube.com/rhettandlink\r\nGood Mythical MORE: https://youtube.com/goodmythicalmore\r\n\r\nWant to send us something? https://mythical.com/contact\r\n\r\nSubmit your Wheel of Mythicality video here: http://bit.ly/GMMWheelIntroSUBMISSIONS\r\n\r\nIntro Animation by Dana Schechter https://www.danaschechter.com/\r\nIntro & Outro Music by Mark Byers http://www.markaholic.com/\r\nSupplemental Music from Extreme Production Music: https://www.extrememusic.com/\r\nMic: ‘The Mouse’ by Blue Microphones https://www.bluemic.com/mouse/\r\n\r\nGet the GMM Set Gear!\r\n* Apple AirPort Extreme: https://amzn.to/2NnIvvk\r\n* Apple iPad Pro (12.9-inch, Wi-Fi, 64GB) - Space Gray (Latest Model) - MTEL2LL/A: https://amzn.to/2NnKXlw\r\n* Guardian Industrial Products DH-CP-4 3 Channel Rubber Cable Ramp (Straight): https://amzn.to/2NdshoR\r\n* Cartoni Focus HD Fluid Head with 3 Tube Ultra-Light Tripod, Mid-Level Spreader and Soft Case - Black: https://amzn.to/2X4i7X8\r\n* ARRI SkyPanel S60-C LED Softlight (Blue/Silver, Edison): https://amzn.to/2YgM3km\r\n* Chef-Master 90050 Professional Heat Lamp, Silver: https://amzn.to/2Xa1Wwr\r\n* Samsung UN40H5003 40-Inch 1080p LED TV (2014 Model): https://amzn.to/2NdMU4e\r\n* Sony LMDA170 17\" Production Video LCD Monitor, 16:9 Native Aspect Ratio, 1080p Resolution: https://amzn.to/2YlB9tH\r\n* Behringer Xenyx 1002 Premium 10-Input 2-Bus Mixer with XENYX Mic Preamps and British Eqs: https://amzn.to/2Yeeqzl\r\n* Elgato Game Capture Card HD60 S - Stream and Record in 1080p60, for PlayStation 4, Xbox One & Xbox 360 (Renewed): https://amzn.to/2NdOBP6\r\n* Pyle Universal Speaker Stand Mount Holder - Heavy Duty Tripod w/ Adjustable Height from 40” to 71” and 35mm Compatible Insert - Easy Mobility Safety PIN and Knob Tension Locking for Stability PSTND2: https://amzn.to/2JcCpce\r\n* JBL EON612 Portable 12\" 2-Way Multipurpose Self-Powered Sound Reinforcement: https://amzn.to/2Ndluvm\r\n* Bolt 500 XT 3G-SDI/HDMI Wireless TX/RX: https://amzn.to/2J1OeSk\r\n* Voigtlaender 17,5/0,95 Nokton 17.5 mm-17.5 mm Lens: https://amzn.to/2JjUCEP\r\n* Blackmagic Design Micro Converter SDI to HDMI (with Power Supply) BMD-CONVCMIC/SH/WPSU: https://amzn.to/2J6iw6y\r\n* Panasonic H-HSA35100 F2.8 II ASPH 35-100mm Mirrorless Micro Four Thirds Mount POWER Optical I.S. LUMIX G X VARIO Professional Lens: https://amzn.to/2RAhIul\r\n* PANASONIC LUMIX Professional 12-35mm Camera Lens G X VARIO II, F2.8 ASPH, Dual I.S. 2.0 with Power O.I.S., Mirrorless Micro Four Thirds, H-HSA12035 (2017 Model, Black): https://amzn.to/2J9WH5S\r\n* Decimator Design DMON-12S | 12 Channel Multi Viewer with HDMI SDI Outputs: https://amzn.to/2J9Xkwg\r\n* Decimator MD-HX HDMI and SDI Cross Converter with Scaling & Frame Rate Conversion: https://amzn.to/2Ymj52c\r\n* PANASONIC LUMIX GH4 Body 4K Mirrorless Camera, 16 Megapixels, 3 Inch Touch LCD, DMC-GH4KBODY (USA Black): https://amzn.to/2WZjlD6\r\n* Blue Microphones Mouse Microphone Kc: https://amzn.to/2Ybu12I",
                  "published": "2020-04-08T10:00:37Z",
                  "tag_count": 17,
                  "view_count": 1220111,
                  "like_count": 40095,
                  "dislike_count": 14.769,
                  "comment_count": 4536,
                  "title_length": 36,
                  "reactions": 63936,
                  "_deepnote_index_column": 203
                }
              ],
              "rows_bottom": null
            },
            "text/plain": "                                         title  \\\n1093                            Why I Left GMM   \n523         Fortnite Dance Challenge ft. Ninja   \n1477                     11 Minutes of Silence   \n1475                Amazing Game Show Cheaters   \n456            Wish.com vs. Retail Cost (GAME)   \n1727     7 Bromas para el Día de los Inocentes   \n2140     6 Legal Things That Should Be Illegal   \n2200  The Most Amazing Optical Illusions on th   \n781   Burnt Food Taste Test ft. Padma Lakshmi    \n203       Dad Meme Review (Quarantine Episode)   \n\n                                            description             published  \\\n1093  Hey Mythical Beasts, we just wanted to make th...  2017-10-09T10:00:05Z   \n523   We've asked Ninja, the King of Fortnite, to ra...  2018-12-19T11:00:00Z   \n1477  Let's not talk about that. GMM #891! \\nGood My...  2016-04-01T10:00:02Z   \n1475  Whammy! Some people are straight up cheaters. ...  2016-04-05T10:00:00Z   \n456   Thanks to Wish for sponsoring today’s episode!...  2019-03-14T10:00:01Z   \n1727  Nunca es demasiado tarde para hacer algunas br...  2015-04-01T10:00:00Z   \n2140  We've decided that if you do any of these thin...  2013-10-09T10:00:02Z   \n2200  Your mind will explode when we show you all th...  2013-03-18T14:37:16Z   \n781   Can Top Chef's Padma Lakshmi correctly guess b...  2018-03-08T11:00:03Z   \n203   Today, we're testing our meme skills and seein...  2020-04-08T10:00:37Z   \n\n      tag_count  view_count  like_count  dislike_count  comment_count  \\\n1093         36     6391042      163103         51.247          29754   \n523          20     5698978       76998         34.954          15471   \n1477         31     4178539      155069         29.081          42470   \n1475         29    30887288      285414         28.684          14412   \n456          33     3591066       51347         27.771           5228   \n1727         35    10154395      113155         27.248          17997   \n2140         32     8001977       68565         15.346          28520   \n2200         20    22403009      106198         15.266          11265   \n781          16     1949775       27244         15.054           6905   \n203          17     1220111       40095         14.769           4536   \n\n      title_length  reactions  \n1093            14     273858  \n523             34     142894  \n1477            21     269090  \n1475            26     342922  \n456             31      89574  \n1727            37     176397  \n2140            37     140951  \n2200            50     143994  \n781             46      56108  \n203             36      63936  ",
            "text/html": "<div>\n<style scoped>\n    .dataframe tbody tr th:only-of-type {\n        vertical-align: middle;\n    }\n\n    .dataframe tbody tr th {\n        vertical-align: top;\n    }\n\n    .dataframe thead th {\n        text-align: right;\n    }\n</style>\n<table border=\"1\" class=\"dataframe\">\n  <thead>\n    <tr style=\"text-align: right;\">\n      <th></th>\n      <th>title</th>\n      <th>description</th>\n      <th>published</th>\n      <th>tag_count</th>\n      <th>view_count</th>\n      <th>like_count</th>\n      <th>dislike_count</th>\n      <th>comment_count</th>\n      <th>title_length</th>\n      <th>reactions</th>\n    </tr>\n  </thead>\n  <tbody>\n    <tr>\n      <th>1093</th>\n      <td>Why I Left GMM</td>\n      <td>Hey Mythical Beasts, we just wanted to make th...</td>\n      <td>2017-10-09T10:00:05Z</td>\n      <td>36</td>\n      <td>6391042</td>\n      <td>163103</td>\n      <td>51.247</td>\n      <td>29754</td>\n      <td>14</td>\n      <td>273858</td>\n    </tr>\n    <tr>\n      <th>523</th>\n      <td>Fortnite Dance Challenge ft. Ninja</td>\n      <td>We've asked Ninja, the King of Fortnite, to ra...</td>\n      <td>2018-12-19T11:00:00Z</td>\n      <td>20</td>\n      <td>5698978</td>\n      <td>76998</td>\n      <td>34.954</td>\n      <td>15471</td>\n      <td>34</td>\n      <td>142894</td>\n    </tr>\n    <tr>\n      <th>1477</th>\n      <td>11 Minutes of Silence</td>\n      <td>Let's not talk about that. GMM #891! \\nGood My...</td>\n      <td>2016-04-01T10:00:02Z</td>\n      <td>31</td>\n      <td>4178539</td>\n      <td>155069</td>\n      <td>29.081</td>\n      <td>42470</td>\n      <td>21</td>\n      <td>269090</td>\n    </tr>\n    <tr>\n      <th>1475</th>\n      <td>Amazing Game Show Cheaters</td>\n      <td>Whammy! Some people are straight up cheaters. ...</td>\n      <td>2016-04-05T10:00:00Z</td>\n      <td>29</td>\n      <td>30887288</td>\n      <td>285414</td>\n      <td>28.684</td>\n      <td>14412</td>\n      <td>26</td>\n      <td>342922</td>\n    </tr>\n    <tr>\n      <th>456</th>\n      <td>Wish.com vs. Retail Cost (GAME)</td>\n      <td>Thanks to Wish for sponsoring today’s episode!...</td>\n      <td>2019-03-14T10:00:01Z</td>\n      <td>33</td>\n      <td>3591066</td>\n      <td>51347</td>\n      <td>27.771</td>\n      <td>5228</td>\n      <td>31</td>\n      <td>89574</td>\n    </tr>\n    <tr>\n      <th>1727</th>\n      <td>7 Bromas para el Día de los Inocentes</td>\n      <td>Nunca es demasiado tarde para hacer algunas br...</td>\n      <td>2015-04-01T10:00:00Z</td>\n      <td>35</td>\n      <td>10154395</td>\n      <td>113155</td>\n      <td>27.248</td>\n      <td>17997</td>\n      <td>37</td>\n      <td>176397</td>\n    </tr>\n    <tr>\n      <th>2140</th>\n      <td>6 Legal Things That Should Be Illegal</td>\n      <td>We've decided that if you do any of these thin...</td>\n      <td>2013-10-09T10:00:02Z</td>\n      <td>32</td>\n      <td>8001977</td>\n      <td>68565</td>\n      <td>15.346</td>\n      <td>28520</td>\n      <td>37</td>\n      <td>140951</td>\n    </tr>\n    <tr>\n      <th>2200</th>\n      <td>The Most Amazing Optical Illusions on th</td>\n      <td>Your mind will explode when we show you all th...</td>\n      <td>2013-03-18T14:37:16Z</td>\n      <td>20</td>\n      <td>22403009</td>\n      <td>106198</td>\n      <td>15.266</td>\n      <td>11265</td>\n      <td>50</td>\n      <td>143994</td>\n    </tr>\n    <tr>\n      <th>781</th>\n      <td>Burnt Food Taste Test ft. Padma Lakshmi</td>\n      <td>Can Top Chef's Padma Lakshmi correctly guess b...</td>\n      <td>2018-03-08T11:00:03Z</td>\n      <td>16</td>\n      <td>1949775</td>\n      <td>27244</td>\n      <td>15.054</td>\n      <td>6905</td>\n      <td>46</td>\n      <td>56108</td>\n    </tr>\n    <tr>\n      <th>203</th>\n      <td>Dad Meme Review (Quarantine Episode)</td>\n      <td>Today, we're testing our meme skills and seein...</td>\n      <td>2020-04-08T10:00:37Z</td>\n      <td>17</td>\n      <td>1220111</td>\n      <td>40095</td>\n      <td>14.769</td>\n      <td>4536</td>\n      <td>36</td>\n      <td>63936</td>\n    </tr>\n  </tbody>\n</table>\n</div>"
          },
          "metadata": {}
        }
      ],
      "execution_count": 17
    },
    {
      "cell_type": "code",
      "source": "sns.set(rc={'figure.figsize':(20,5)})\nplot = sns.barplot(y=\"title\", x=\"dislike_count\", data=df_highest_disliked, palette=\"bright\")\nplot.set(xlabel='Thousands of Thumbs Down', ylabel='')\nplt.xticks(rotation=45)\nplot.set_title('Most Thumbed Down Videos')\nplt.xlim(10, 55)",
      "metadata": {
        "tags": [],
        "cell_id": "00017-45e038ac-9c04-4775-9c66-657332e3662a",
        "deepnote_to_be_reexecuted": false,
        "source_hash": "1e0a701",
        "execution_millis": 420,
        "execution_start": 1615653851627,
        "deepnote_cell_type": "code"
      },
      "outputs": [
        {
          "output_type": "execute_result",
          "execution_count": 19,
          "data": {
            "text/plain": "(10.0, 55.0)"
          },
          "metadata": {}
        },
        {
          "data": {
            "text/plain": "<Figure size 1440x360 with 1 Axes>",
            "image/png": "[encoded data removed]"
          },
          "metadata": {},
          "output_type": "display_data"
        }
      ],
      "execution_count": 19
    },
    {
      "cell_type": "code",
      "source": "",
      "metadata": {
        "tags": [],
        "cell_id": "00018-8bc0628e-a856-4c66-8871-9eea9dbd5456",
        "deepnote_cell_type": "code"
      },
      "outputs": [],
      "execution_count": null
    },
    {
      "cell_type": "markdown",
      "source": "<a style='text-decoration:none;line-height:16px;display:flex;color:#5B5B62;padding:10px;justify-content:end;' href='https://deepnote.com?utm_source=created-in-deepnote-cell&projectId=401eace2-3667-422d-960c-9fabaad04025' target=\"_blank\">\n<img style='display:inline;max-height:16px;margin:0px;margin-right:7.5px;' src='data:image/svg+xml;base64,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' > </img>\nCreated in <span style='font-weight:600;margin-left:4px;'>Deepnote</span></a>",
      "metadata": {
        "tags": [],
        "created_in_deepnote_cell": true,
        "deepnote_cell_type": "markdown"
      }
    }
  ],
  "nbformat": 4,
  "nbformat_minor": 2,
  "metadata": {
    "orig_nbformat": 2,
    "deepnote_notebook_id": "2476732b-a816-469c-bdb1-c0d50699ccec",
    "deepnote": {},
    "deepnote_execution_queue": []
  }
}